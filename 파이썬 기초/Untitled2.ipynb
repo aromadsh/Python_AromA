{
 "cells": [
  {
   "cell_type": "markdown",
   "metadata": {},
   "source": [
    "# 지도학습 (Supervied Learning)\n",
    "- 정답을 넣어줘야 함\n",
    "- 정확한 데이터(정확한 레이블)\n",
    "- 학습 : 데이터, 정답\n",
    "\n",
    "## 분류 (Classification)\n",
    "- 동물, 음식등 다양한 사물들의 학습\n",
    "- 스팸 필터 학습\n",
    "- 손글씨 학습\n",
    "- 꽃/나무의 종류들을 학습\n",
    "- 음악에 대한 분류\n",
    "- 미술품에 대한 분류\n",
    "- 사람의 감정에 대한 분류\n",
    "\n",
    "## 회귀 (Regression)\n",
    "- 설탕섭취량에 따른 몸무게의 변화\n",
    "- 수면시간에 따른 일의 만족도\n",
    "- 학력에 따른 월간 독서량\n",
    "- 공부시간에 따른 시험 성적\n",
    "- 맥주 구매에 따른 기저귀 구매비율\n",
    "- 온도에 따른 레모네이드 판매량\n",
    "- 자동차속도에 따른 충돌 시 사망 확률\n",
    "\n",
    "## 예측 (Forecast)\n",
    "- 올해 아보카도의 수확량 예측\n",
    "- 요일별 비행기 판매율\n",
    "- 자전거 수요 예측\n",
    "- 주말에 비가 올 확률 예측\n",
    "- 내년에 태어날 신생인구 예측\n",
    "- 다음달 주가 예측\n",
    "- 서울의 10년후 주택 가격 예측\n",
    "\n",
    "### 알고리즘(Algorithms)\n",
    "- Regression : Linear regression, Logistic regression, Generalised\n",
    "- Classification : Naive Bayes, SVM, Random Decision Forest, KNN"
   ]
  },
  {
   "cell_type": "markdown",
   "metadata": {},
   "source": [
    "# 비지도학습 (Unsupervised Learning)\n",
    "- 정답을 넣어주지 않아도 됨\n",
    "- 데이터 특성/특징 중요\n",
    "- 학습 : 패턴, 차이점을 구별하여 학습\n",
    "\n",
    "## 이상 값 감지 (Anomaly Detection)\n",
    "- 신용카드 거래 감지\n",
    "- 비 정상 세포 감지\n",
    "- 센서 이상 값 감지\n",
    "\n",
    "## 그룹화 (Clustering)\n",
    "- SNS 친구분석\n",
    "- 비슷한 그림 묶음 \n",
    "- 카드 고객들의 레밸링 (사용금액)\n",
    "- 취미가 비슷한 사람들의 묶음\n",
    "\n",
    "### 알고리즘(Algorithms)\n",
    "- Clustering : K-means\n",
    "- Dimensionality Reduction : PCA, SVD"
   ]
  },
  {
   "cell_type": "markdown",
   "metadata": {},
   "source": [
    "# 강화학습 (Reinforcement Learning)\n",
    "- 보상 제공\n",
    "- 행동에 따른 인과관계가 중요\n",
    "- 경험 데이터를 기반으로 학습이 이루어짐\n",
    "\n",
    "## 강화학습 (Reinforcement Learning)\n",
    "- 게임(알파고, 인공지능 체스)\n",
    "- 로봇(로봇의 움직임, 공장자동화)\n",
    "- 자율주행(드론, 자동차, 비행기)\n",
    "\n",
    "### 알고리즘(Algorithms)\n",
    "- Monte-Carlo\n",
    "- Q-learning\n",
    "- Markov Decision"
   ]
  },
  {
   "cell_type": "markdown",
   "metadata": {},
   "source": [
    "# 회귀분석\n",
    "### 독립변수와 종속변수가 선형적인 관계가 있다라는 가정하에 분석 \n",
    "### 직선을 통해 종속변수를 예측하기 때문에 독립변수의 중요도와 영향력을 파악하기 쉬움\n",
    "### 연속형 data의 input으로 연속형 output을 가진다.\n",
    "- 선형 회귀 (Linear Regression) : 직선\n",
    "- 비선형 회귀 (non-Linear Regression) : 곡선\n",
    "- 로지스틱 회귀 (Logistic Regression) : 연속형 data의 input으로 이산형 output을 가진다.\n",
    "(sigmoid:함수는 결과 값을 0~1 사이의 값으로 변환해주는 역할만 한다. / 오차값:cross entropy)\n",
    "(Ridge, Lasso, ElasticNet)\n",
    "\n",
    "# 분류\n",
    "### 독립변수의 조건에 따라 종속변수를 분리\n",
    "### 이해하기 쉬우나 overfitting이 잘 일어남\n",
    "- 의사결정나무 (Decision Tree) : 독립 변수의 조건에 따라 종속변수를 분리, 이해하기 쉬우나 overfitting이 잘 일어남\n",
    "- 랜덤포레스트 (Random Forest)\n",
    "- Neural Network : 입력, 은닉, 출력층으로 구성된 모형으로 각 층의 연결하는 노드의 가중치를 업데이트 하면서 학습\n",
    "- SVM(Support Vector Machine) : class간의 거리가 최대가 되도록 decision boundary를 만드는 방법\n",
    "- Ensemble Learning : 여러 개의 모델을 결합하여 사용하는 모델\n",
    "- K-means : Label없이 데이터 군집 K개로 생성 (비지도 그룹화)"
   ]
  },
  {
   "cell_type": "code",
   "execution_count": null,
   "metadata": {},
   "outputs": [],
   "source": []
  }
 ],
 "metadata": {
  "kernelspec": {
   "display_name": "Python 3",
   "language": "python",
   "name": "python3"
  },
  "language_info": {
   "codemirror_mode": {
    "name": "ipython",
    "version": 3
   },
   "file_extension": ".py",
   "mimetype": "text/x-python",
   "name": "python",
   "nbconvert_exporter": "python",
   "pygments_lexer": "ipython3",
   "version": "3.7.9"
  }
 },
 "nbformat": 4,
 "nbformat_minor": 4
}
