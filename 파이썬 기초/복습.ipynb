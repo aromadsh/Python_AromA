{
 "cells": [
  {
   "cell_type": "markdown",
   "metadata": {},
   "source": [
    "* 1일차 4강 변수 실습 1강"
   ]
  },
  {
   "cell_type": "code",
   "execution_count": 1,
   "metadata": {},
   "outputs": [
    {
     "name": "stdout",
     "output_type": "stream",
     "text": [
      "x 값을 입력해주세요. : 12\n",
      "y 값을 입력해주세요. : 10\n",
      "합의 결과 22.0, 곱의 결과 120.0\n"
     ]
    }
   ],
   "source": [
    "x = float(input(\"x 값을 입력해주세요. : \"))\n",
    "y = float(input(\"y 값을 입력해주세요. : \"))\n",
    "\n",
    "add = x + y\n",
    "multi= x * y\n",
    "\n",
    "print(\"합의 결과 {}, 곱의 결과 {}\".format (add, multi))"
   ]
  },
  {
   "cell_type": "markdown",
   "metadata": {},
   "source": [
    "* 1일차 4강 Boolean과 비교, 논리연산자 실습 1강"
   ]
  },
  {
   "cell_type": "code",
   "execution_count": 6,
   "metadata": {},
   "outputs": [
    {
     "name": "stdout",
     "output_type": "stream",
     "text": [
      "첫번째 점수 : 80\n",
      "두번째 점수 : 50\n",
      "세번째 점수 : 70\n",
      "결과 : False\n"
     ]
    }
   ],
   "source": [
    "score1 = float(input(\"첫번째 점수 : \"))\n",
    "score2 = float(input(\"두번째 점수 : \"))\n",
    "score3 = float(input(\"세번째 점수 : \"))\n",
    "\n",
    "print(\"결과 : {}\".format (score1 >= 65 and score2 >= 65 and score3 >= 65))"
   ]
  },
  {
   "cell_type": "markdown",
   "metadata": {},
   "source": [
    "* 1일차 6강 문자형 실습 1강 (1)"
   ]
  },
  {
   "cell_type": "code",
   "execution_count": 5,
   "metadata": {},
   "outputs": [
    {
     "name": "stdout",
     "output_type": "stream",
     "text": [
      "아무 문자나 입력해주세요. : 안녕하세요 반갑습니다.\n",
      "안녕하세요반갑습니다.\n"
     ]
    }
   ],
   "source": [
    "x = input(\"아무 문자나 입력해주세요. : \")\n",
    "print(x.replace(\" \",\"\"))"
   ]
  },
  {
   "cell_type": "markdown",
   "metadata": {},
   "source": [
    "* 1일차 6강 문자형 실습 1강 (2)"
   ]
  },
  {
   "cell_type": "code",
   "execution_count": 10,
   "metadata": {},
   "outputs": [
    {
     "name": "stdout",
     "output_type": "stream",
     "text": [
      "이름을 입력해 주세요 : 백승엽\n",
      "첫번째 점수를 입력해 주세요 :100\n",
      "두번째 점수를 입력해 주세요 :100\n",
      "세번째 점수를 입력해 주세요 :100\n",
      "저의 이름은 백승엽 이고 총점은 300.0 입니다.\n"
     ]
    }
   ],
   "source": [
    "name = input(\"이름을 입력해 주세요 : \")\n",
    "score1 = float(input(\"첫번째 점수를 입력해 주세요 :\"))\n",
    "score2 = float(input(\"두번째 점수를 입력해 주세요 :\"))\n",
    "score3 = float(input(\"세번째 점수를 입력해 주세요 :\"))\n",
    "\n",
    "score_sum = score1 + score2 + score3\n",
    "\n",
    "print(\"저의 이름은 {} 이고 총점은 {} 입니다.\".format(name, score_sum))"
   ]
  },
  {
   "cell_type": "markdown",
   "metadata": {},
   "source": [
    "*  2일차 7강 리스트와 튜플 실습 2강"
   ]
  },
  {
   "cell_type": "code",
   "execution_count": 19,
   "metadata": {},
   "outputs": [
    {
     "name": "stdout",
     "output_type": "stream",
     "text": [
      "숫자를 입력해주세요 : 20\n",
      "[2, 4, 6, 8, 10, 12, 14, 16, 18, 20, 20]\n"
     ]
    }
   ],
   "source": [
    "x = int(input(\"숫자를 입력해주세요 : \"))\n",
    "y = list(range(2, x+1, 2))\n",
    "y.append(x)\n",
    "print(y)"
   ]
  },
  {
   "cell_type": "markdown",
   "metadata": {},
   "source": [
    "* 2일차 8강 딕셔너리 실습 2강 (1)"
   ]
  },
  {
   "cell_type": "code",
   "execution_count": 24,
   "metadata": {},
   "outputs": [
    {
     "name": "stdout",
     "output_type": "stream",
     "text": [
      "이름을 입력해주세요. : 백승엽\n",
      "나이를 입력해주세요. : 31\n",
      "연락처를 입력해주세요 : 010-6487-8106\n",
      "{'이름': '백승엽', '나이': 31, '연락처': '010-6487-8106'}\n"
     ]
    }
   ],
   "source": [
    "name = input(\"이름을 입력해주세요. : \")\n",
    "age = int(input(\"나이를 입력해주세요. : \"))\n",
    "number = input(\"연락처를 입력해주세요 : \")\n",
    "info = dict(이름 = name, 나이 = age, 연락처 = number)\n",
    "\n",
    "print(info)"
   ]
  },
  {
   "cell_type": "markdown",
   "metadata": {},
   "source": [
    "* 2일차 8강 딕셔너리 실습 2강 (2)"
   ]
  },
  {
   "cell_type": "code",
   "execution_count": 27,
   "metadata": {},
   "outputs": [
    {
     "name": "stdout",
     "output_type": "stream",
     "text": [
      "이름을 입력해주세요. : 백승엽\n",
      "나이를 입력해주세요. : 31\n",
      "연락처를 입력해주세요 : 010-6487-8106\n",
      "이름을 입력해주세요. : 정진희\n",
      "나이를 입력해주세요. : 26\n",
      "연락처를 입력해주세요 : 010-9901-6908\n",
      "[{'이름': '백승엽', '나이': 31, '연락처': '010-6487-8106'}, {'이름': '정진희', '나이': 26, '연락처': '010-9901-6908'}]\n"
     ]
    }
   ],
   "source": [
    "a=[]\n",
    "\n",
    "name1 = input(\"이름을 입력해주세요. : \")\n",
    "age1 = int(input(\"나이를 입력해주세요. : \"))\n",
    "number1 = input(\"연락처를 입력해주세요 : \")\n",
    "info1 = dict(이름 = name1, 나이 = age1, 연락처 = number1)\n",
    "a.append(info1)\n",
    "\n",
    "name2 = input(\"이름을 입력해주세요. : \")\n",
    "age2 = int(input(\"나이를 입력해주세요. : \"))\n",
    "number2 = input(\"연락처를 입력해주세요 : \")\n",
    "info2 = dict(이름 = name2, 나이 = age2, 연락처 = number2)\n",
    "a.append(info2)\n",
    "\n",
    "print(a)"
   ]
  },
  {
   "cell_type": "markdown",
   "metadata": {},
   "source": [
    "* 2일차 10강 조건문 if 실습 2강 (1)"
   ]
  },
  {
   "cell_type": "code",
   "execution_count": 31,
   "metadata": {},
   "outputs": [
    {
     "name": "stdout",
     "output_type": "stream",
     "text": [
      "첫번째 점수를 입력해주세요 : 20\n",
      "두번째 점수를 입력해주세요 : 20\n",
      "세번째 점수를 입력해주세요 : 20\n",
      "불합격\n"
     ]
    }
   ],
   "source": [
    "score1 = float(input(\"첫번째 점수를 입력해주세요 : \"))\n",
    "score2 = float(input(\"두번째 점수를 입력해주세요 : \"))\n",
    "score3 = float(input(\"세번째 점수를 입력해주세요 : \"))\n",
    "\n",
    "if 100 > score1 >= 65 and 100 > score2 >= 65 and 100 > score3 >= 65 :\n",
    "    print(\"합격\")\n",
    "elif 0 < score1 < 65 and 0 < score2 < 65 and 0 < score3 < 65 :\n",
    "    print(\"불합격\")\n",
    "else : \n",
    "    print(\"잘못된 점수가 입력되었습니다.\")\n",
    "    "
   ]
  },
  {
   "cell_type": "markdown",
   "metadata": {},
   "source": [
    "* 2일차 10강 조건문 if 실습 2강 (2)"
   ]
  },
  {
   "cell_type": "code",
   "execution_count": 34,
   "metadata": {},
   "outputs": [],
   "source": [
    "fruit=['사과', '오렌지']\n",
    "vegetable=['당근', '호박']"
   ]
  },
  {
   "cell_type": "code",
   "execution_count": 45,
   "metadata": {},
   "outputs": [
    {
     "name": "stdout",
     "output_type": "stream",
     "text": [
      "등록할 카테고리를 선택해주세요 (과일, 채소) : 과일\n",
      "등록할 과일을 입력해주세요 : 사과\n",
      "이미 등록된 과일 입니다.\n",
      "['사과', '오렌지', '망고']\n"
     ]
    }
   ],
   "source": [
    "category = input(\"등록할 카테고리를 선택해주세요 (과일, 채소) : \")\n",
    "\n",
    "if category == \"과일\" :\n",
    "    zkxprhfl = input(\"등록할 {}을 입력해주세요 : \".format(category))\n",
    "    if zkxprhfl in fruit:\n",
    "        print(\"이미 등록된 과일 입니다.\")\n",
    "        print(fruit)\n",
    "    elif zkxprhfl not in fruit:\n",
    "        fruit.append(zkxprhfl)\n",
    "        print(\"등록되었습니다.\")\n",
    "        print(fruit)\n",
    "\n",
    "elif category == \"채소\" :\n",
    "    zkxprhfl = input(\"등록할 {}을 입력해주세요 : \".format(category))\n",
    "    if zkxprhfl in vegetable:\n",
    "        print(\"이미 등록된 채소 입니다.\")\n",
    "        print(vegetable)\n",
    "    elif zkxprhfl not in vegetable:\n",
    "        vegetable.append(zkxprhfl)\n",
    "        print(\"등록되었습니다.\")\n",
    "        print(vegetable)\n",
    "else :\n",
    "    print(\"존재하지 않는 카테고리입니다.\")\n"
   ]
  },
  {
   "cell_type": "markdown",
   "metadata": {},
   "source": [
    "* 3일차 11강 반복문 for 실습 3강 (1-1)"
   ]
  },
  {
   "cell_type": "code",
   "execution_count": 60,
   "metadata": {},
   "outputs": [
    {
     "name": "stdout",
     "output_type": "stream",
     "text": [
      "[30, 60, 90, 200, -70, 50]\n"
     ]
    }
   ],
   "source": [
    "x=[3, 6, 9, 20, -7, 5]\n",
    "\n",
    "for i in range(len(x)):\n",
    "    x[i]*=10\n",
    "print(x)"
   ]
  },
  {
   "cell_type": "markdown",
   "metadata": {},
   "source": [
    "* 3일차 11강 반복문 for 실습 3강 (1-2)"
   ]
  },
  {
   "cell_type": "code",
   "execution_count": 77,
   "metadata": {},
   "outputs": [
    {
     "name": "stdout",
     "output_type": "stream",
     "text": [
      "{'math': 80, 'science': 90, 'english': 30}\n"
     ]
    }
   ],
   "source": [
    "y={\"math\":70, \"science\":80, \"english\":20}\n",
    "\n",
    "for i in y:\n",
    "    y[i] += 10\n",
    "print(y)"
   ]
  },
  {
   "cell_type": "markdown",
   "metadata": {},
   "source": [
    "* 3일차 11강 반복문 for 실습 3강 (1-3)"
   ]
  },
  {
   "cell_type": "code",
   "execution_count": 80,
   "metadata": {},
   "outputs": [
    {
     "name": "stdout",
     "output_type": "stream",
     "text": [
      "몇단을 출력하시겠습니까? : 3\n",
      "3 * 1 = 3\n",
      "3 * 2 = 6\n",
      "3 * 3 = 9\n",
      "3 * 4 = 12\n",
      "3 * 5 = 15\n",
      "3 * 6 = 18\n",
      "3 * 7 = 21\n",
      "3 * 8 = 24\n",
      "3 * 9 = 27\n"
     ]
    }
   ],
   "source": [
    "rnrneks = int(input(\"몇단을 출력하시겠습니까? : \"))\n",
    "\n",
    "for i in range(1, 10):\n",
    "    print(\"{} * {} = {}\".format(rnrneks, i, rnrneks * i))"
   ]
  },
  {
   "cell_type": "markdown",
   "metadata": {},
   "source": [
    "* 3일차 11강 반복문 for 실습 3강 (2-1)"
   ]
  },
  {
   "cell_type": "code",
   "execution_count": 86,
   "metadata": {},
   "outputs": [
    {
     "name": "stdout",
     "output_type": "stream",
     "text": [
      "['school', 'science', 'mountain']\n"
     ]
    }
   ],
   "source": [
    "words=[\"school\", \"game\", \"piano\", \"science\", \"hotel\", \"mountain\"]\n",
    "fltmxm = []\n",
    "\n",
    "for i in words :\n",
    "    if 6 <= len(i) :\n",
    "        fltmxm.append(i)\n",
    "print(fltmxm)"
   ]
  },
  {
   "cell_type": "markdown",
   "metadata": {},
   "source": [
    "* 3일차 11강 반복문 for 실습 3강 (2-2)"
   ]
  },
  {
   "cell_type": "code",
   "execution_count": 89,
   "metadata": {},
   "outputs": [
    {
     "name": "stdout",
     "output_type": "stream",
     "text": [
      "구구단 1 단\n",
      "1 * 1 = 1\n",
      "1 * 2 = 2\n",
      "1 * 3 = 3\n",
      "1 * 4 = 4\n",
      "1 * 5 = 5\n",
      "1 * 6 = 6\n",
      "1 * 7 = 7\n",
      "1 * 8 = 8\n",
      "1 * 9 = 9\n",
      "구구단 2 단\n",
      "2 * 1 = 2\n",
      "2 * 2 = 4\n",
      "2 * 3 = 6\n",
      "2 * 4 = 8\n",
      "2 * 5 = 10\n",
      "2 * 6 = 12\n",
      "2 * 7 = 14\n",
      "2 * 8 = 16\n",
      "2 * 9 = 18\n",
      "구구단 3 단\n",
      "3 * 1 = 3\n",
      "3 * 2 = 6\n",
      "3 * 3 = 9\n",
      "3 * 4 = 12\n",
      "3 * 5 = 15\n",
      "3 * 6 = 18\n",
      "3 * 7 = 21\n",
      "3 * 8 = 24\n",
      "3 * 9 = 27\n",
      "구구단 4 단\n",
      "4 * 1 = 4\n",
      "4 * 2 = 8\n",
      "4 * 3 = 12\n",
      "4 * 4 = 16\n",
      "4 * 5 = 20\n",
      "4 * 6 = 24\n",
      "4 * 7 = 28\n",
      "4 * 8 = 32\n",
      "4 * 9 = 36\n",
      "구구단 5 단\n",
      "5 * 1 = 5\n",
      "5 * 2 = 10\n",
      "5 * 3 = 15\n",
      "5 * 4 = 20\n",
      "5 * 5 = 25\n",
      "5 * 6 = 30\n",
      "5 * 7 = 35\n",
      "5 * 8 = 40\n",
      "5 * 9 = 45\n",
      "구구단 6 단\n",
      "6 * 1 = 6\n",
      "6 * 2 = 12\n",
      "6 * 3 = 18\n",
      "6 * 4 = 24\n",
      "6 * 5 = 30\n",
      "6 * 6 = 36\n",
      "6 * 7 = 42\n",
      "6 * 8 = 48\n",
      "6 * 9 = 54\n",
      "구구단 7 단\n",
      "7 * 1 = 7\n",
      "7 * 2 = 14\n",
      "7 * 3 = 21\n",
      "7 * 4 = 28\n",
      "7 * 5 = 35\n",
      "7 * 6 = 42\n",
      "7 * 7 = 49\n",
      "7 * 8 = 56\n",
      "7 * 9 = 63\n",
      "구구단 8 단\n",
      "8 * 1 = 8\n",
      "8 * 2 = 16\n",
      "8 * 3 = 24\n",
      "8 * 4 = 32\n",
      "8 * 5 = 40\n",
      "8 * 6 = 48\n",
      "8 * 7 = 56\n",
      "8 * 8 = 64\n",
      "8 * 9 = 72\n",
      "구구단 9 단\n",
      "9 * 1 = 9\n",
      "9 * 2 = 18\n",
      "9 * 3 = 27\n",
      "9 * 4 = 36\n",
      "9 * 5 = 45\n",
      "9 * 6 = 54\n",
      "9 * 7 = 63\n",
      "9 * 8 = 72\n",
      "9 * 9 = 81\n"
     ]
    }
   ],
   "source": [
    "for i in range(1, 10):\n",
    "    print(\"구구단 {} 단\".format(i))\n",
    "    for j in range(1, 10):\n",
    "        print(\"{} * {} = {}\".format(i, j, i*j))"
   ]
  },
  {
   "cell_type": "markdown",
   "metadata": {},
   "source": [
    "* 3일차 11강 반복문 for 실습 3강 (3-1)"
   ]
  },
  {
   "cell_type": "code",
   "execution_count": 22,
   "metadata": {},
   "outputs": [
    {
     "name": "stdout",
     "output_type": "stream",
     "text": [
      "[-7, 3, 5, 6, 9, 20]\n"
     ]
    }
   ],
   "source": [
    "\n",
    "x=[3, 6, 9, 20, -7, 5]\n",
    "\n",
    "for i in range(len(x)-1):\n",
    "    for k in range(len(x)-1-i):\n",
    "        if x[k] > x[k+1]:\n",
    "            temp = x[k]\n",
    "            x[k] = x[k+1]\n",
    "            x[k+1] = temp\n",
    "print(x)"
   ]
  },
  {
   "cell_type": "markdown",
   "metadata": {},
   "source": [
    "* 3일차 11강 반복문 for 실습 3강 (3-2)"
   ]
  },
  {
   "cell_type": "code",
   "execution_count": 99,
   "metadata": {},
   "outputs": [
    {
     "name": "stdout",
     "output_type": "stream",
     "text": [
      "1\n",
      "2\n",
      "3 -> 3의 배수\n",
      "4\n",
      "5 -> 5의 배수\n",
      "6 -> 3의 배수\n",
      "7\n",
      "8\n",
      "9 -> 3의 배수\n",
      "10 -> 5의 배수\n",
      "11\n",
      "12 -> 3의 배수\n",
      "13\n",
      "14\n",
      "15 -> 3의 배수\n",
      "15 -> 3과 5의 공배수\n",
      "16\n",
      "17\n",
      "18 -> 3의 배수\n",
      "19\n",
      "20 -> 5의 배수\n",
      "21 -> 3의 배수\n",
      "22\n",
      "23\n",
      "24 -> 3의 배수\n",
      "25 -> 5의 배수\n",
      "26\n",
      "27 -> 3의 배수\n",
      "28\n",
      "29\n",
      "30 -> 3의 배수\n",
      "30 -> 3과 5의 공배수\n",
      "31\n",
      "32\n",
      "33 -> 3의 배수\n",
      "34\n",
      "35 -> 5의 배수\n",
      "36 -> 3의 배수\n",
      "37\n",
      "38\n",
      "39 -> 3의 배수\n",
      "40 -> 5의 배수\n",
      "41\n",
      "42 -> 3의 배수\n",
      "43\n",
      "44\n",
      "45 -> 3의 배수\n",
      "45 -> 3과 5의 공배수\n",
      "46\n",
      "47\n",
      "48 -> 3의 배수\n",
      "49\n",
      "50 -> 5의 배수\n",
      "51 -> 3의 배수\n",
      "52\n",
      "53\n",
      "54 -> 3의 배수\n",
      "55 -> 5의 배수\n",
      "56\n",
      "57 -> 3의 배수\n",
      "58\n",
      "59\n",
      "60 -> 3의 배수\n",
      "60 -> 3과 5의 공배수\n",
      "61\n",
      "62\n",
      "63 -> 3의 배수\n",
      "64\n",
      "65 -> 5의 배수\n",
      "66 -> 3의 배수\n",
      "67\n",
      "68\n",
      "69 -> 3의 배수\n",
      "70 -> 5의 배수\n",
      "71\n",
      "72 -> 3의 배수\n",
      "73\n",
      "74\n",
      "75 -> 3의 배수\n",
      "75 -> 3과 5의 공배수\n",
      "76\n",
      "77\n",
      "78 -> 3의 배수\n",
      "79\n",
      "80 -> 5의 배수\n",
      "81 -> 3의 배수\n",
      "82\n",
      "83\n",
      "84 -> 3의 배수\n",
      "85 -> 5의 배수\n",
      "86\n",
      "87 -> 3의 배수\n",
      "88\n",
      "89\n",
      "90 -> 3의 배수\n",
      "90 -> 3과 5의 공배수\n",
      "91\n",
      "92\n",
      "93 -> 3의 배수\n",
      "94\n",
      "95 -> 5의 배수\n",
      "96 -> 3의 배수\n",
      "97\n",
      "98\n",
      "99 -> 3의 배수\n",
      "100 -> 5의 배수\n"
     ]
    }
   ],
   "source": [
    "for i in range(1, 101):\n",
    "    if i%3 == 0:\n",
    "        print(f'{i} -> 3의 배수')\n",
    "        if i%3 == 0 and i%5 ==0 :\n",
    "            print(f'{i} -> 3과 5의 공배수')\n",
    "        else :\n",
    "            pass\n",
    "    elif i%5 == 0:\n",
    "        print(f'{i} -> 5의 배수')\n",
    "        if i%3 == 0 and i%5 ==0 :\n",
    "            print(f'{i} -> 3과 5의 공배수')\n",
    "        else :\n",
    "            pass\n",
    "    else :\n",
    "        print(f'{i}')"
   ]
  },
  {
   "cell_type": "markdown",
   "metadata": {},
   "source": [
    "* 3일차 12강 반복문 while 실습 3강 (1)"
   ]
  },
  {
   "cell_type": "code",
   "execution_count": 3,
   "metadata": {},
   "outputs": [
    {
     "name": "stdout",
     "output_type": "stream",
     "text": [
      "값을 입력해주세요 : 20\n",
      "값을 입력해주세요 : 20\n",
      "값을 입력해주세요 : 20\n",
      "값을 입력해주세요 : 0\n",
      "합계는 ? 60.0\n"
     ]
    }
   ],
   "source": [
    "y = 0\n",
    "x = 1\n",
    "while x != 0 :\n",
    "    x = float(input(\"값을 입력해주세요 : \"))\n",
    "    y = y + x\n",
    "\n",
    "print(\"합계는 ? {}\".format(y))"
   ]
  },
  {
   "cell_type": "markdown",
   "metadata": {},
   "source": [
    "* 3일차 12강 반복문 while 실습 3강 (2)"
   ]
  },
  {
   "cell_type": "code",
   "execution_count": 32,
   "metadata": {},
   "outputs": [],
   "source": [
    "# print(\"사용자 : {} / 컴퓨터 : {}\".format(game[x],game[y])) => while 밑에 있으면 안되는 이유가 따로 있나요?\n",
    "import random"
   ]
  },
  {
   "cell_type": "code",
   "execution_count": 33,
   "metadata": {},
   "outputs": [
    {
     "name": "stdout",
     "output_type": "stream",
     "text": [
      "가위(1), 바위(2), 보(3)을 입력해주세요.1\n",
      "사용자 : 가위 / 컴퓨터 : 가위\n",
      "가위(1), 바위(2), 보(3)을 입력해주세요.1\n",
      "사용자 : 가위 / 컴퓨터 : 보\n",
      "가위(1), 바위(2), 보(3)을 입력해주세요.1\n",
      "사용자 : 가위 / 컴퓨터 : 바위\n",
      "가위(1), 바위(2), 보(3)을 입력해주세요.1\n",
      "사용자 : 가위 / 컴퓨터 : 가위\n",
      "가위(1), 바위(2), 보(3)을 입력해주세요.1\n",
      "사용자 : 가위 / 컴퓨터 : 가위\n",
      "가위(1), 바위(2), 보(3)을 입력해주세요.0\n",
      "게임 종료 (전체 : 5, 승리 : 1)\n"
     ]
    }
   ],
   "source": [
    "x=1\n",
    "y=1\n",
    "v=0\n",
    "t=0\n",
    "game = {1:'가위', 2:'바위', 3:'보'}\n",
    "while 0< x <4 :\n",
    "    x=int(input(\"가위(1), 바위(2), 보(3)을 입력해주세요.\"))\n",
    "    y=random.randint(1,3)\n",
    "    \n",
    "    \n",
    "    if x in [1, 2, 3]:\n",
    "        print(\"사용자 : {} / 컴퓨터 : {}\".format(game[x],game[y]))\n",
    "        t+=1\n",
    "    \n",
    "    if (x==1 and y==3) or (x==2 and y==1) or (x==3 and y==2):\n",
    "        v+=1\n",
    "\n",
    "print(\"게임 종료 (전체 : {}, 승리 : {})\".format(t,v))"
   ]
  },
  {
   "cell_type": "markdown",
   "metadata": {},
   "source": [
    "* 3일차 15강 break, contiune 실습 3강 (1-1)"
   ]
  },
  {
   "cell_type": "code",
   "execution_count": 19,
   "metadata": {},
   "outputs": [
    {
     "name": "stdout",
     "output_type": "stream",
     "text": [
      "숫자를 입력하세요 : 10\n",
      "0\n",
      "1\n",
      "2\n",
      "3\n",
      "4\n",
      "5\n",
      "6\n",
      "7\n",
      "8\n",
      "9\n",
      "10\n"
     ]
    }
   ],
   "source": [
    "user = int(input(\"숫자를 입력하세요 : \"))\n",
    "cnt = 0\n",
    "print(cnt)\n",
    "while True:\n",
    "    cnt += 1\n",
    "    if cnt <= user:\n",
    "        print(cnt)\n",
    "    else :\n",
    "        break"
   ]
  },
  {
   "cell_type": "markdown",
   "metadata": {},
   "source": [
    "* 3일차 15강 break, contiune 실습 3강 (1-2)"
   ]
  },
  {
   "cell_type": "code",
   "execution_count": 21,
   "metadata": {},
   "outputs": [
    {
     "name": "stdout",
     "output_type": "stream",
     "text": [
      "숫자를 입력하세요. : 10\n",
      "0\n",
      "2\n",
      "4\n",
      "6\n",
      "8\n",
      "10\n"
     ]
    }
   ],
   "source": [
    "user = int(input(\"숫자를 입력하세요. : \"))\n",
    "for i in range(user+1):\n",
    "    \n",
    "    if i%2 == 0 :\n",
    "        print(i)\n",
    "    else :\n",
    "        continue\n",
    "        "
   ]
  },
  {
   "cell_type": "markdown",
   "metadata": {},
   "source": [
    "* 4일차 13장 리스트 응용 실습 4강 (1-1)"
   ]
  },
  {
   "cell_type": "code",
   "execution_count": 25,
   "metadata": {},
   "outputs": [
    {
     "name": "stdout",
     "output_type": "stream",
     "text": [
      "['school', 'science', 'mountain']\n"
     ]
    }
   ],
   "source": [
    "word=[\"school\", \"game\", \"piano\", \"science\", \"hotel\", \"mountain\"]\n",
    "c=[word[i] for i in range(len(word)) if len(word[i]) >= 6]\n",
    "print(c)"
   ]
  },
  {
   "cell_type": "markdown",
   "metadata": {},
   "source": [
    "* 4일차 13장 리스트 응용 실습 4강 (1-2)"
   ]
  },
  {
   "cell_type": "code",
   "execution_count": 27,
   "metadata": {},
   "outputs": [
    {
     "name": "stdout",
     "output_type": "stream",
     "text": [
      "[6, 4, 5, 7, 5, 8]\n"
     ]
    }
   ],
   "source": [
    "word=[\"school\", \"game\", \"piano\", \"science\", \"hotel\", \"mountain\"]\n",
    "c=[len(i) for i in word]\n",
    "print(c)"
   ]
  },
  {
   "cell_type": "markdown",
   "metadata": {},
   "source": [
    "* 4일차 13장 리스트 응용 실습 4강 (2)"
   ]
  },
  {
   "cell_type": "code",
   "execution_count": 17,
   "metadata": {},
   "outputs": [
    {
     "name": "stdout",
     "output_type": "stream",
     "text": [
      "[[20, 60], [120, 200], [300, 420]]\n"
     ]
    }
   ],
   "source": [
    "a=[[10,20],[30,40],[50,60]]\n",
    "b=[[2,3],[4,5],[6,7]]\n",
    "c=[]\n",
    "\n",
    "for i in range(3):\n",
    "    temp=[]\n",
    "    for j in range(2):\n",
    "        z=a[i][j]*b[i][j]\n",
    "        temp.append(z)\n",
    "    c.append(temp)\n",
    "print(c)\n"
   ]
  },
  {
   "cell_type": "markdown",
   "metadata": {},
   "source": [
    "* 4일차 13장 리스트 응용 실습 4강 (3)"
   ]
  },
  {
   "cell_type": "code",
   "execution_count": 48,
   "metadata": {},
   "outputs": [
    {
     "name": "stdout",
     "output_type": "stream",
     "text": [
      "[[1, 2], [3, 4], [5, 6]]\n"
     ]
    }
   ],
   "source": [
    "a=[]\n",
    "\n",
    "for i in range(3):\n",
    "    temp=[]\n",
    "    for j in range(1+i,3+i):\n",
    "        j+=i\n",
    "        temp.append(j)\n",
    "    a.append(temp)\n",
    "print(a)"
   ]
  },
  {
   "cell_type": "code",
   "execution_count": null,
   "metadata": {},
   "outputs": [],
   "source": [
    "i 0 0 1 1 2 2\n",
    "j 1 2 1 2 1 2\n",
    "  1   2   3"
   ]
  }
 ],
 "metadata": {
  "kernelspec": {
   "display_name": "Python 3",
   "language": "python",
   "name": "python3"
  },
  "language_info": {
   "codemirror_mode": {
    "name": "ipython",
    "version": 3
   },
   "file_extension": ".py",
   "mimetype": "text/x-python",
   "name": "python",
   "nbconvert_exporter": "python",
   "pygments_lexer": "ipython3",
   "version": "3.7.9"
  }
 },
 "nbformat": 4,
 "nbformat_minor": 4
}
