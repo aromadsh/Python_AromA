{
 "cells": [
  {
   "cell_type": "code",
   "execution_count": 2,
   "metadata": {},
   "outputs": [
    {
     "name": "stdout",
     "output_type": "stream",
     "text": [
      "letters\n",
      "-1\n"
     ]
    }
   ],
   "source": [
    "#15\n",
    "\n",
    "letters=input()\n",
    "if letters.find(\"n\") >=0:\n",
    "    print(0)\n",
    "else:\n",
    "    print(-1)"
   ]
  },
  {
   "cell_type": "code",
   "execution_count": 4,
   "metadata": {},
   "outputs": [
    {
     "name": "stdout",
     "output_type": "stream",
     "text": [
      "FIND\n",
      "n이 안들어 있습니다.\n"
     ]
    }
   ],
   "source": [
    "# 16\n",
    "letters=input()\n",
    "if letters.find(\"n\") >=0:\n",
    "    print(\"n이 들어 있습니다.\")\n",
    "else:\n",
    "    print(\"n이 안들어 있습니다.\")"
   ]
  },
  {
   "cell_type": "code",
   "execution_count": 9,
   "metadata": {},
   "outputs": [
    {
     "name": "stdout",
     "output_type": "stream",
     "text": [
      "910309-1054547\n",
      "서울\n"
     ]
    }
   ],
   "source": [
    "# 17\n",
    "id_num = input()\n",
    "area_code = int(id_num.split('-')[1][1:3])\n",
    "if 0 <= area_code < 9:\n",
    "    print(\"서울\")\n",
    "elif 8 < area_code <13:\n",
    "    print(\"부산\")"
   ]
  },
  {
   "cell_type": "code",
   "execution_count": 10,
   "metadata": {},
   "outputs": [
    {
     "name": "stdout",
     "output_type": "stream",
     "text": [
      "['Dave', ' David', ' Andy']\n"
     ]
    }
   ],
   "source": [
    "# 18\n",
    "letters = 'Dave, David, Andy'\n",
    "print(letters.split(','))"
   ]
  },
  {
   "cell_type": "code",
   "execution_count": 12,
   "metadata": {},
   "outputs": [
    {
     "name": "stdout",
     "output_type": "stream",
     "text": [
      "exercise01\n"
     ]
    }
   ],
   "source": [
    "filename = 'exercise01.docx'\n",
    "print(filename.split('.')[0])"
   ]
  },
  {
   "cell_type": "code",
   "execution_count": null,
   "metadata": {},
   "outputs": [],
   "source": []
  }
 ],
 "metadata": {
  "kernelspec": {
   "display_name": "Python 3",
   "language": "python",
   "name": "python3"
  },
  "language_info": {
   "codemirror_mode": {
    "name": "ipython",
    "version": 3
   },
   "file_extension": ".py",
   "mimetype": "text/x-python",
   "name": "python",
   "nbconvert_exporter": "python",
   "pygments_lexer": "ipython3",
   "version": "3.7.9"
  }
 },
 "nbformat": 4,
 "nbformat_minor": 4
}
