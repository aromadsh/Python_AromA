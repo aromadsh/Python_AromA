{
 "cells": [
  {
   "cell_type": "markdown",
   "metadata": {},
   "source": [
    "# 18. 객체와 클래스\n",
    "### 18.1 객체와 클래스\n",
    "- 객체 : 속성(변수)과 행동(함수)으로 구성된 대상\n",
    "- 클래스 : 객체를 만들기 위한 도구(문법)"
   ]
  },
  {
   "cell_type": "code",
   "execution_count": 6,
   "metadata": {},
   "outputs": [],
   "source": [
    "class Dog: #클래스 이름\n",
    "    def __init__(self, name, color):\n",
    "        self.hungry = 0 # 인스턴트 속석\n",
    "        self.name = name\n",
    "        self.color = color\n",
    "    def eat(self): # 인스턴트 매서드\n",
    "        self.hungry -= 10\n",
    "        print(\"밥먹음\", self.hungry)\n",
    "    def walk(self):\n",
    "        self.hungry += 10\n",
    "        print(\"산책\", self.hungry)"
   ]
  },
  {
   "cell_type": "code",
   "execution_count": 7,
   "metadata": {},
   "outputs": [
    {
     "name": "stdout",
     "output_type": "stream",
     "text": [
      "밥먹음 -10\n",
      "밥먹음 -20\n",
      "산책 -10\n",
      "-10\n",
      "0\n"
     ]
    }
   ],
   "source": [
    "choco = Dog(\"choco\", \"black\") # 객체 생성\n",
    "jjong = Dog(\"jjong\", \"white\")\n",
    "\n",
    "choco.eat()\n",
    "choco.eat()\n",
    "choco.walk()\n",
    "print(choco.hungry)\n",
    "print(jjong.hungry)"
   ]
  },
  {
   "cell_type": "markdown",
   "metadata": {},
   "source": [
    "### 18.2 비공개 속성 (private attribute)\n",
    "- 외부에서 속성에 접근하지 못하게 차단\n",
    "- 속성명 앞에 __ 추가"
   ]
  },
  {
   "cell_type": "code",
   "execution_count": 14,
   "metadata": {},
   "outputs": [],
   "source": [
    "class Dog:\n",
    "    def __init__(self, name, color):\n",
    "        self.__hungry = 0 # 비공개 속성\n",
    "        self.name = name\n",
    "        self.color = color    \n",
    "    def eat(self):\n",
    "        if self.__hungry <= 0:\n",
    "            print(\"배가 너무 불러요!\")\n",
    "        else :\n",
    "            self.__hungry -= 10\n",
    "            print(\"밥먹음\", self.__hungry)\n",
    "    def walk(self):\n",
    "        self.__hungry += 10\n",
    "        print(\"산책\", self.__hungry)\n",
    "    def condition(self):\n",
    "        print(\"%s 배고픔 : %d\" % (self.name, self.__hungry))"
   ]
  },
  {
   "cell_type": "code",
   "execution_count": 16,
   "metadata": {},
   "outputs": [
    {
     "name": "stdout",
     "output_type": "stream",
     "text": [
      "배가 너무 불러요!\n",
      "산책 10\n",
      "산책 20\n",
      "mery 배고픔 : 20\n"
     ]
    },
    {
     "ename": "AttributeError",
     "evalue": "'Dog' object has no attribute '__hungry'",
     "output_type": "error",
     "traceback": [
      "\u001b[1;31m---------------------------------------------------------------------------\u001b[0m",
      "\u001b[1;31mAttributeError\u001b[0m                            Traceback (most recent call last)",
      "\u001b[1;32m<ipython-input-16-98db3585b627>\u001b[0m in \u001b[0;36m<module>\u001b[1;34m\u001b[0m\n\u001b[0;32m      4\u001b[0m \u001b[0mmery\u001b[0m\u001b[1;33m.\u001b[0m\u001b[0mwalk\u001b[0m\u001b[1;33m(\u001b[0m\u001b[1;33m)\u001b[0m\u001b[1;33m\u001b[0m\u001b[1;33m\u001b[0m\u001b[0m\n\u001b[0;32m      5\u001b[0m \u001b[0mmery\u001b[0m\u001b[1;33m.\u001b[0m\u001b[0mcondition\u001b[0m\u001b[1;33m(\u001b[0m\u001b[1;33m)\u001b[0m\u001b[1;33m\u001b[0m\u001b[1;33m\u001b[0m\u001b[0m\n\u001b[1;32m----> 6\u001b[1;33m \u001b[0mmery\u001b[0m\u001b[1;33m.\u001b[0m\u001b[0m__hungry\u001b[0m \u001b[1;33m+=\u001b[0m \u001b[1;36m100\u001b[0m \u001b[1;31m# 오류\u001b[0m\u001b[1;33m\u001b[0m\u001b[1;33m\u001b[0m\u001b[0m\n\u001b[0m",
      "\u001b[1;31mAttributeError\u001b[0m: 'Dog' object has no attribute '__hungry'"
     ]
    }
   ],
   "source": [
    "mery = Dog(\"mery\", \"black\")\n",
    "mery.eat()\n",
    "mery.walk()\n",
    "mery.walk()\n",
    "mery.condition()\n",
    "mery.__hungry += 100 # 오류"
   ]
  },
  {
   "cell_type": "markdown",
   "metadata": {},
   "source": [
    "### 18.3 클래스 속성 (class attribut)\n",
    "- 모든 객체(인스턴스)가 공유하는 속성\n",
    "- 객체없이 클래스명으로 접근가능"
   ]
  },
  {
   "cell_type": "code",
   "execution_count": 17,
   "metadata": {},
   "outputs": [],
   "source": [
    "class Dog :\n",
    "    dog_count = 0  # 클래스 속성\n",
    "    \n",
    "    def __init__(self, name, color):\n",
    "        self.name = name # 인스턴스 속성\n",
    "        self.color = color\n",
    "        Dog.dog_count += 1 # 클래스 속성 접근\n",
    "        \n",
    "    def dogCount(self):\n",
    "        print(\"총 강아지는 : \", Dog.dog_count)"
   ]
  },
  {
   "cell_type": "code",
   "execution_count": 18,
   "metadata": {},
   "outputs": [
    {
     "name": "stdout",
     "output_type": "stream",
     "text": [
      "총 강아지는 :  1\n",
      "총 강아지는 :  2\n"
     ]
    }
   ],
   "source": [
    "hello = Dog(\"hello\", \"black\")\n",
    "hello.dogCount()\n",
    "happy = Dog(\"happy\", \"black\")\n",
    "happy.dogCount()"
   ]
  },
  {
   "cell_type": "markdown",
   "metadata": {},
   "source": [
    "### 18.4 정적 메서드 (static method, class method)\n",
    "- 객체없이 클래스명으로 접근가능\n",
    "- 인스턴스 속성, 인스턴스 메서드 접근 불가"
   ]
  },
  {
   "cell_type": "code",
   "execution_count": null,
   "metadata": {},
   "outputs": [],
   "source": []
  }
 ],
 "metadata": {
  "kernelspec": {
   "display_name": "Python 3",
   "language": "python",
   "name": "python3"
  },
  "language_info": {
   "codemirror_mode": {
    "name": "ipython",
    "version": 3
   },
   "file_extension": ".py",
   "mimetype": "text/x-python",
   "name": "python",
   "nbconvert_exporter": "python",
   "pygments_lexer": "ipython3",
   "version": "3.7.9"
  }
 },
 "nbformat": 4,
 "nbformat_minor": 4
}
