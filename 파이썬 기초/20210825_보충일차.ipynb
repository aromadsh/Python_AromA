{
 "cells": [
  {
   "cell_type": "markdown",
   "metadata": {},
   "source": [
    "# 18. 객체와 클래스\n",
    "### 18.1 객체와 클래스\n",
    "- 객체 : 속성(변수)과 행동(함수)으로 구성된 대상\n",
    "- 클래스 : 객체를 만들기 위한 도구(문법)"
   ]
  },
  {
   "cell_type": "code",
   "execution_count": 6,
   "metadata": {},
   "outputs": [],
   "source": [
    "class Dog: #클래스 이름\n",
    "    def __init__(self, name, color):\n",
    "        self.hungry = 0 # 인스턴트 속석\n",
    "        self.name = name\n",
    "        self.color = color\n",
    "    def eat(self): # 인스턴트 매서드\n",
    "        self.hungry -= 10\n",
    "        print(\"밥먹음\", self.hungry)\n",
    "    def walk(self):\n",
    "        self.hungry += 10\n",
    "        print(\"산책\", self.hungry)"
   ]
  },
  {
   "cell_type": "code",
   "execution_count": 7,
   "metadata": {},
   "outputs": [
    {
     "name": "stdout",
     "output_type": "stream",
     "text": [
      "밥먹음 -10\n",
      "밥먹음 -20\n",
      "산책 -10\n",
      "-10\n",
      "0\n"
     ]
    }
   ],
   "source": [
    "choco = Dog(\"choco\", \"black\") # 객체 생성\n",
    "jjong = Dog(\"jjong\", \"white\")\n",
    "\n",
    "choco.eat()\n",
    "choco.eat()\n",
    "choco.walk()\n",
    "print(choco.hungry)\n",
    "print(jjong.hungry)"
   ]
  },
  {
   "cell_type": "markdown",
   "metadata": {},
   "source": [
    "### 18.2 비공개 속성 (private attribute)\n",
    "- 외부에서 속성에 접근하지 못하게 차단\n",
    "- 속성명 앞에 __ 추가"
   ]
  },
  {
   "cell_type": "code",
   "execution_count": 14,
   "metadata": {},
   "outputs": [],
   "source": [
    "class Dog:\n",
    "    def __init__(self, name, color):\n",
    "        self.__hungry = 0 # 비공개 속성\n",
    "        self.name = name\n",
    "        self.color = color    \n",
    "    def eat(self):\n",
    "        if self.__hungry <= 0:\n",
    "            print(\"배가 너무 불러요!\")\n",
    "        else :\n",
    "            self.__hungry -= 10\n",
    "            print(\"밥먹음\", self.__hungry)\n",
    "    def walk(self):\n",
    "        self.__hungry += 10\n",
    "        print(\"산책\", self.__hungry)\n",
    "    def condition(self):\n",
    "        print(\"%s 배고픔 : %d\" % (self.name, self.__hungry))"
   ]
  },
  {
   "cell_type": "code",
   "execution_count": 16,
   "metadata": {},
   "outputs": [
    {
     "name": "stdout",
     "output_type": "stream",
     "text": [
      "배가 너무 불러요!\n",
      "산책 10\n",
      "산책 20\n",
      "mery 배고픔 : 20\n"
     ]
    },
    {
     "ename": "AttributeError",
     "evalue": "'Dog' object has no attribute '__hungry'",
     "output_type": "error",
     "traceback": [
      "\u001b[1;31m---------------------------------------------------------------------------\u001b[0m",
      "\u001b[1;31mAttributeError\u001b[0m                            Traceback (most recent call last)",
      "\u001b[1;32m<ipython-input-16-98db3585b627>\u001b[0m in \u001b[0;36m<module>\u001b[1;34m\u001b[0m\n\u001b[0;32m      4\u001b[0m \u001b[0mmery\u001b[0m\u001b[1;33m.\u001b[0m\u001b[0mwalk\u001b[0m\u001b[1;33m(\u001b[0m\u001b[1;33m)\u001b[0m\u001b[1;33m\u001b[0m\u001b[1;33m\u001b[0m\u001b[0m\n\u001b[0;32m      5\u001b[0m \u001b[0mmery\u001b[0m\u001b[1;33m.\u001b[0m\u001b[0mcondition\u001b[0m\u001b[1;33m(\u001b[0m\u001b[1;33m)\u001b[0m\u001b[1;33m\u001b[0m\u001b[1;33m\u001b[0m\u001b[0m\n\u001b[1;32m----> 6\u001b[1;33m \u001b[0mmery\u001b[0m\u001b[1;33m.\u001b[0m\u001b[0m__hungry\u001b[0m \u001b[1;33m+=\u001b[0m \u001b[1;36m100\u001b[0m \u001b[1;31m# 오류\u001b[0m\u001b[1;33m\u001b[0m\u001b[1;33m\u001b[0m\u001b[0m\n\u001b[0m",
      "\u001b[1;31mAttributeError\u001b[0m: 'Dog' object has no attribute '__hungry'"
     ]
    }
   ],
   "source": [
    "mery = Dog(\"mery\", \"black\")\n",
    "mery.eat()\n",
    "mery.walk()\n",
    "mery.walk()\n",
    "mery.condition()\n",
    "mery.__hungry += 100 # 오류"
   ]
  },
  {
   "cell_type": "markdown",
   "metadata": {},
   "source": [
    "### 18.3 클래스 속성 (class attribut)\n",
    "- 모든 객체(인스턴스)가 공유하는 속성\n",
    "- 객체없이 클래스명으로 접근가능"
   ]
  },
  {
   "cell_type": "code",
   "execution_count": 17,
   "metadata": {},
   "outputs": [],
   "source": [
    "class Dog :\n",
    "    dog_count = 0  # 클래스 속성\n",
    "    \n",
    "    def __init__(self, name, color):\n",
    "        self.name = name # 인스턴스 속성\n",
    "        self.color = color\n",
    "        Dog.dog_count += 1 # 클래스 속성 접근\n",
    "        \n",
    "    def dogCount(self):\n",
    "        print(\"총 강아지는 : \", Dog.dog_count)"
   ]
  },
  {
   "cell_type": "code",
   "execution_count": 18,
   "metadata": {},
   "outputs": [
    {
     "name": "stdout",
     "output_type": "stream",
     "text": [
      "총 강아지는 :  1\n",
      "총 강아지는 :  2\n"
     ]
    }
   ],
   "source": [
    "hello = Dog(\"hello\", \"black\")\n",
    "hello.dogCount()\n",
    "happy = Dog(\"happy\", \"black\")\n",
    "happy.dogCount()"
   ]
  },
  {
   "cell_type": "markdown",
   "metadata": {},
   "source": [
    "### 18.4 정적 메서드 (static method, class method)\n",
    "- 객체없이 클래스명으로 접근가능\n",
    "- 인스턴스 속성, 인스턴스 메서드 접근 불가"
   ]
  },
  {
   "cell_type": "code",
   "execution_count": 2,
   "metadata": {},
   "outputs": [
    {
     "name": "stdout",
     "output_type": "stream",
     "text": [
      "30\n"
     ]
    }
   ],
   "source": [
    "class Calc :\n",
    "    @staticmethod\n",
    "    def add(a, b):\n",
    "        print(a + b)\n",
    "Calc.add(10, 20)"
   ]
  },
  {
   "cell_type": "code",
   "execution_count": 3,
   "metadata": {},
   "outputs": [
    {
     "name": "stdout",
     "output_type": "stream",
     "text": [
      "70\n"
     ]
    }
   ],
   "source": [
    "class Calc2 : \n",
    "    @classmethod\n",
    "    def add(cls, a, b):\n",
    "        print(a + b)\n",
    "Calc.add(30, 40)"
   ]
  },
  {
   "cell_type": "markdown",
   "metadata": {},
   "source": [
    "### 실습 01\n",
    "**Car 클래스를 만드세요**\n",
    "- 객체 생성시 차이름, 배기량, 생산년도 입력받고 인스턴스 속성으로 만들어주세요.\n",
    "- 차이름, 배기량, 생산년도는 직접 변경하지 못합니다.\n",
    "- 차이름을 확인하는 함수와 변경하는 함수를 만드세요\n",
    "\n",
    "- 배기량에 따라 1000cc 보다 작으면 소형, 1000cc 이상 2000cc 이하 중형, 2000cc 보다 크면 대형을 출력하는 인스턴스 함수를 만드세요\n",
    "\n",
    "- 객체 생성시마다 등록된 차량 갯수를 기록하는 클래스 속성을 만들어주세요\n",
    "- 총 등록된 차량개수를 출력하는 클래스 함수를 만드세요"
   ]
  },
  {
   "cell_type": "code",
   "execution_count": 14,
   "metadata": {},
   "outputs": [],
   "source": [
    "class Car : \n",
    "    \n",
    "    count = 0\n",
    "    \n",
    "    def __init__(self, name, cc, year) :\n",
    "        self.name = name\n",
    "        self.cc = cc\n",
    "        self.year = year\n",
    "        Car.count += 1\n",
    "    \n",
    "    def lookup (self):\n",
    "        print(self.name)\n",
    "        print(self.cc)\n",
    "        print(self.year)\n",
    "    \n",
    "    def correction (self):\n",
    "        re_name = input(\"수정하려는 이름을 적어주세요.\")\n",
    "        self.name = re_name\n",
    "        return self.name\n",
    "    \n",
    "    def cc_classification (self) :\n",
    "        if self.cc < 1000:\n",
    "            print(\"{} : 소형\".format(self.name))\n",
    "        elif 1000 <= self.cc <= 2000 :\n",
    "            print(\"{} : 중형\".format(self.name))\n",
    "        else :\n",
    "            print(\"{} : 대형\".format(self.name))\n",
    "            \n",
    "    def car_count (self):\n",
    "        print(f\"등록된 차량 갯수 : {Car.count}\")"
   ]
  },
  {
   "cell_type": "code",
   "execution_count": 15,
   "metadata": {},
   "outputs": [],
   "source": [
    "a = Car(\"가\", 2000, 2020)\n",
    "b = Car(\"나\", 1000, 2019)\n",
    "c = Car(\"다\", 4000, 2016)"
   ]
  },
  {
   "cell_type": "code",
   "execution_count": 16,
   "metadata": {},
   "outputs": [
    {
     "name": "stdout",
     "output_type": "stream",
     "text": [
      "다 : 대형\n"
     ]
    }
   ],
   "source": [
    "c.cc_classification()"
   ]
  },
  {
   "cell_type": "code",
   "execution_count": 17,
   "metadata": {},
   "outputs": [
    {
     "name": "stdout",
     "output_type": "stream",
     "text": [
      "등록된 차량 갯수 : 3\n"
     ]
    }
   ],
   "source": [
    "a.car_count()"
   ]
  },
  {
   "cell_type": "markdown",
   "metadata": {},
   "source": [
    "### 18.5 상속\n",
    "- 공통되는 내용은 부모 클래스로 만들고\n",
    "- 클래스(자식)를 만들때 공통되는 내용을 부모 클래스로부터 상속"
   ]
  },
  {
   "cell_type": "markdown",
   "metadata": {},
   "source": [
    "**부모클래스**"
   ]
  },
  {
   "cell_type": "code",
   "execution_count": 19,
   "metadata": {},
   "outputs": [],
   "source": [
    "class Animal :\n",
    "    def __init__(self) :\n",
    "        self.hungry = 0\n",
    "    def eat(self) :\n",
    "        self.hungry -= 10\n",
    "        print(\"밥먹음\", self.hungry)\n",
    "    def walk(self) : \n",
    "        self.hungry += 10\n",
    "        print(\"산책\", self.hungry)"
   ]
  },
  {
   "cell_type": "markdown",
   "metadata": {},
   "source": [
    "**자식클래스**"
   ]
  },
  {
   "cell_type": "code",
   "execution_count": 20,
   "metadata": {},
   "outputs": [],
   "source": [
    "class Dog (Animal):\n",
    "    def __init__(self):\n",
    "        super().__init__()\n",
    "    def sound(self):\n",
    "        print(\"멍멍\")\n",
    "\n",
    "class Cat(Animal):\n",
    "    def __init__(self):\n",
    "        super().__init__()\n",
    "    def sound(self):\n",
    "        print(\"야옹\")"
   ]
  },
  {
   "cell_type": "code",
   "execution_count": 21,
   "metadata": {},
   "outputs": [
    {
     "name": "stdout",
     "output_type": "stream",
     "text": [
      "멍멍\n"
     ]
    }
   ],
   "source": [
    "dog = Dog()\n",
    "dog.sound()"
   ]
  },
  {
   "cell_type": "code",
   "execution_count": 22,
   "metadata": {},
   "outputs": [
    {
     "name": "stdout",
     "output_type": "stream",
     "text": [
      "산책 10\n"
     ]
    }
   ],
   "source": [
    "dog.walk()"
   ]
  },
  {
   "cell_type": "code",
   "execution_count": 23,
   "metadata": {},
   "outputs": [
    {
     "name": "stdout",
     "output_type": "stream",
     "text": [
      "산책 20\n"
     ]
    }
   ],
   "source": [
    "dog.walk()"
   ]
  },
  {
   "cell_type": "code",
   "execution_count": 24,
   "metadata": {},
   "outputs": [
    {
     "name": "stdout",
     "output_type": "stream",
     "text": [
      "야옹\n"
     ]
    }
   ],
   "source": [
    "cat = Cat()\n",
    "cat.sound()"
   ]
  },
  {
   "cell_type": "code",
   "execution_count": 25,
   "metadata": {},
   "outputs": [
    {
     "name": "stdout",
     "output_type": "stream",
     "text": [
      "산책 10\n"
     ]
    }
   ],
   "source": [
    "cat.walk()"
   ]
  },
  {
   "cell_type": "markdown",
   "metadata": {},
   "source": [
    "### 18.6 오버라이딩\n",
    "- 부모의 기능을 물려받고 일부기능수정"
   ]
  },
  {
   "cell_type": "markdown",
   "metadata": {},
   "source": [
    "**부모클래스**"
   ]
  },
  {
   "cell_type": "code",
   "execution_count": 8,
   "metadata": {},
   "outputs": [],
   "source": [
    "class Animal : \n",
    "    def __init__(self) : \n",
    "        self.hungry = 0\n",
    "    def eat(self):\n",
    "        self.hungry -= 10\n",
    "        print(\"밥먹음\", self.hungry)\n",
    "    def walk(self) :\n",
    "        self.hungry += 10\n",
    "        print(\"산책\", self.hungry)"
   ]
  },
  {
   "cell_type": "markdown",
   "metadata": {},
   "source": [
    "**자식클래스**"
   ]
  },
  {
   "cell_type": "code",
   "execution_count": 9,
   "metadata": {},
   "outputs": [],
   "source": [
    "class Dog(Animal) : \n",
    "    def __init__(self) : \n",
    "        super().__init__()\n",
    "    def sound(self) :\n",
    "        print(\"멍멍\")\n",
    "    def eat(self) : \n",
    "        super().eat()\n",
    "        print(\"왈왈\")"
   ]
  },
  {
   "cell_type": "code",
   "execution_count": 10,
   "metadata": {},
   "outputs": [
    {
     "name": "stdout",
     "output_type": "stream",
     "text": [
      "밥먹음 -10\n",
      "왈왈\n"
     ]
    }
   ],
   "source": [
    "dog = Dog()\n",
    "dog.eat()"
   ]
  },
  {
   "cell_type": "markdown",
   "metadata": {},
   "source": [
    "### 18.7 추상클래스\n",
    "- 상속받는 클래스의 메서드 구현을 강제"
   ]
  },
  {
   "cell_type": "markdown",
   "metadata": {},
   "source": [
    "**부모클래스**"
   ]
  },
  {
   "cell_type": "code",
   "execution_count": 12,
   "metadata": {},
   "outputs": [],
   "source": [
    "from abc import *\n",
    "\n",
    "class Animal(metaclass = ABCMeta) : \n",
    "    def __init__(self) : \n",
    "        self.hungry = 0\n",
    "    \n",
    "    @abstractmethod\n",
    "    \n",
    "    def sound(self) : \n",
    "        self.hungry -= 10\n",
    "        print(\"밥먹음\", self.hungry)\n",
    "    \n",
    "    def walk(self) :\n",
    "        self.hungry += 10\n",
    "        print(\"산책\", self.hungry)"
   ]
  },
  {
   "cell_type": "markdown",
   "metadata": {},
   "source": [
    "**자식클래스**"
   ]
  },
  {
   "cell_type": "code",
   "execution_count": 13,
   "metadata": {},
   "outputs": [],
   "source": [
    "class Dog(Animal) :\n",
    "    def __init__(self) :\n",
    "        super().__init__()\n",
    "    \n",
    "    def sound(self) : \n",
    "        print(\"멍멍\")\n",
    "    \n",
    "    def eat(self) :\n",
    "        super().eat()\n",
    "        print(\"왈왈\")"
   ]
  },
  {
   "cell_type": "code",
   "execution_count": 14,
   "metadata": {},
   "outputs": [
    {
     "name": "stdout",
     "output_type": "stream",
     "text": [
      "멍멍\n"
     ]
    }
   ],
   "source": [
    "dog = Dog()\n",
    "dog.sound()"
   ]
  },
  {
   "cell_type": "markdown",
   "metadata": {},
   "source": [
    "### 18.8 static method, class method 차이점 2"
   ]
  },
  {
   "cell_type": "code",
   "execution_count": 20,
   "metadata": {},
   "outputs": [],
   "source": [
    "class Animal : \n",
    "    type = \"동물\"\n",
    "    \n",
    "    @staticmethod\n",
    "    def getType1() :\n",
    "        return Animal.type\n",
    "    \n",
    "    @classmethod\n",
    "    def getType2(cls) : \n",
    "        return cls.type\n",
    "    \n",
    "    def __init__(self) :\n",
    "        self.hungry = 0\n",
    "        \n",
    "class Dog(Animal) : \n",
    "    \n",
    "    type = \"강아지\"\n",
    "    \n",
    "    def __init__(self) :\n",
    "        super().__init__()\n",
    "        \n",
    "    def sound(self) : \n",
    "        print(\"멍멍\")"
   ]
  },
  {
   "cell_type": "code",
   "execution_count": 21,
   "metadata": {},
   "outputs": [
    {
     "data": {
      "text/plain": [
       "'동물'"
      ]
     },
     "execution_count": 21,
     "metadata": {},
     "output_type": "execute_result"
    }
   ],
   "source": [
    "Dog.getType1()"
   ]
  },
  {
   "cell_type": "code",
   "execution_count": 22,
   "metadata": {},
   "outputs": [
    {
     "data": {
      "text/plain": [
       "'강아지'"
      ]
     },
     "execution_count": 22,
     "metadata": {},
     "output_type": "execute_result"
    }
   ],
   "source": [
    "Dog.getType2()"
   ]
  },
  {
   "cell_type": "markdown",
   "metadata": {},
   "source": [
    "### 실습 02\n",
    "\n",
    "**1. Character 클래스를 만들어 주세요.**\n",
    "- Character 클래스는 health 속성을 추가해주세요 (생성시 200)\n",
    "- Character 클래스는 move() 메서드를 추가하고 메서드 사용시 health가 -10 이 됩니다.\n",
    "- Character 클래스는 rest() 메서드를 추가해서 메서드 사용시 health가 +10이 됩니다.\n",
    "- 현재 Health를 알 수 있는 checkHealth() 메서드를 추가해주세요."
   ]
  },
  {
   "cell_type": "code",
   "execution_count": 1,
   "metadata": {},
   "outputs": [],
   "source": [
    "class Character :\n",
    "    def __init__(self):\n",
    "        self.health = 200\n",
    "        \n",
    "    def move(self):\n",
    "        print(\"move\")\n",
    "        self.health -= 10\n",
    "        \n",
    "    def rest(self):\n",
    "        print(\"rest\")\n",
    "        self.health += 10\n",
    "        \n",
    "    def checkHealth(self):\n",
    "        print(\"{}\".format(self.health))"
   ]
  },
  {
   "cell_type": "code",
   "execution_count": 4,
   "metadata": {},
   "outputs": [
    {
     "name": "stdout",
     "output_type": "stream",
     "text": [
      "move\n",
      "move\n",
      "move\n",
      "rest\n",
      "180\n"
     ]
    }
   ],
   "source": [
    "character = Character()\n",
    "character.move()\n",
    "character.move()\n",
    "character.move()\n",
    "character.rest()\n",
    "character.checkHealth()"
   ]
  },
  {
   "cell_type": "markdown",
   "metadata": {},
   "source": [
    "**1. Knight와 Healer 클래스 만들어 주세요.**\n",
    "- Knight 와 Healer 클래스는 Character 클래스를 상속합니다.\n",
    "- Knight 클래스는 move() 사용시 Health가 -5 더 소모\n",
    "- Knight 클래스는 attack() 추가하고 실행시 공격합니다를 출력해주세요.\n",
    "- Healer 클래스는 mana속성을 추가해주세요 (생성시 100)\n",
    "- Healer 클래스는 heal(character) 메서드를 추가하고 메서드는 character 들을 매개변수로 받습니다.\n",
    "- Healer 클래스는 heal(character) 메서드 실행시 mana가 -10되고 전달받은 character 객체의 rest() 메서드를 실행합니다.\n",
    "- Healer 클래스는 현재 마나속성을 확인할 수 있는 checkMana() 메서드를 추가해주세요."
   ]
  },
  {
   "cell_type": "code",
   "execution_count": 10,
   "metadata": {},
   "outputs": [],
   "source": [
    "class Knight (Character) : \n",
    "    \n",
    "    def __init__(self):\n",
    "        super().__init__()\n",
    "        \n",
    "    def move(self):\n",
    "        super().move()\n",
    "        print(\"move\")\n",
    "        self.health -= 5\n",
    "    \n",
    "    def attack(self):\n",
    "        print(\"공격합니다.\")\n",
    "        \n",
    "class Healer (Character) :\n",
    "    \n",
    "    def __init__(self):\n",
    "        super().__init__()\n",
    "        self.mana = 100\n",
    "    \n",
    "    def heal(self, charactor):\n",
    "        self.mana -= 10\n",
    "        charactor.rest()\n",
    "        \n",
    "    def checkMana(self):\n",
    "        print(\"{}\".format(self.mana))"
   ]
  },
  {
   "cell_type": "code",
   "execution_count": 11,
   "metadata": {},
   "outputs": [
    {
     "name": "stdout",
     "output_type": "stream",
     "text": [
      "200\n",
      "move\n",
      "move\n",
      "185\n",
      "공격합니다.\n",
      "200\n",
      "move\n",
      "190\n",
      "185\n",
      "rest\n",
      "195\n",
      "90\n"
     ]
    }
   ],
   "source": [
    "knight = Knight()\n",
    "\n",
    "knight.checkHealth()\n",
    "knight.move()\n",
    "knight.checkHealth()\n",
    "knight.attack()\n",
    "\n",
    "healer = Healer()\n",
    "\n",
    "healer.checkHealth()\n",
    "healer.move()\n",
    "healer.checkHealth()\n",
    "knight.checkHealth()\n",
    "healer.heal(knight)\n",
    "knight.checkHealth()\n",
    "healer.checkMana()"
   ]
  },
  {
   "cell_type": "code",
   "execution_count": null,
   "metadata": {},
   "outputs": [],
   "source": []
  }
 ],
 "metadata": {
  "kernelspec": {
   "display_name": "Python 3",
   "language": "python",
   "name": "python3"
  },
  "language_info": {
   "codemirror_mode": {
    "name": "ipython",
    "version": 3
   },
   "file_extension": ".py",
   "mimetype": "text/x-python",
   "name": "python",
   "nbconvert_exporter": "python",
   "pygments_lexer": "ipython3",
   "version": "3.7.9"
  }
 },
 "nbformat": 4,
 "nbformat_minor": 4
}
