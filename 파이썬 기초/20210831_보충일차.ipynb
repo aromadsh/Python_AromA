{
 "cells": [
  {
   "cell_type": "markdown",
   "metadata": {},
   "source": [
    "# 19. 예외처리\n",
    "\n",
    "### 19.1 예외처리\n",
    "\n",
    "###### 19.1.1 프로그램을 실행하다 발생하는 오류"
   ]
  },
  {
   "cell_type": "code",
   "execution_count": 1,
   "metadata": {},
   "outputs": [
    {
     "ename": "ZeroDivisionError",
     "evalue": "division by zero",
     "output_type": "error",
     "traceback": [
      "\u001b[1;31m---------------------------------------------------------------------------\u001b[0m",
      "\u001b[1;31mZeroDivisionError\u001b[0m                         Traceback (most recent call last)",
      "\u001b[1;32m<ipython-input-1-65966e0a195f>\u001b[0m in \u001b[0;36m<module>\u001b[1;34m\u001b[0m\n\u001b[1;32m----> 1\u001b[1;33m \u001b[0mprint\u001b[0m\u001b[1;33m(\u001b[0m\u001b[1;36m10\u001b[0m \u001b[1;33m/\u001b[0m \u001b[1;36m0\u001b[0m\u001b[1;33m)\u001b[0m\u001b[1;33m\u001b[0m\u001b[1;33m\u001b[0m\u001b[0m\n\u001b[0m",
      "\u001b[1;31mZeroDivisionError\u001b[0m: division by zero"
     ]
    }
   ],
   "source": [
    "print(10 / 0)"
   ]
  },
  {
   "cell_type": "code",
   "execution_count": 2,
   "metadata": {},
   "outputs": [
    {
     "name": "stdout",
     "output_type": "stream",
     "text": [
      "예외오류발생\n"
     ]
    }
   ],
   "source": [
    "try : \n",
    "    print(10 / 0) #실행할코드\n",
    "except :\n",
    "    print(\"예외오류발생\") #예외발생시 코드"
   ]
  },
  {
   "cell_type": "markdown",
   "metadata": {},
   "source": [
    "### 19.2 특정예외만 처리"
   ]
  },
  {
   "cell_type": "code",
   "execution_count": 10,
   "metadata": {},
   "outputs": [
    {
     "name": "stdout",
     "output_type": "stream",
     "text": [
      "잘못된 인덱스 list index out of range\n"
     ]
    }
   ],
   "source": [
    "x = [1, 2, 3]\n",
    "\n",
    "try : \n",
    "#     print(10 / 0)\n",
    "    x[5]\n",
    "    \n",
    "except ZeroDivisionError as e:\n",
    "    print(\"숫자를 0으로 나눌수 없음\", e)\n",
    "\n",
    "except IndexError as e :\n",
    "    print(\"잘못된 인덱스\", e)"
   ]
  },
  {
   "cell_type": "markdown",
   "metadata": {},
   "source": [
    "### 19.3 예외처리 else와 finally"
   ]
  },
  {
   "cell_type": "code",
   "execution_count": 25,
   "metadata": {},
   "outputs": [
    {
     "name": "stdout",
     "output_type": "stream",
     "text": [
      "10.0\n",
      "오류발생하지 않음\n",
      "무조건 실행\n"
     ]
    }
   ],
   "source": [
    "try :\n",
    "    print(10 / 1)\n",
    "\n",
    "except : \n",
    "    print(\"예외오류발생\")\n",
    "\n",
    "else :\n",
    "    print(\"오류발생하지 않음\") # 오류가 발생하지 않을 때만 작동\n",
    "    \n",
    "finally : \n",
    "    print(\"무조건 실행\") # 오류발생여부 상관없이 무조건 동작"
   ]
  },
  {
   "cell_type": "markdown",
   "metadata": {},
   "source": [
    "### 19.4 예외 발생시키기 raise"
   ]
  },
  {
   "cell_type": "code",
   "execution_count": 6,
   "metadata": {},
   "outputs": [
    {
     "name": "stdout",
     "output_type": "stream",
     "text": [
      "예외발생 예외강제발생\n"
     ]
    }
   ],
   "source": [
    "try :\n",
    "    raise Exception(\"예외강제발생\")\n",
    "\n",
    "except Exception as e : \n",
    "    print(\"예외발생\", e)"
   ]
  },
  {
   "cell_type": "code",
   "execution_count": 7,
   "metadata": {},
   "outputs": [
    {
     "name": "stdout",
     "output_type": "stream",
     "text": [
      "예외발생 나의 오류\n"
     ]
    }
   ],
   "source": [
    "class MyError(Exception) : \n",
    "    def __init__(self) :\n",
    "        super().__init__(\"나의 오류\")\n",
    "        \n",
    "try: \n",
    "    raise MyError\n",
    "    \n",
    "except Exception as e:\n",
    "    print(\"예외발생\", e)"
   ]
  },
  {
   "cell_type": "markdown",
   "metadata": {},
   "source": [
    "### 실습 01\n",
    "**아래의 코드를 수정하여 data3.p 파일이 없을경우 사용자에게 name, address, email을 입력받아 data3.p 파일을 생성하게 코드를 수정하세요**"
   ]
  },
  {
   "cell_type": "code",
   "execution_count": 12,
   "metadata": {},
   "outputs": [
    {
     "name": "stdout",
     "output_type": "stream",
     "text": [
      "이름을 입력해주세요백승엽\n",
      "주소를 입력해주세요서울시\n",
      "이메일을 입력해주세요이메일\n"
     ]
    }
   ],
   "source": [
    "import pickle\n",
    "\n",
    "try : \n",
    "    with open(\"data3.p\", \"rb\") as file:\n",
    "        name = pickle.load(file)\n",
    "        address = pickle.load(file)\n",
    "        email = pickle.load(file)\n",
    "        print(name, address, email)\n",
    "\n",
    "except :\n",
    "    name = input(\"이름을 입력해주세요\")\n",
    "    address = input(\"주소를 입력해주세요\")\n",
    "    email = input(\"이메일을 입력해주세요\")\n",
    "    with open (\"data3.p\", \"wb\") as file:\n",
    "        pickle.dump(name, file)\n",
    "        pickle.dump(address, file)\n",
    "        pickle.dump(email, file)"
   ]
  },
  {
   "cell_type": "markdown",
   "metadata": {},
   "source": [
    "### 실습 02\n",
    "**매개변수로 전달받은 숫자의 구구단을 출력해주는 함수를 만드는데 매개변수로 1~9 이외의 숫자를 전달하면 NotNumberException을 발생시켜주세요.**"
   ]
  },
  {
   "cell_type": "code",
   "execution_count": 5,
   "metadata": {},
   "outputs": [
    {
     "ename": "NameError",
     "evalue": "name '가' is not defined",
     "output_type": "error",
     "traceback": [
      "\u001b[1;31m---------------------------------------------------------------------------\u001b[0m",
      "\u001b[1;31mNameError\u001b[0m                                 Traceback (most recent call last)",
      "\u001b[1;32m<ipython-input-5-8422a01708fb>\u001b[0m in \u001b[0;36m<module>\u001b[1;34m\u001b[0m\n\u001b[0;32m     14\u001b[0m                 \u001b[0mprint\u001b[0m\u001b[1;33m(\u001b[0m\u001b[1;34m\"{} * {} = {}\"\u001b[0m\u001b[1;33m.\u001b[0m\u001b[0mformat\u001b[0m\u001b[1;33m(\u001b[0m\u001b[0mx\u001b[0m\u001b[1;33m,\u001b[0m \u001b[0mi\u001b[0m\u001b[1;33m,\u001b[0m \u001b[0mx\u001b[0m\u001b[1;33m*\u001b[0m\u001b[0mi\u001b[0m\u001b[1;33m)\u001b[0m\u001b[1;33m)\u001b[0m\u001b[1;33m\u001b[0m\u001b[1;33m\u001b[0m\u001b[0m\n\u001b[0;32m     15\u001b[0m \u001b[1;33m\u001b[0m\u001b[0m\n\u001b[1;32m---> 16\u001b[1;33m \u001b[0mgugudan\u001b[0m\u001b[1;33m(\u001b[0m\u001b[0m가\u001b[0m\u001b[1;33m)\u001b[0m\u001b[1;33m\u001b[0m\u001b[1;33m\u001b[0m\u001b[0m\n\u001b[0m",
      "\u001b[1;31mNameError\u001b[0m: name '가' is not defined"
     ]
    }
   ],
   "source": [
    "def gugudan (x):\n",
    "    try : \n",
    "        x = int(x)\n",
    "        \n",
    "    except NotNumber as nn :\n",
    "        print(\"{} Traceback (most recent call last)\".format(nn))\n",
    "    \n",
    "    else :\n",
    "        if 0 > x  or x > 10 : \n",
    "            print(\"{} : 잘못된 숫자입니다.\".format(nn))\n",
    "        \n",
    "        else :\n",
    "            for i in range(1, 10):\n",
    "                print(\"{} * {} = {}\".format(x, i, x*i))\n",
    "    \n",
    "gugudan(가)"
   ]
  },
  {
   "cell_type": "code",
   "execution_count": null,
   "metadata": {},
   "outputs": [],
   "source": []
  }
 ],
 "metadata": {
  "kernelspec": {
   "display_name": "Python 3",
   "language": "python",
   "name": "python3"
  },
  "language_info": {
   "codemirror_mode": {
    "name": "ipython",
    "version": 3
   },
   "file_extension": ".py",
   "mimetype": "text/x-python",
   "name": "python",
   "nbconvert_exporter": "python",
   "pygments_lexer": "ipython3",
   "version": "3.7.9"
  }
 },
 "nbformat": 4,
 "nbformat_minor": 4
}
