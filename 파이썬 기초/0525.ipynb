{
 "cells": [
  {
   "cell_type": "code",
   "execution_count": 2,
   "metadata": {},
   "outputs": [],
   "source": [
    "import requests\n",
    "from selenium import webdriver\n",
    "from selenium.webdriver.common.keys import Keys\n",
    "from bs4 import BeautifulSoup\n",
    "from selenium import webdriver"
   ]
  },
  {
   "cell_type": "code",
   "execution_count": null,
   "metadata": {},
   "outputs": [],
   "source": []
  },
  {
   "cell_type": "code",
   "execution_count": 4,
   "metadata": {},
   "outputs": [
    {
     "name": "stdout",
     "output_type": "stream",
     "text": [
      "Wall time: 4.41 s\n"
     ]
    }
   ],
   "source": [
    "%%time\n",
    "\n",
    "chromedriver = './chromedriver'\n",
    "\n",
    "options = webdriver.ChromeOptions()\n",
    "options.add_argument(\"headless\")\n",
    "\n",
    "driver = webdriver.Chrome(chromedriver)\n",
    "# driver = webdriver.Chrome(chromedriver, chrome_options=options)\n",
    "driver.get('https://www.daangn.com/search/%EB%A7%A5%EB%B6%81')\n",
    "# driver.find_elements_by_css_selector('#more')[0].click() #자동 클릭\n",
    "driver.execute_script(\"window.scrollTo(0, document.body.scrollHeight);\") # 웹페이지 아래로 끌어주는 거\n",
    "driver.implicitly_wait(2)\n",
    "\n",
    "title_list = driver.find_elements_by_css_selector(\".title\")\n",
    "for i,title in enumerate(title_list):\n",
    "    print(i+1, title.text)"
   ]
  },
  {
   "cell_type": "code",
   "execution_count": 13,
   "metadata": {},
   "outputs": [
    {
     "name": "stdout",
     "output_type": "stream",
     "text": [
      "1 [디자인 화제] 캐릭터 체험 미술교사 ‘만지작 선생님’ 위촉식 개최\n",
      "2 영화 속 상상은 그림이 된다! ‘맥스 달튼, 영화의 순간들’ 전\n",
      "3 사람과 자동차가 모두 충전하는 곳\n",
      "4 제 2회 팜(Farm)터지고 펀(Fun)한 농업농촌 영상 공모전(~ 11월 26일)\n",
      "5 화성습지 23초 영화제 및 알락꼬리마도요 얼굴 찾기 공모전\n",
      "6 톡톡 튀는 디자인 창업 아이디어가 모이는 곳\n",
      "7 ‘공예정원’ 가상현실(VR)스토어 오픈\n",
      "8 2021 광주요 도자축제 ‘홈커밍 위크’ 개최\n",
      "9 원스토어, 상업적 이용 가능한 무료 모바일 글꼴 3종 배포\n",
      "10 카카오프렌즈 ‘어피치’, 피치파이브로 글로벌 MZ세대를 사로잡다\n",
      "11 [미니인턴X팀와이퍼] 2주만에 '디자이너' 실무 역량 쌓고 채용연계까지? 미니인턴 지금 신\n",
      "Wall time: 120 ms\n"
     ]
    }
   ],
   "source": [
    "%%time\n",
    "url = 'https://www.jungle.co.kr/'\n",
    "res = requests.get(url)\n",
    "soup = BeautifulSoup(res.text, \"html.parser\")\n",
    "title_list = soup.select(\".title\")\n",
    "for i, title in enumerate(title_list):\n",
    "    print(str(i+1), title.text)\n"
   ]
  },
  {
   "cell_type": "code",
   "execution_count": 7,
   "metadata": {},
   "outputs": [
    {
     "ename": "AttributeError",
     "evalue": "module 'requests.utils' has no attribute 'unqoute'",
     "output_type": "error",
     "traceback": [
      "\u001b[1;31m---------------------------------------------------------------------------\u001b[0m",
      "\u001b[1;31mAttributeError\u001b[0m                            Traceback (most recent call last)",
      "\u001b[1;32m<ipython-input-7-258d36da28fb>\u001b[0m in \u001b[0;36m<module>\u001b[1;34m\u001b[0m\n\u001b[0;32m      1\u001b[0m \u001b[0murl\u001b[0m \u001b[1;33m=\u001b[0m \u001b[1;34m'http://openapi.epost.go.kr/postal/retrieveNewAdressAreaCdService/retrieveNewAdressAreaCdService/getNewAddressListAreaCd'\u001b[0m\u001b[1;33m\u001b[0m\u001b[1;33m\u001b[0m\u001b[0m\n\u001b[0;32m      2\u001b[0m \u001b[0mservice_key\u001b[0m \u001b[1;33m=\u001b[0m\u001b[1;34m\"FLECUdzM4MF6fPuJIFPOEWWuk2J1jH2NHQH7YclGRdxrAQ2RaWmbPBvF8Y9twKKveeFrCE4AloadvOWx%2FEN0YQ%3D%3D\"\u001b[0m\u001b[1;33m\u001b[0m\u001b[1;33m\u001b[0m\u001b[0m\n\u001b[1;32m----> 3\u001b[1;33m \u001b[0mservice_key_decoded\u001b[0m \u001b[1;33m=\u001b[0m \u001b[0mrequests\u001b[0m\u001b[1;33m.\u001b[0m\u001b[0mutils\u001b[0m\u001b[1;33m.\u001b[0m\u001b[0munqoute\u001b[0m\u001b[1;33m(\u001b[0m\u001b[0mservice_key\u001b[0m\u001b[1;33m)\u001b[0m\u001b[1;33m\u001b[0m\u001b[1;33m\u001b[0m\u001b[0m\n\u001b[0m",
      "\u001b[1;31mAttributeError\u001b[0m: module 'requests.utils' has no attribute 'unqoute'"
     ]
    }
   ],
   "source": [
    "url = 'http://openapi.epost.go.kr/postal/retrieveNewAdressAreaCdService/retrieveNewAdressAreaCdService/getNewAddressListAreaCd'\n",
    "service_key =\"FLECUdzM4MF6fPuJIFPOEWWuk2J1jH2NHQH7YclGRdxrAQ2RaWmbPBvF8Y9twKKveeFrCE4AloadvOWx%2FEN0YQ%3D%3D\"\n",
    "service_key_decoded = requests.utils.unqoute(service_key)"
   ]
  },
  {
   "cell_type": "code",
   "execution_count": null,
   "metadata": {},
   "outputs": [],
   "source": [
    "\"\"\"http://openapi.data.go.kr/openapi/service/rest/Covid19/getCovid19SidoInfStateJson?serviceKey=인증키(URL Encode)\n",
    "&pageNo=1&numOfRows=10&startCreateDt=20200410&endCreateDt=20200410\"\"\""
   ]
  },
  {
   "cell_type": "code",
   "execution_count": 10,
   "metadata": {},
   "outputs": [],
   "source": [
    "url = 'http://openapi.epost.go.kr/postal/retrieveNewAdressAreaCdService/retrieveNewAdressAreaCdService/getNewAddressListAreaCd'\n",
    "service_key_decoded = \"FLECUdzM4MF6fPuJIFPOEWWuk2J1jH2NHQH7YclGRdxrAQ2RaWmbPBvF8Y9twKKveeFrCE4AloadvOWx/EN0YQ==\""
   ]
  },
  {
   "cell_type": "code",
   "execution_count": 12,
   "metadata": {},
   "outputs": [
    {
     "data": {
      "text/plain": [
       "'<?xml version=\"1.0\" encoding=\"UTF-8\" standalone=\"yes\"?><NewAddressListResponse><cmmMsgHeader><requestMsgId></requestMsgId><responseMsgId></responseMsgId><responseTime>20210526:090524288</responseTime><successYN>N</successYN><returnCode>20</returnCode><errMsg>SERVICE ACCESS DENIED ERROR.</errMsg></cmmMsgHeader></NewAddressListResponse>'"
      ]
     },
     "execution_count": 12,
     "metadata": {},
     "output_type": "execute_result"
    }
   ],
   "source": [
    "req_parameter={\"ServiceKey\":service_key_decoded, \"searchSe\":\"dong\", \"srchwrd\":\"주월동 408-1\"}\n",
    "result = requests.get(url, params=req_parameter)\n",
    "result.text"
   ]
  },
  {
   "cell_type": "code",
   "execution_count": null,
   "metadata": {},
   "outputs": [],
   "source": [
    "%%time\n",
    "\n",
    "chromedriver = './chromedriver'\n",
    "\n",
    "options = webdriver.ChromeOptions()\n",
    "options.add_argument(\"headless\")\n",
    "\n",
    "driver = webdriver.Chrome(chromedriver)\n",
    "# driver = webdriver.Chrome(chromedriver, chrome_options=options)\n",
    "driver.get('https://www.daangn.com/search/%EC%95%A0%ED%94%8C')\n",
    "# driver.find_elements_by_css_selector('#more')[0].click() #자동 클릭\n",
    "driver.execute_script(\"window.scrollTo(0, document.body.scrollHeight);\") # 웹페이지 아래로 끌어주는 거\n",
    "driver.implicitly_wait(29)\n",
    "\n",
    "title_list = driver.find_elements_by_css_selector(\".title\")\n",
    "for i,title in enumerate(title_list):\n",
    "    print(i+1, title.text)"
   ]
  },
  {
   "cell_type": "code",
   "execution_count": 6,
   "metadata": {},
   "outputs": [
    {
     "name": "stdout",
     "output_type": "stream",
     "text": [
      "\n",
      "\t\t\t\t\t\t\t\t 블링컨, 첫 중동순방서 이스라엘 방위·가자지구 재건 약속\n",
      "\t\t\t\t\t\t\t\t\n",
      "https://news.naver.com/main/read.nhn?mode=LPOD&mid=sec&oid=003&aid=0010516498\n",
      "\n",
      "\n",
      "\n",
      "\n",
      "\n",
      "[예루살렘=AP/뉴시스]토니 블링컨 미국 국무장관(사진 왼쪽)이 25일(현지시간) 이스라엘 예루살렘에서 베냐민 네타냐후 이스라엘 총리와 공동 기자회견을 하고 있다. 2021.05.25[서울=뉴시스] 이재우 기자 = 토니 블링컨 미국 국무장관은 25일(현지시간) 장관 취임 이후 첫 이스라엘 방문에서 조 바이든 행정부의 이스라엘 방위 공약을 확인했다. 이스라엘이 반대하는 미국의 이란 핵합의(JCPOA.포괄적 공동행동) 복귀와 관련해서도 긴밀한 협력을 약속했다.그는 이스라엘과 교전으로 파괴된 팔레스타인 가자지구 재건 지원도 약속했다. 다만 가자지구를 장악 중인 팔레스타인 무장정파 하마스가 이익을 얻지 못하도록 하겠다고 했다. 미국과 이스라엘은 대(對)이스라엘 무장 투쟁을 포기하지 않고 있는 하마스를 테러단체로 지정한 바 있다.25일 AP통신과 타임오브이스라엘에 따르면 블링컨 장관은 이날 베냐민 네타냐후 이스라엘 총리와 회동 이후 공동 기자회견에서 이같이 밝혔다. 그는 이스라엘과 하마스간 휴전과 재건 작업 지원을 위해 중동 순방에 나섰다. 네타냐후 총리와 공동 기자회견 이후 마무드 아바스 팔레스타인 자치정부(PA) 수반과 서안지구 라말라로 이동했다. 그는 이스라엘과 하마스간 중재자 역할을 한 요르단, 이집트도 방문할 예정이다.블링컨 장관은 \"바이든 대통령이 내게 오늘 이 자리에 와달라고 부탁한 이유는 4개다\"며 \"첫번째는 이스라엘의 안보에 대한 미국의 약속을 보여주기 위해서다\"고 했다. 이어 \"(그다음) 서안지구와 예루살렘의 더 큰 안정과 긴장 완화를 위해, 가자지구에 대한 긴급한 인도주의적 재건 지원을 위해, 팔레스타인 국민과 팔레스타인 당국과 관계 재건을 지속하기 위해서다\"고 했다.블링컨 장관은 \"하마스가 이스라엘 민간인을 대상으로 무차별적으로 발사한 로켓 수천발과 같은 공격으로부터 이스라엘이 스스로 방어할 권리를 미국은 전적으로 지지한다\"며 \"바이든 대통령에게 이 약속은 개인적인 것이고 매우 깊은 것\"이라고도 했다.그는 \"우리는 오랜 동반자 관계를 모든 측면에서 계속 강화할 것\"이라며 \"이는 오스트리아 빈에서 진행 중인 JCPOA 복귀 협상과 관련해 오늘 우리가 그랬던 것처럼 이스라엘과 긴밀히 협의하는 것을 포함한다\"고 했다 그는 \"이란의 지역내 불안정한 행동에 대응하기 위해 계속 협력할 것\"이라고도 했다.블링컨 장관은 \"폭력으로 복귀를 막기 위해서는 (이번 휴전으로) 만들어진 공간을 사용해야 한다는 것을 알고 있다\"며 \"이는 가자지구의 심각한 인도주의적 상황을 해결하고 재건을 시작하는 것에서 출발한다\"고 했다. 이어 \"미국은 이날 오후 라말라에서 아바스 수반과 회의에서 이와 같은 노력에 중대한 기여를 발표할 것\"이라며 \"하마스가 (미국의) 재건 지원으로부터 이익을 얻지 못하도록 동반자들과 협력할 것\"이라고 했다. 그는 \"민간 부문 강화와 무역 투자 확대 등 가자지구와 요르단강 서안지구에서 팔레스타인 국민의 기회 확대를 위해 노력할 필요가 있다\"며 \"이와 같은 원조와 투자는 팔레스타인 국민에게 도움이 되고 이스라엘 국민에게도 이익이 되는 안정적인 환경 조성에 도움이 될 것\"이라고 했다. 블링컨 장관은 \"네타냐후 총리와 양측 지도자들이 공동의 미래를 위해 더 나은 방향을 설정하기 위해 해야 할 다른 조치에 대해 얘기했다\"고도 했다.그는 바이든 대통령의 발언을 인용해 \"우리는 팔레스타인과 이스라엘 국민 모두 동등하게 안전하고 안심할 수 있는 삶, 자유과 기회, 민주주의의 동일한 정책, 존엄한 대우를 받을 자격이 있다고 믿는다\"고 했다. 이어 \"우리 모두 평화를 지키고 이스라엘과 팔레스타인 모두의 삶을 개선하기 위해 노력해야 한다\"고 했다.한편, 미국은 지난 10일 이스라엘과 하마스간 교전이 시작된 이후 유엔 안전보장이사회의 휴전 촉구 공동성명을 수차례 저지하는 등 친(親)이스라엘 행보를 보였다는 비판을 받고 있다.☞공감언론 뉴시스 ironn108@newsis.com▶ 네이버에서 뉴시스 구독하기▶ K-Artprice, 유명 미술작품 가격 공개▶ 뉴시스 빅데이터 MSI 주가시세표 바로가기<ⓒ 공감언론 뉴시스통신사. 무단전재-재배포 금지>\n",
      "\t\n",
      "\n",
      "\n",
      "\t\t\t\t\t\t\t\t '김정화 남편' 유은성, 동성애 차별·'마인' 스포 사과…\"깊이 반성\"\n",
      "\t\t\t\t\t\t\t\t\n",
      "https://news.naver.com/main/read.nhn?mode=LPOD&mid=sec&oid=003&aid=0010516497\n"
     ]
    },
    {
     "ename": "AttributeError",
     "evalue": "'NoneType' object has no attribute 'text'",
     "output_type": "error",
     "traceback": [
      "\u001b[1;31m---------------------------------------------------------------------------\u001b[0m",
      "\u001b[1;31mAttributeError\u001b[0m                            Traceback (most recent call last)",
      "\u001b[1;32m<ipython-input-6-0095f97dccfb>\u001b[0m in \u001b[0;36m<module>\u001b[1;34m\u001b[0m\n\u001b[0;32m     21\u001b[0m         \u001b[0mresult\u001b[0m \u001b[1;33m=\u001b[0m \u001b[0msoup\u001b[0m\u001b[1;33m.\u001b[0m\u001b[0mselect_one\u001b[0m\u001b[1;33m(\u001b[0m\u001b[1;34m\"#articleBodyContents\"\u001b[0m\u001b[1;33m)\u001b[0m\u001b[1;33m\u001b[0m\u001b[1;33m\u001b[0m\u001b[0m\n\u001b[0;32m     22\u001b[0m \u001b[1;33m\u001b[0m\u001b[0m\n\u001b[1;32m---> 23\u001b[1;33m         \u001b[0mprint\u001b[0m\u001b[1;33m(\u001b[0m\u001b[0mresult\u001b[0m\u001b[1;33m.\u001b[0m\u001b[0mtext\u001b[0m\u001b[1;33m)\u001b[0m\u001b[1;33m\u001b[0m\u001b[1;33m\u001b[0m\u001b[0m\n\u001b[0m",
      "\u001b[1;31mAttributeError\u001b[0m: 'NoneType' object has no attribute 'text'"
     ]
    }
   ],
   "source": [
    "from datetime import datetime, timedelta\n",
    "\n",
    "yesterday = int((datetime.today() - timedelta(1)).strftime(\"%Y%m%d\"))\n",
    "URL = f'https://news.naver.com/main/list.nhn?mode=LPOD&mid=sec&oid=003&date={yesterday}'\n",
    "\n",
    "for i in range(1, 47):\n",
    "    URL = f'https://news.naver.com/main/list.nhn?mode=LPOD&mid=sec&oid=003&date={yesterday}&page={i}'\n",
    "    headers = {\"user-agent\" : 'Mozilla/5.0 (Windows NT 10.0; Win64; x64) AppleWebKit/537.36 (KHTML, like Gecko) Chrome/90.0.4430.212 Safari/537.36'}\n",
    "    response = requests.get(URL, headers= headers)\n",
    "    soup = BeautifulSoup(response.text, \"html.parser\")\n",
    "    result = soup.select(\"ul.type06_headline > li\")\n",
    "\n",
    "    for rslt in result:\n",
    "        print(rslt.select(\"dt a\")[1].text)\n",
    "        print(rslt.select(\"a\")[1].attrs['href'])\n",
    "\n",
    "\n",
    "        link_URL = rslt.select(\"a\")[1].attrs['href'].strip()\n",
    "        response = requests.get(link_URL, headers= headers)\n",
    "        soup = BeautifulSoup(response.text, \"html.parser\")\n",
    "        result = soup.select_one(\"#articleBodyContents\")    \n",
    "        \n",
    "        print(result.text)\n"
   ]
  },
  {
   "cell_type": "code",
   "execution_count": null,
   "metadata": {},
   "outputs": [],
   "source": []
  }
 ],
 "metadata": {
  "kernelspec": {
   "display_name": "Python 3",
   "language": "python",
   "name": "python3"
  },
  "language_info": {
   "codemirror_mode": {
    "name": "ipython",
    "version": 3
   },
   "file_extension": ".py",
   "mimetype": "text/x-python",
   "name": "python",
   "nbconvert_exporter": "python",
   "pygments_lexer": "ipython3",
   "version": "3.7.9"
  }
 },
 "nbformat": 4,
 "nbformat_minor": 4
}
