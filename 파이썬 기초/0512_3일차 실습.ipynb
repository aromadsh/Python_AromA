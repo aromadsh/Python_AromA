{
 "cells": [
  {
   "cell_type": "markdown",
   "metadata": {},
   "source": [
    "* 반복문"
   ]
  },
  {
   "cell_type": "code",
   "execution_count": 33,
   "metadata": {},
   "outputs": [
    {
     "name": "stdout",
     "output_type": "stream",
     "text": [
      "0 번째\n",
      "1 번째\n",
      "2 번째\n",
      "3 번째\n",
      "4 번째\n",
      "5 번째\n",
      "6 번째\n",
      "7 번째\n",
      "8 번째\n",
      "9 번째\n",
      "완료\n"
     ]
    }
   ],
   "source": [
    "for i in range(10) :\n",
    "    print(f'{i} 번째')\n",
    "print(\"완료\")"
   ]
  },
  {
   "cell_type": "code",
   "execution_count": 3,
   "metadata": {},
   "outputs": [
    {
     "name": "stdout",
     "output_type": "stream",
     "text": [
      "0\n",
      "1\n",
      "2\n",
      "3\n",
      "4\n",
      "5\n",
      "6\n",
      "7\n",
      "8\n",
      "9\n"
     ]
    }
   ],
   "source": [
    "for i in range(0, 10):\n",
    "    print(i)"
   ]
  },
  {
   "cell_type": "code",
   "execution_count": 4,
   "metadata": {},
   "outputs": [
    {
     "name": "stdout",
     "output_type": "stream",
     "text": [
      "10\n",
      "9\n",
      "8\n",
      "7\n",
      "6\n",
      "5\n",
      "4\n",
      "3\n",
      "2\n",
      "1\n"
     ]
    }
   ],
   "source": [
    "for i in range(10, 0, -1):\n",
    "    print(i)"
   ]
  },
  {
   "cell_type": "code",
   "execution_count": 5,
   "metadata": {},
   "outputs": [
    {
     "name": "stdout",
     "output_type": "stream",
     "text": [
      "1\n",
      "2\n",
      "3\n",
      "4\n",
      "5\n",
      "6\n",
      "7\n"
     ]
    }
   ],
   "source": [
    "a=[1, 2, 3, 4, 5, 6, 7]\n",
    "for i in a:\n",
    "    print(i)"
   ]
  },
  {
   "cell_type": "code",
   "execution_count": 42,
   "metadata": {},
   "outputs": [
    {
     "name": "stdout",
     "output_type": "stream",
     "text": [
      "O\n",
      "r\n",
      "a\n",
      "n\n",
      "g\n",
      "e\n"
     ]
    }
   ],
   "source": [
    "a=\"Orange\"\n",
    "for i in a:\n",
    "    print(i, end=\"\\n\")"
   ]
  },
  {
   "cell_type": "code",
   "execution_count": 53,
   "metadata": {},
   "outputs": [
    {
     "name": "stdout",
     "output_type": "stream",
     "text": [
      "name : tom\n",
      "math : 80\n",
      "english : 70\n"
     ]
    }
   ],
   "source": [
    "a={\"name\":\"tom\", \"math\":80, \"english\":70}\n",
    "for i in a:\n",
    "    print(i, end=\" : \")\n",
    "    print(a[i])"
   ]
  },
  {
   "cell_type": "code",
   "execution_count": 55,
   "metadata": {
    "scrolled": false
   },
   "outputs": [
    {
     "name": "stdout",
     "output_type": "stream",
     "text": [
      "('name', 'tom')\n",
      "('math', 80)\n",
      "('english', 70)\n"
     ]
    }
   ],
   "source": [
    "for item in a.items():\n",
    "    print(item)"
   ]
  },
  {
   "cell_type": "code",
   "execution_count": 56,
   "metadata": {
    "scrolled": true
   },
   "outputs": [
    {
     "name": "stdout",
     "output_type": "stream",
     "text": [
      "name\n",
      "math\n",
      "english\n"
     ]
    }
   ],
   "source": [
    "for key in a.keys():\n",
    "    print(key)"
   ]
  },
  {
   "cell_type": "code",
   "execution_count": 60,
   "metadata": {},
   "outputs": [
    {
     "name": "stdout",
     "output_type": "stream",
     "text": [
      "0 => 1\n",
      "1 => 2\n",
      "2 => 3\n",
      "3 => 4\n",
      "4 => 5\n",
      "5 => 6\n",
      "6 => 7\n"
     ]
    }
   ],
   "source": [
    "a=[1, 2, 3, 4, 5, 6, 7]\n",
    "for i, num in enumerate(a):\n",
    "    print(f\"{i} => {num}\")"
   ]
  },
  {
   "cell_type": "code",
   "execution_count": 62,
   "metadata": {},
   "outputs": [
    {
     "name": "stdout",
     "output_type": "stream",
     "text": [
      "***************** 0\n",
      "j :  0\n",
      "j :  1\n",
      "j :  2\n",
      "j :  3\n",
      "j :  4\n",
      "***************** 1\n",
      "j :  0\n",
      "j :  1\n",
      "j :  2\n",
      "j :  3\n",
      "j :  4\n",
      "***************** 2\n",
      "j :  0\n",
      "j :  1\n",
      "j :  2\n",
      "j :  3\n",
      "j :  4\n",
      "***************** 3\n",
      "j :  0\n",
      "j :  1\n",
      "j :  2\n",
      "j :  3\n",
      "j :  4\n",
      "***************** 4\n",
      "j :  0\n",
      "j :  1\n",
      "j :  2\n",
      "j :  3\n",
      "j :  4\n"
     ]
    }
   ],
   "source": [
    "for i in range(0, 5):\n",
    "    print(\"*****************\",i)\n",
    "    for j in range(0, 5):\n",
    "        print(\"j : \",j)"
   ]
  },
  {
   "cell_type": "code",
   "execution_count": 77,
   "metadata": {
    "scrolled": true
   },
   "outputs": [
    {
     "name": "stdout",
     "output_type": "stream",
     "text": [
      "[30, 60, 90, 200, -70, 50]\n"
     ]
    }
   ],
   "source": [
    "x=[3, 6, 9, 20, -7, 5]\n",
    "a=[]\n",
    "for i in (x):\n",
    "    b= i*10\n",
    "    a.append(b)\n",
    "print(a)"
   ]
  },
  {
   "cell_type": "code",
   "execution_count": 141,
   "metadata": {},
   "outputs": [
    {
     "name": "stdout",
     "output_type": "stream",
     "text": [
      "[30, 60, 90, 200, -70, 50]\n"
     ]
    }
   ],
   "source": [
    "# 정답!\n",
    "x=[3, 6, 9, 20, -7, 5]\n",
    "\n",
    "for i in range(len(x)):\n",
    "    x[i] *= 10\n",
    "    \n",
    "print(x)"
   ]
  },
  {
   "cell_type": "code",
   "execution_count": 123,
   "metadata": {},
   "outputs": [
    {
     "name": "stdout",
     "output_type": "stream",
     "text": [
      "{'math': 80, 'science': 90, 'english': 30}\n"
     ]
    }
   ],
   "source": [
    "y={\"math\":70, \"science\":80, \"english\":20}\n",
    "a={}\n",
    "for i in (y):\n",
    "    y[i] = y[i]+10\n",
    "print(y)\n"
   ]
  },
  {
   "cell_type": "code",
   "execution_count": 142,
   "metadata": {},
   "outputs": [
    {
     "name": "stdout",
     "output_type": "stream",
     "text": [
      "{'math': 80, 'science': 90, 'english': 30}\n"
     ]
    }
   ],
   "source": [
    "# 정답\n",
    "y={\"math\":70, \"science\":80, \"english\":20}\n",
    "for k in y :\n",
    "    y[k] +=10\n",
    "print(y)"
   ]
  },
  {
   "cell_type": "code",
   "execution_count": 85,
   "metadata": {},
   "outputs": [
    {
     "name": "stdout",
     "output_type": "stream",
     "text": [
      "몇 단을 출력하시겠습니까? : 4\n",
      "4 * 1 = 4\n",
      "4 * 2 = 8\n",
      "4 * 3 = 12\n",
      "4 * 4 = 16\n",
      "4 * 5 = 20\n",
      "4 * 6 = 24\n",
      "4 * 7 = 28\n",
      "4 * 8 = 32\n",
      "4 * 9 = 36\n"
     ]
    }
   ],
   "source": [
    "gugudan=int(input(\"몇 단을 출력하시겠습니까? : \"))\n",
    "for i in range(1, 10, 1):\n",
    "    print(\"%d * %d = %d\" % (gugudan, i, gugudan*i))"
   ]
  },
  {
   "cell_type": "code",
   "execution_count": 144,
   "metadata": {},
   "outputs": [
    {
     "name": "stdout",
     "output_type": "stream",
     "text": [
      "몇 단을 출력하시겠습니까?3\n",
      "3 * 1 = 3\n",
      "3 * 2 = 6\n",
      "3 * 3 = 9\n",
      "3 * 4 = 12\n",
      "3 * 5 = 15\n",
      "3 * 6 = 18\n",
      "3 * 7 = 21\n",
      "3 * 8 = 24\n",
      "3 * 9 = 27\n"
     ]
    }
   ],
   "source": [
    "# 정답\n",
    "num = int(input(\"몇 단을 출력하시겠습니까?\"))\n",
    "for i in range(1, 10) :\n",
    "    print('{} * {} = {}'.format(num, i, num*i))"
   ]
  },
  {
   "cell_type": "code",
   "execution_count": 87,
   "metadata": {},
   "outputs": [
    {
     "name": "stdout",
     "output_type": "stream",
     "text": [
      "['school', 'science', 'mountain']\n"
     ]
    }
   ],
   "source": [
    "words=[\"school\", \"game\", \"piano\", \"science\", \"hotel\", \"mountain\"]\n",
    "six_words = []\n",
    "for i in (words):\n",
    "    six=len(i)\n",
    "    if six >= 6:\n",
    "        six_words.append(i)\n",
    "print(six_words)   "
   ]
  },
  {
   "cell_type": "code",
   "execution_count": 148,
   "metadata": {},
   "outputs": [
    {
     "name": "stdout",
     "output_type": "stream",
     "text": [
      "['school', 'science', 'mountain']\n"
     ]
    }
   ],
   "source": [
    "words=[\"school\", \"game\", \"piano\", \"science\", \"hotel\", \"mountain\"]\n",
    "new_words = []\n",
    "for word in words:\n",
    "    if len(word) >= 6:\n",
    "        new_words.append(word)\n",
    "print(new_words)"
   ]
  },
  {
   "cell_type": "code",
   "execution_count": 149,
   "metadata": {},
   "outputs": [
    {
     "name": "stdout",
     "output_type": "stream",
     "text": [
      "1단\n",
      "1 * 1 = 1\n",
      "1 * 2 = 2\n",
      "1 * 3 = 3\n",
      "1 * 4 = 4\n",
      "1 * 5 = 5\n",
      "1 * 6 = 6\n",
      "1 * 7 = 7\n",
      "1 * 8 = 8\n",
      "1 * 9 = 9\n",
      "2단\n",
      "2 * 1 = 2\n",
      "2 * 2 = 4\n",
      "2 * 3 = 6\n",
      "2 * 4 = 8\n",
      "2 * 5 = 10\n",
      "2 * 6 = 12\n",
      "2 * 7 = 14\n",
      "2 * 8 = 16\n",
      "2 * 9 = 18\n",
      "3단\n",
      "3 * 1 = 3\n",
      "3 * 2 = 6\n",
      "3 * 3 = 9\n",
      "3 * 4 = 12\n",
      "3 * 5 = 15\n",
      "3 * 6 = 18\n",
      "3 * 7 = 21\n",
      "3 * 8 = 24\n",
      "3 * 9 = 27\n",
      "4단\n",
      "4 * 1 = 4\n",
      "4 * 2 = 8\n",
      "4 * 3 = 12\n",
      "4 * 4 = 16\n",
      "4 * 5 = 20\n",
      "4 * 6 = 24\n",
      "4 * 7 = 28\n",
      "4 * 8 = 32\n",
      "4 * 9 = 36\n",
      "5단\n",
      "5 * 1 = 5\n",
      "5 * 2 = 10\n",
      "5 * 3 = 15\n",
      "5 * 4 = 20\n",
      "5 * 5 = 25\n",
      "5 * 6 = 30\n",
      "5 * 7 = 35\n",
      "5 * 8 = 40\n",
      "5 * 9 = 45\n",
      "6단\n",
      "6 * 1 = 6\n",
      "6 * 2 = 12\n",
      "6 * 3 = 18\n",
      "6 * 4 = 24\n",
      "6 * 5 = 30\n",
      "6 * 6 = 36\n",
      "6 * 7 = 42\n",
      "6 * 8 = 48\n",
      "6 * 9 = 54\n",
      "7단\n",
      "7 * 1 = 7\n",
      "7 * 2 = 14\n",
      "7 * 3 = 21\n",
      "7 * 4 = 28\n",
      "7 * 5 = 35\n",
      "7 * 6 = 42\n",
      "7 * 7 = 49\n",
      "7 * 8 = 56\n",
      "7 * 9 = 63\n",
      "8단\n",
      "8 * 1 = 8\n",
      "8 * 2 = 16\n",
      "8 * 3 = 24\n",
      "8 * 4 = 32\n",
      "8 * 5 = 40\n",
      "8 * 6 = 48\n",
      "8 * 7 = 56\n",
      "8 * 8 = 64\n",
      "8 * 9 = 72\n",
      "9단\n",
      "9 * 1 = 9\n",
      "9 * 2 = 18\n",
      "9 * 3 = 27\n",
      "9 * 4 = 36\n",
      "9 * 5 = 45\n",
      "9 * 6 = 54\n",
      "9 * 7 = 63\n",
      "9 * 8 = 72\n",
      "9 * 9 = 81\n"
     ]
    }
   ],
   "source": [
    "for i in range(1, 10, 1):\n",
    "    print(f'{i}단')\n",
    "    for j in range(1, 10, 1):\n",
    "        print('{} * {} = {}'.format(i, j, i*j))"
   ]
  },
  {
   "cell_type": "code",
   "execution_count": 139,
   "metadata": {},
   "outputs": [
    {
     "name": "stdout",
     "output_type": "stream",
     "text": [
      "[3, 5, 9, 20, -7, 6]\n"
     ]
    }
   ],
   "source": [
    "a=[3, 6, 9, 20, -7, 5]\n",
    "for i in (0, 4, 1):\n",
    "    for k in (1, 5, 1):\n",
    "        if a[i] > a[k]:\n",
    "            temp = a[i]\n",
    "            a[i] = a[k]\n",
    "            a[k] = temp\n",
    "        else :\n",
    "            pass\n",
    "print(a)"
   ]
  },
  {
   "cell_type": "code",
   "execution_count": 251,
   "metadata": {},
   "outputs": [
    {
     "name": "stdout",
     "output_type": "stream",
     "text": [
      "[-7, 3, 5, 6, 9, 20]\n"
     ]
    }
   ],
   "source": [
    "x = [3, 6, 9, 20, -7, 5]\n",
    "\n",
    "for i in range(len(x) - 1):\n",
    "    for j in range(len(x) - i - 1):\n",
    "        if x[j] > x[j + 1]:\n",
    "            x[j], x[j + 1] = x[j + 1], x[j]\n",
    "print(x)"
   ]
  },
  {
   "cell_type": "code",
   "execution_count": 154,
   "metadata": {},
   "outputs": [
    {
     "name": "stdout",
     "output_type": "stream",
     "text": [
      "[3, 6, 9, -7, 20, 5]\n",
      "[3, 6, 9, -7, 5, 20]\n",
      "[3, 6, -7, 9, 5, 20]\n",
      "[3, 6, -7, 5, 9, 20]\n",
      "[3, -7, 6, 5, 9, 20]\n",
      "[3, -7, 5, 6, 9, 20]\n",
      "[-7, 3, 5, 6, 9, 20]\n",
      "[-7, 3, 5, 6, 9, 20]\n"
     ]
    }
   ],
   "source": [
    "a=[3, 6, 9, 20, -7, 5]\n",
    "for i in range(len(a)):\n",
    "    k=len(a)-i\n",
    "    for j in range(1, k, 1):\n",
    "        if a[j-1] > a[j]:\n",
    "            temp = a[j-1]\n",
    "            a[j-1] = a[j]\n",
    "            a[j] = temp\n",
    "            print(a)\n",
    "        else :\n",
    "            pass\n",
    "print(a)"
   ]
  },
  {
   "cell_type": "code",
   "execution_count": 136,
   "metadata": {
    "scrolled": false
   },
   "outputs": [
    {
     "name": "stdout",
     "output_type": "stream",
     "text": [
      "1\n",
      "2\n",
      "3 -> 3의 배수\n",
      "4\n",
      "5 -> 5의 배수\n",
      "6 -> 3의 배수\n",
      "7\n",
      "8\n",
      "9 -> 3의 배수\n",
      "10 -> 5의 배수\n",
      "11\n",
      "12 -> 3의 배수\n",
      "13\n",
      "14\n",
      "15 -> 3의 배수\n",
      "15 -> 3과 5의 공배수\n",
      "16\n",
      "17\n",
      "18 -> 3의 배수\n",
      "19\n",
      "20 -> 5의 배수\n",
      "21 -> 3의 배수\n",
      "22\n",
      "23\n",
      "24 -> 3의 배수\n",
      "25 -> 5의 배수\n",
      "26\n",
      "27 -> 3의 배수\n",
      "28\n",
      "29\n",
      "30 -> 3의 배수\n",
      "30 -> 3과 5의 공배수\n",
      "31\n",
      "32\n",
      "33 -> 3의 배수\n",
      "34\n",
      "35 -> 5의 배수\n",
      "36 -> 3의 배수\n",
      "37\n",
      "38\n",
      "39 -> 3의 배수\n",
      "40 -> 5의 배수\n",
      "41\n",
      "42 -> 3의 배수\n",
      "43\n",
      "44\n",
      "45 -> 3의 배수\n",
      "45 -> 3과 5의 공배수\n",
      "46\n",
      "47\n",
      "48 -> 3의 배수\n",
      "49\n",
      "50 -> 5의 배수\n",
      "51 -> 3의 배수\n",
      "52\n",
      "53\n",
      "54 -> 3의 배수\n",
      "55 -> 5의 배수\n",
      "56\n",
      "57 -> 3의 배수\n",
      "58\n",
      "59\n",
      "60 -> 3의 배수\n",
      "60 -> 3과 5의 공배수\n",
      "61\n",
      "62\n",
      "63 -> 3의 배수\n",
      "64\n",
      "65 -> 5의 배수\n",
      "66 -> 3의 배수\n",
      "67\n",
      "68\n",
      "69 -> 3의 배수\n",
      "70 -> 5의 배수\n",
      "71\n",
      "72 -> 3의 배수\n",
      "73\n",
      "74\n",
      "75 -> 3의 배수\n",
      "75 -> 3과 5의 공배수\n",
      "76\n",
      "77\n",
      "78 -> 3의 배수\n",
      "79\n",
      "80 -> 5의 배수\n",
      "81 -> 3의 배수\n",
      "82\n",
      "83\n",
      "84 -> 3의 배수\n",
      "85 -> 5의 배수\n",
      "86\n",
      "87 -> 3의 배수\n",
      "88\n",
      "89\n",
      "90 -> 3의 배수\n",
      "90 -> 3과 5의 공배수\n",
      "91\n",
      "92\n",
      "93 -> 3의 배수\n",
      "94\n",
      "95 -> 5의 배수\n",
      "96 -> 3의 배수\n",
      "97\n",
      "98\n",
      "99 -> 3의 배수\n",
      "100 -> 5의 배수\n"
     ]
    }
   ],
   "source": [
    "for i in range(1, 101):\n",
    "    if i%3 == 0:\n",
    "        print(f'{i} -> 3의 배수')\n",
    "        if i%3 == 0 and i%5 ==0 :\n",
    "            print(f'{i} -> 3과 5의 공배수')\n",
    "        else :\n",
    "            pass\n",
    "    elif i%5 == 0:\n",
    "        print(f'{i} -> 5의 배수')\n",
    "        if i%3 == 0 and i%5 ==0 :\n",
    "            print(f'{i} -> 3과 5의 공배수')\n",
    "        else :\n",
    "            pass\n",
    "    else :\n",
    "        print(f'{i}')"
   ]
  },
  {
   "cell_type": "code",
   "execution_count": 161,
   "metadata": {},
   "outputs": [
    {
     "name": "stdout",
     "output_type": "stream",
     "text": [
      "현재값: 0\n",
      "현재값: 1\n",
      "현재값: 2\n",
      "현재값: 3\n",
      "현재값: 4\n",
      "현재값: 5\n",
      "현재값: 6\n",
      "현재값: 7\n",
      "현재값: 8\n",
      "현재값: 9\n"
     ]
    }
   ],
   "source": [
    "i=0\n",
    "while i<10:\n",
    "    print(\"현재값:\",i)\n",
    "    i+=1"
   ]
  },
  {
   "cell_type": "code",
   "execution_count": 162,
   "metadata": {},
   "outputs": [
    {
     "name": "stdout",
     "output_type": "stream",
     "text": [
      "반복회수20\n",
      "입력한 획수만큼 반복\n",
      "입력한 획수만큼 반복\n",
      "입력한 획수만큼 반복\n",
      "입력한 획수만큼 반복\n",
      "입력한 획수만큼 반복\n",
      "입력한 획수만큼 반복\n",
      "입력한 획수만큼 반복\n",
      "입력한 획수만큼 반복\n",
      "입력한 획수만큼 반복\n",
      "입력한 획수만큼 반복\n",
      "입력한 획수만큼 반복\n",
      "입력한 획수만큼 반복\n",
      "입력한 획수만큼 반복\n",
      "입력한 획수만큼 반복\n",
      "입력한 획수만큼 반복\n",
      "입력한 획수만큼 반복\n",
      "입력한 획수만큼 반복\n",
      "입력한 획수만큼 반복\n",
      "입력한 획수만큼 반복\n",
      "입력한 획수만큼 반복\n"
     ]
    }
   ],
   "source": [
    "count=int(input(\"반복회수\"))\n",
    "i = 0\n",
    "while i<count:\n",
    "    print(\"입력한 획수만큼 반복\")\n",
    "    i+= 1"
   ]
  },
  {
   "cell_type": "code",
   "execution_count": 163,
   "metadata": {
    "scrolled": true
   },
   "outputs": [
    {
     "name": "stdout",
     "output_type": "stream",
     "text": [
      "5를 입력하면 반복이 중단됩니다.2\n",
      "5를 입력하면 반복이 중단됩니다.3\n",
      "5를 입력하면 반복이 중단됩니다.4\n",
      "5를 입력하면 반복이 중단됩니다.1\n",
      "5를 입력하면 반복이 중단됩니다.2\n",
      "5를 입력하면 반복이 중단됩니다.3\n",
      "5를 입력하면 반복이 중단됩니다.5\n",
      "중단!\n"
     ]
    }
   ],
   "source": [
    "i=0\n",
    "while i != 5:\n",
    "    i = int(input(\"5를 입력하면 반복이 중단됩니다.\"))\n",
    "print(\"중단!\")"
   ]
  },
  {
   "cell_type": "code",
   "execution_count": 184,
   "metadata": {
    "scrolled": true
   },
   "outputs": [
    {
     "name": "stdout",
     "output_type": "stream",
     "text": [
      "값을 입력해주세요 : 20\n",
      "값을 입력해주세요 : 30\n",
      "값을 입력해주세요 : 40\n",
      "값을 입력해주세요 : 50\n",
      "값을 입력해주세요 : 0\n",
      "합계는? 140\n"
     ]
    }
   ],
   "source": [
    "j=0\n",
    "i=1\n",
    "while i != 0:\n",
    "    i = int(input(\"값을 입력해주세요 : \"))\n",
    "    j=j+i\n",
    "print(f\"합계는? {j}\")"
   ]
  },
  {
   "cell_type": "code",
   "execution_count": 247,
   "metadata": {},
   "outputs": [
    {
     "name": "stdout",
     "output_type": "stream",
     "text": [
      "가위(1), 바위(2), 보(3)을 입력해주세요. : 1\n",
      "유저 : 가위, 컴퓨터 : 가위\n",
      "가위(1), 바위(2), 보(3)을 입력해주세요. : 1\n",
      "유저 : 가위, 컴퓨터 : 가위\n",
      "가위(1), 바위(2), 보(3)을 입력해주세요. : 1\n",
      "유저 : 가위, 컴퓨터 : 가위\n",
      "가위(1), 바위(2), 보(3)을 입력해주세요. : 1\n",
      "유저 : 가위, 컴퓨터 : 가위\n",
      "가위(1), 바위(2), 보(3)을 입력해주세요. : 1\n",
      "유저 : 가위, 컴퓨터 : 보\n",
      "가위(1), 바위(2), 보(3)을 입력해주세요. : 5\n"
     ]
    },
    {
     "ename": "KeyError",
     "evalue": "5",
     "output_type": "error",
     "traceback": [
      "\u001b[1;31m---------------------------------------------------------------------------\u001b[0m",
      "\u001b[1;31mKeyError\u001b[0m                                  Traceback (most recent call last)",
      "\u001b[1;32m<ipython-input-247-5774d9a9b673>\u001b[0m in \u001b[0;36m<module>\u001b[1;34m\u001b[0m\n\u001b[0;32m      9\u001b[0m     \u001b[0mi\u001b[0m \u001b[1;33m=\u001b[0m \u001b[0mint\u001b[0m\u001b[1;33m(\u001b[0m\u001b[0minput\u001b[0m\u001b[1;33m(\u001b[0m\u001b[1;34m\"가위(1), 바위(2), 보(3)을 입력해주세요. : \"\u001b[0m\u001b[1;33m)\u001b[0m\u001b[1;33m)\u001b[0m\u001b[1;33m\u001b[0m\u001b[1;33m\u001b[0m\u001b[0m\n\u001b[0;32m     10\u001b[0m     \u001b[0mj\u001b[0m \u001b[1;33m=\u001b[0m \u001b[0mrandom\u001b[0m\u001b[1;33m.\u001b[0m\u001b[0mrandint\u001b[0m\u001b[1;33m(\u001b[0m\u001b[1;36m1\u001b[0m\u001b[1;33m,\u001b[0m\u001b[1;36m3\u001b[0m\u001b[1;33m)\u001b[0m\u001b[1;33m\u001b[0m\u001b[1;33m\u001b[0m\u001b[0m\n\u001b[1;32m---> 11\u001b[1;33m     \u001b[0mprint\u001b[0m\u001b[1;33m(\u001b[0m\u001b[1;34m\"유저 : {}, 컴퓨터 : {}\"\u001b[0m\u001b[1;33m.\u001b[0m\u001b[0mformat\u001b[0m \u001b[1;33m(\u001b[0m\u001b[0mgame\u001b[0m\u001b[1;33m[\u001b[0m\u001b[0mi\u001b[0m\u001b[1;33m]\u001b[0m\u001b[1;33m,\u001b[0m \u001b[0mgame\u001b[0m\u001b[1;33m[\u001b[0m\u001b[0mj\u001b[0m\u001b[1;33m]\u001b[0m\u001b[1;33m)\u001b[0m\u001b[1;33m)\u001b[0m\u001b[1;33m\u001b[0m\u001b[1;33m\u001b[0m\u001b[0m\n\u001b[0m\u001b[0;32m     12\u001b[0m     \u001b[1;32mif\u001b[0m \u001b[0mi\u001b[0m \u001b[1;32min\u001b[0m \u001b[1;33m[\u001b[0m\u001b[1;36m1\u001b[0m\u001b[1;33m,\u001b[0m \u001b[1;36m2\u001b[0m\u001b[1;33m,\u001b[0m \u001b[1;36m3\u001b[0m\u001b[1;33m]\u001b[0m\u001b[1;33m:\u001b[0m\u001b[1;33m\u001b[0m\u001b[1;33m\u001b[0m\u001b[0m\n\u001b[0;32m     13\u001b[0m         \u001b[0mt\u001b[0m \u001b[1;33m+=\u001b[0m \u001b[1;36m1\u001b[0m\u001b[1;33m\u001b[0m\u001b[1;33m\u001b[0m\u001b[0m\n",
      "\u001b[1;31mKeyError\u001b[0m: 5"
     ]
    }
   ],
   "source": [
    "import random\n",
    "i=1\n",
    "j=1\n",
    "v=0\n",
    "t=0   \n",
    "game = {1:\"가위\", 2:\"바위\", 3:\"보\"}\n",
    "\n",
    "while i in [1,2,3]:\n",
    "    i = int(input(\"가위(1), 바위(2), 보(3)을 입력해주세요. : \"))\n",
    "    j = random.randint(1,3)\n",
    "#     print(\"유저 : {}, 컴퓨터 : {}\".format (game[i], game[j])) => 여기에 입력하면 되 Key 에러가 날까요?\n",
    "    if i in [1, 2, 3]:\n",
    "        t += 1\n",
    "        print(\"유저 : {}, 컴퓨터 : {}\".format (game[i], game[j]))\n",
    "        \n",
    "    if (i==1 and j==3) or (i==2 and j==1) or (i==3 and j==2):\n",
    "        v += 1\n",
    "    \n",
    "print(f\"게임종료 : 전체 {t} 승 {v}\")"
   ]
  },
  {
   "cell_type": "code",
   "execution_count": 245,
   "metadata": {},
   "outputs": [
    {
     "name": "stdout",
     "output_type": "stream",
     "text": [
      "가위(1), 바위(2), 보(3) 을 입력해주세요 :1\n",
      "유저 : 가위, 컴퓨터 : 바위\n",
      "가위(1), 바위(2), 보(3) 을 입력해주세요 :2\n",
      "유저 : 바위, 컴퓨터 : 바위\n",
      "가위(1), 바위(2), 보(3) 을 입력해주세요 :1\n",
      "유저 : 가위, 컴퓨터 : 바위\n",
      "가위(1), 바위(2), 보(3) 을 입력해주세요 :2\n",
      "유저 : 바위, 컴퓨터 : 가위\n",
      "가위(1), 바위(2), 보(3) 을 입력해주세요 :1\n",
      "유저 : 가위, 컴퓨터 : 바위\n",
      "가위(1), 바위(2), 보(3) 을 입력해주세요 :1\n",
      "유저 : 가위, 컴퓨터 : 보\n",
      "가위(1), 바위(2), 보(3) 을 입력해주세요 :1\n",
      "유저 : 가위, 컴퓨터 : 가위\n",
      "가위(1), 바위(2), 보(3) 을 입력해주세요 :5\n",
      "게임종료 (전체:7 ,승리:2)\n"
     ]
    }
   ],
   "source": [
    "import random\n",
    "user = 1\n",
    "comp = 0\n",
    "\n",
    "win = 0\n",
    "total = 0\n",
    "\n",
    "game_table = {1:\"가위\", 2:\"바위\", 3:\"보\"}\n",
    "\n",
    "while user in [1, 2, 3]:\n",
    "    user = int(input(\"가위(1), 바위(2), 보(3) 을 입력해주세요 :\"))\n",
    "    comp = random.randint(1, 3)\n",
    "    \n",
    "    if (user == 1 and comp == 3) or (user == 2 and comp == 1) or (user == 3 and comp == 2):\n",
    "        win += 1\n",
    "    \n",
    "    if user in [1, 2, 3]:\n",
    "        total += 1\n",
    "        print(f\"유저 : {game_table[user]}, 컴퓨터 : {game_table[comp]}\")\n",
    "    \n",
    "print(f\"게임종료 (전체:{total} ,승리:{win})\")  "
   ]
  },
  {
   "cell_type": "code",
   "execution_count": 221,
   "metadata": {},
   "outputs": [
    {
     "name": "stdout",
     "output_type": "stream",
     "text": [
      "012"
     ]
    }
   ],
   "source": [
    "for i in range(5):\n",
    "    if (i==3):\n",
    "        break\n",
    "    print(i, end=\"\")\n",
    "    "
   ]
  },
  {
   "cell_type": "code",
   "execution_count": 222,
   "metadata": {},
   "outputs": [
    {
     "name": "stdout",
     "output_type": "stream",
     "text": [
      "0124"
     ]
    }
   ],
   "source": [
    "for i in range(5):\n",
    "    if (i==3):\n",
    "        continue\n",
    "    print(i, end=\"\")"
   ]
  },
  {
   "cell_type": "code",
   "execution_count": 234,
   "metadata": {},
   "outputs": [
    {
     "name": "stdout",
     "output_type": "stream",
     "text": [
      "숫자를 입력하세요.10\n",
      "1\n",
      "2\n",
      "3\n",
      "4\n",
      "5\n",
      "6\n",
      "7\n",
      "8\n",
      "9\n",
      "10\n"
     ]
    }
   ],
   "source": [
    "user = int(input(\"숫자를 입력하세요.\"))\n",
    "cnt = 0\n",
    "while True:\n",
    "    for user in range(1, user+1):\n",
    "        print(\"{}\".format(user))\n",
    "        \n",
    "    break\n",
    "        "
   ]
  },
  {
   "cell_type": "code",
   "execution_count": 243,
   "metadata": {},
   "outputs": [
    {
     "name": "stdout",
     "output_type": "stream",
     "text": [
      "숫자를 입력하세요.10\n",
      "0\n",
      "1\n",
      "2\n",
      "3\n",
      "4\n",
      "5\n",
      "6\n",
      "7\n",
      "8\n",
      "9\n",
      "10\n"
     ]
    }
   ],
   "source": [
    "user = int(input(\"숫자를 입력하세요.\"))\n",
    "cnt = 0\n",
    "while True:\n",
    "    print(cnt)\n",
    "    cnt += 1\n",
    "    if cnt==user+1:\n",
    "        break\n",
    "        "
   ]
  },
  {
   "cell_type": "code",
   "execution_count": 244,
   "metadata": {},
   "outputs": [
    {
     "name": "stdout",
     "output_type": "stream",
     "text": [
      "숫자를 입력하세요20\n",
      "0\n",
      "2\n",
      "4\n",
      "6\n",
      "8\n",
      "10\n",
      "12\n",
      "14\n",
      "16\n",
      "18\n",
      "20\n"
     ]
    }
   ],
   "source": [
    "user = int(input(\"숫자를 입력하세요\"))\n",
    "for i in range(user+1):\n",
    "    if i % 2 !=0 :\n",
    "        continue\n",
    "    print(i)\n",
    "    \n",
    "    "
   ]
  },
  {
   "cell_type": "code",
   "execution_count": null,
   "metadata": {},
   "outputs": [],
   "source": []
  }
 ],
 "metadata": {
  "kernelspec": {
   "display_name": "Python 3",
   "language": "python",
   "name": "python3"
  },
  "language_info": {
   "codemirror_mode": {
    "name": "ipython",
    "version": 3
   },
   "file_extension": ".py",
   "mimetype": "text/x-python",
   "name": "python",
   "nbconvert_exporter": "python",
   "pygments_lexer": "ipython3",
   "version": "3.7.9"
  }
 },
 "nbformat": 4,
 "nbformat_minor": 4
}
