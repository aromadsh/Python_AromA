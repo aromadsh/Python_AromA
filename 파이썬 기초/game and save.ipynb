{
 "cells": [
  {
   "cell_type": "code",
   "execution_count": 3,
   "metadata": {},
   "outputs": [],
   "source": [
    "import random\n",
    "import pickle"
   ]
  },
  {
   "cell_type": "code",
   "execution_count": 5,
   "metadata": {
    "scrolled": true
   },
   "outputs": [
    {
     "name": "stdout",
     "output_type": "stream",
     "text": [
      "1-시작\n",
      "2-종료\n",
      "1\n",
      "가위(1), 바위(2), 보(3)을 입력해주세요.1\n",
      "사용자 : 가위 / 컴퓨터 : 가위\n",
      "가위(1), 바위(2), 보(3)을 입력해주세요.1\n",
      "사용자 : 가위 / 컴퓨터 : 보\n",
      "가위(1), 바위(2), 보(3)을 입력해주세요.1\n",
      "사용자 : 가위 / 컴퓨터 : 보\n",
      "가위(1), 바위(2), 보(3)을 입력해주세요.1\n",
      "사용자 : 가위 / 컴퓨터 : 보\n",
      "가위(1), 바위(2), 보(3)을 입력해주세요.1\n",
      "사용자 : 가위 / 컴퓨터 : 가위\n",
      "가위(1), 바위(2), 보(3)을 입력해주세요.0\n",
      "게임 종료 (전체 : 25, 승리 : 7)\n",
      "1-시작\n",
      "2-종료\n",
      "2\n",
      "종료합니다.\n",
      "게임 종료 (전체 : 25, 승리 : 7)\n"
     ]
    }
   ],
   "source": [
    "while True :\n",
    "    menu = input(\"1-시작\\n2-종료\\n\")\n",
    "    if menu == \"1\":\n",
    "        game = {1:'가위', 2:'바위', 3:'보'}\n",
    "        v=0\n",
    "        t=0\n",
    "        x=1\n",
    "        while x in [1, 2, 3] :\n",
    "                \n",
    "            x=int(input(\"가위(1), 바위(2), 보(3)을 입력해주세요.\"))\n",
    "            y=random.randint(1,3)\n",
    "            \n",
    "            if x in [1, 2, 3]:\n",
    "                with open(\"total.pkl\",\"rb\") as file:\n",
    "                    ta=pickle.load(file)\n",
    "                    t=ta\n",
    "                print(\"사용자 : {} / 컴퓨터 : {}\".format(game[x],game[y]))\n",
    "                t += 1\n",
    "                with open(\"total.pkl\",\"wb\") as file:\n",
    "                    pickle.dump(t,file)\n",
    "        \n",
    "            if (x==1 and y==3) or (x==2 and y==1) or (x==3 and y==2):\n",
    "                with open(\"victory.pkl\",\"rb\") as file:\n",
    "                    vi=pickle.load(file)\n",
    "                    v=vi\n",
    "                v += 1\n",
    "                with open(\"victory.pkl\",\"wb\") as file:\n",
    "                    pickle.dump(v,file)\n",
    "        \n",
    "        print(\"게임 종료 (전체 : {}, 승리 : {})\".format(t,v))\n",
    "            \n",
    "    if menu == \"2\":\n",
    "        print(\"종료합니다.\")\n",
    "        break\n",
    "\n",
    "print(\"게임 종료 (전체 : {}, 승리 : {})\".format(t,v))"
   ]
  },
  {
   "cell_type": "code",
   "execution_count": 11,
   "metadata": {},
   "outputs": [
    {
     "name": "stdout",
     "output_type": "stream",
     "text": [
      "10\n",
      "2\n"
     ]
    }
   ],
   "source": [
    "1\n",
    "with open(\"total.pkl\",\"rb\") as file:\n",
    "    data = pickle.load(file)\n",
    "    print(data)\n",
    "with open(\"victory.pkl\",\"rb\") as file:\n",
    "    data1 = pickle.load(file)\n",
    "    print(data1)"
   ]
  },
  {
   "cell_type": "code",
   "execution_count": 43,
   "metadata": {},
   "outputs": [],
   "source": [
    "with open(\"total.pkl\",\"wb\") as file:\n",
    "    pickle.dump(total,file)\n",
    "with open(\"victory.pkl\",\"wb\") as file:\n",
    "    pickle.dump(victory,file)"
   ]
  },
  {
   "cell_type": "code",
   "execution_count": null,
   "metadata": {},
   "outputs": [],
   "source": [
    "import pickle\n",
    "import random\n",
    "total = 0\n",
    "win = 0\n",
    "\n",
    "try :\n",
    "    with open(\"score.pkl\", \"rb\") as file:\n",
    "        total = pickle.load(total, file)\n",
    "        win = pickle.load(win, file)\n",
    "except Exception as e:\n",
    "    total = 0\n",
    "    win = 0\n",
    "\n",
    "if os.path.isfile(\"score.pkl\") :\n",
    "    with open(\"score.pkl\", 'rb') as file:\n",
    "        "
   ]
  }
 ],
 "metadata": {
  "kernelspec": {
   "display_name": "Python 3",
   "language": "python",
   "name": "python3"
  },
  "language_info": {
   "codemirror_mode": {
    "name": "ipython",
    "version": 3
   },
   "file_extension": ".py",
   "mimetype": "text/x-python",
   "name": "python",
   "nbconvert_exporter": "python",
   "pygments_lexer": "ipython3",
   "version": "3.7.9"
  }
 },
 "nbformat": 4,
 "nbformat_minor": 4
}
