{
 "cells": [
  {
   "cell_type": "code",
   "execution_count": 1,
   "metadata": {},
   "outputs": [],
   "source": [
    "import requests\n",
    "from bs4 import BeautifulSoup\n",
    "import re"
   ]
  },
  {
   "cell_type": "code",
   "execution_count": 2,
   "metadata": {},
   "outputs": [],
   "source": [
    "url =\"https://scrapying-study.firebaseapp.com/02/\"\n",
    "res = requests.get(url)\n",
    "soup = BeautifulSoup(res.text, \"html.parser\")"
   ]
  },
  {
   "cell_type": "code",
   "execution_count": 12,
   "metadata": {},
   "outputs": [
    {
     "data": {
      "text/plain": [
       "'안녕하세요'"
      ]
     },
     "execution_count": 12,
     "metadata": {},
     "output_type": "execute_result"
    }
   ],
   "source": [
    "result = soup.select(\"#title\") #soup.find_all(id=\"title\") 셀렉트는 리스트로 결과가 나온다\n",
    "result[0].text.strip()"
   ]
  },
  {
   "cell_type": "code",
   "execution_count": 9,
   "metadata": {},
   "outputs": [
    {
     "data": {
      "text/plain": [
       "[<a href=\"http://naver.com\" target=\"_blank\">네이버</a>]"
      ]
     },
     "execution_count": 9,
     "metadata": {},
     "output_type": "execute_result"
    }
   ],
   "source": [
    "soup.select(\"body > a:nth-child(4)\")"
   ]
  },
  {
   "cell_type": "code",
   "execution_count": 11,
   "metadata": {},
   "outputs": [
    {
     "data": {
      "text/plain": [
       "<a href=\"http://naver.com\" target=\"_blank\">네이버</a>"
      ]
     },
     "execution_count": 11,
     "metadata": {},
     "output_type": "execute_result"
    }
   ],
   "source": [
    "soup.select_one(\"body > a:nth-child(4)\") #find"
   ]
  },
  {
   "cell_type": "code",
   "execution_count": 13,
   "metadata": {},
   "outputs": [
    {
     "data": {
      "text/plain": [
       "'크롤링 연습사이트 02'"
      ]
     },
     "execution_count": 13,
     "metadata": {},
     "output_type": "execute_result"
    }
   ],
   "source": [
    "soup.select_one(\"title\").text"
   ]
  },
  {
   "cell_type": "code",
   "execution_count": 15,
   "metadata": {},
   "outputs": [
    {
     "data": {
      "text/plain": [
       "'안녕하세요'"
      ]
     },
     "execution_count": 15,
     "metadata": {},
     "output_type": "execute_result"
    }
   ],
   "source": [
    "soup.select_one(\".bold.blue\").text.strip()"
   ]
  },
  {
   "cell_type": "code",
   "execution_count": 18,
   "metadata": {},
   "outputs": [
    {
     "name": "stdout",
     "output_type": "stream",
     "text": [
      "1\n"
     ]
    }
   ],
   "source": [
    "result = soup.select(\".bold.blue\")\n",
    "print(len(result))"
   ]
  },
  {
   "cell_type": "code",
   "execution_count": 19,
   "metadata": {},
   "outputs": [
    {
     "data": {
      "text/plain": [
       "[<a href=\"http://naver.com\" target=\"_blank\">네이버</a>,\n",
       " <a href=\"http://daum.net\" target=\"_self\">다음</a>,\n",
       " <a href=\"http://google.com\" target=\"_self\">구글</a>]"
      ]
     },
     "execution_count": 19,
     "metadata": {},
     "output_type": "execute_result"
    }
   ],
   "source": [
    "soup.select('a[href]')"
   ]
  },
  {
   "cell_type": "code",
   "execution_count": 20,
   "metadata": {},
   "outputs": [
    {
     "data": {
      "text/plain": [
       "[<a href=\"http://naver.com\" target=\"_blank\">네이버</a>]"
      ]
     },
     "execution_count": 20,
     "metadata": {},
     "output_type": "execute_result"
    }
   ],
   "source": [
    "soup.select(\"a[target='_blank']\")"
   ]
  },
  {
   "cell_type": "code",
   "execution_count": 22,
   "metadata": {},
   "outputs": [
    {
     "data": {
      "text/plain": [
       "[<a href=\"http://naver.com\" target=\"_blank\">네이버</a>,\n",
       " <a href=\"http://google.com\" target=\"_self\">구글</a>]"
      ]
     },
     "execution_count": 22,
     "metadata": {},
     "output_type": "execute_result"
    }
   ],
   "source": [
    "soup.select(\"a[href$='.com']\")"
   ]
  },
  {
   "cell_type": "code",
   "execution_count": 25,
   "metadata": {},
   "outputs": [
    {
     "data": {
      "text/plain": [
       "[<p>온세상이 떨릴듯</p>,\n",
       " <p class=\"blue\">두근거리고 <span>익숙한 듯 편안해</span></p>,\n",
       " <p>네가 느껴져</p>,\n",
       " <p class=\"blue\">오래된 친구같아</p>]"
      ]
     },
     "execution_count": 25,
     "metadata": {},
     "output_type": "execute_result"
    }
   ],
   "source": [
    "soup.select(\"div#winter p\")"
   ]
  },
  {
   "cell_type": "code",
   "execution_count": 26,
   "metadata": {},
   "outputs": [
    {
     "data": {
      "text/plain": [
       "[<p>온세상이 떨릴듯</p>, <p class=\"blue\">두근거리고 <span>익숙한 듯 편안해</span></p>]"
      ]
     },
     "execution_count": 26,
     "metadata": {},
     "output_type": "execute_result"
    }
   ],
   "source": [
    "soup.select(\"div#winter > p\")"
   ]
  },
  {
   "cell_type": "markdown",
   "metadata": {},
   "source": [
    "# * 실습1"
   ]
  },
  {
   "cell_type": "code",
   "execution_count": 33,
   "metadata": {},
   "outputs": [],
   "source": [
    "url =\"https://scrapying-study.firebaseapp.com/03/\"\n",
    "res = requests.get(url)\n",
    "soup = BeautifulSoup(res.text, \"html.parser\")"
   ]
  },
  {
   "cell_type": "code",
   "execution_count": 185,
   "metadata": {},
   "outputs": [],
   "source": [
    "ristretto = soup.select_one(\"#popularItemList\").text"
   ]
  },
  {
   "cell_type": "code",
   "execution_count": 98,
   "metadata": {
    "scrolled": true
   },
   "outputs": [
    {
     "name": "stdout",
     "output_type": "stream",
     "text": [
      "\n",
      "1.써니전자5,000\n",
      "2.삼성전자55,200\n",
      "3.안랩81,000\n",
      "4.케이엠더블..57,300\n",
      "5.피피아이12,600\n",
      "6.KT&G92,500\n",
      "7.삼성전자우45,600\n",
      "8.대양금속10,550\n",
      "9.SK하이닉스94,700\n",
      "10.SK텔레콤234,000\n",
      "\n"
     ]
    }
   ],
   "source": [
    "print(ristretto)"
   ]
  },
  {
   "cell_type": "code",
   "execution_count": 109,
   "metadata": {},
   "outputs": [
    {
     "name": "stdout",
     "output_type": "stream",
     "text": [
      "['써니전자', '삼성전자', '안랩', '케이엠더블..', '피피아이', 'KT&G', '삼성전자우', '대양금속', 'SK하이닉스', 'SK텔레콤']\n"
     ]
    }
   ],
   "source": [
    "espresso=re.findall(\"[가-힣A-Z&]+\\.*\", ristretto)\n",
    "print(espresso)"
   ]
  },
  {
   "cell_type": "code",
   "execution_count": 110,
   "metadata": {},
   "outputs": [
    {
     "name": "stdout",
     "output_type": "stream",
     "text": [
      "['5,000', '55,200', '81,000', '57,300', '12,600', '92,500', '45,600', '10,550', '94,700', '234,000']\n"
     ]
    }
   ],
   "source": [
    "lungo=re.findall(\"[0-9]+,[0-9]+\", ristretto)\n",
    "print(lungo)"
   ]
  },
  {
   "cell_type": "code",
   "execution_count": 160,
   "metadata": {},
   "outputs": [
    {
     "name": "stdout",
     "output_type": "stream",
     "text": [
      "[['써니전자', '5,000'], ['삼성전자', '55,200'], ['안랩', '81,000'], ['케이엠더블..', '57,300'], ['피피아이', '12,600'], ['KT&G', '92,500'], ['삼성전자우', '45,600'], ['대양금속', '10,550'], ['SK하이닉스', '94,700'], ['SK텔레콤', '234,000']]\n"
     ]
    }
   ],
   "source": [
    "coffee = []\n",
    "for i in range(10):\n",
    "    variation = []\n",
    "    for k in range(1):\n",
    "        variation.append(espresso[i])\n",
    "        variation.append(lungo[i])\n",
    "    coffee.append(variation)\n",
    "print(coffee)"
   ]
  },
  {
   "cell_type": "code",
   "execution_count": 112,
   "metadata": {},
   "outputs": [
    {
     "name": "stdout",
     "output_type": "stream",
     "text": [
      "\n",
      "다우산업28,647.43\n",
      "나스닥9,015.03\n",
      "홍콩H11,320.56\n",
      "상해종합3,085.20\n",
      "니케이22523,656.62\n",
      "\n"
     ]
    }
   ],
   "source": [
    "latte = soup.select_one(\"body > ul.lst_major\").text\n",
    "print(latte)"
   ]
  },
  {
   "cell_type": "code",
   "execution_count": 113,
   "metadata": {},
   "outputs": [
    {
     "name": "stdout",
     "output_type": "stream",
     "text": [
      "['다우산업', '나스닥', '홍콩H', '상해종합', '니케이']\n"
     ]
    }
   ],
   "source": [
    "dry_cappuccino=re.findall(\"[가-힣A-Z&]+\\.*\", latte)\n",
    "print(dry_cappuccino)"
   ]
  },
  {
   "cell_type": "code",
   "execution_count": 114,
   "metadata": {},
   "outputs": [
    {
     "name": "stdout",
     "output_type": "stream",
     "text": [
      "['28,647.43', '9,015.03', '11,320.56', '3,085.20', '22523,656.62']\n"
     ]
    }
   ],
   "source": [
    "wet_cappuccino=re.findall(\"[0-9.,]+\", latte)\n",
    "print(wet_cappuccino)"
   ]
  },
  {
   "cell_type": "code",
   "execution_count": 115,
   "metadata": {},
   "outputs": [
    {
     "name": "stdout",
     "output_type": "stream",
     "text": [
      "[['다우산업', '28,647.43'], ['나스닥', '9,015.03'], ['홍콩H', '11,320.56'], ['상해종합', '3,085.20'], ['니케이', '22523,656.62']]\n"
     ]
    }
   ],
   "source": [
    "cappuccino = []\n",
    "for i in range(5):\n",
    "    variation = []\n",
    "    for k in range(1):\n",
    "        variation.append(dry_cappuccino[i])\n",
    "        variation.append(wet_cappuccino[i])\n",
    "    cappuccino.append(variation)\n",
    "print(cappuccino)"
   ]
  },
  {
   "cell_type": "code",
   "execution_count": 116,
   "metadata": {},
   "outputs": [
    {
     "name": "stdout",
     "output_type": "stream",
     "text": [
      "[['써니전자', '5,000', '써니전자', '5,000'], ['삼성전자', '55,200', '삼성전자', '55,200'], ['안랩', '81,000', '안랩', '81,000'], ['케이엠더블..', '57,300', '케이엠더블..', '57,300'], ['피피아이', '12,600', '피피아이', '12,600'], ['KT&G', '92,500', 'KT&G', '92,500'], ['삼성전자우', '45,600', '삼성전자우', '45,600'], ['대양금속', '10,550', '대양금속', '10,550'], ['SK하이닉스', '94,700', 'SK하이닉스', '94,700'], ['SK텔레콤', '234,000', 'SK텔레콤', '234,000']]\n",
      "[['다우산업', '28,647.43'], ['나스닥', '9,015.03'], ['홍콩H', '11,320.56'], ['상해종합', '3,085.20'], ['니케이', '22523,656.62']]\n"
     ]
    }
   ],
   "source": [
    "print(coffee)\n",
    "print(cappuccino)"
   ]
  },
  {
   "cell_type": "markdown",
   "metadata": {},
   "source": [
    "# * 실습 2"
   ]
  },
  {
   "cell_type": "code",
   "execution_count": 162,
   "metadata": {},
   "outputs": [
    {
     "name": "stdout",
     "output_type": "stream",
     "text": [
      "['상한', '하락', '상승', '상승', '상한', '하락', '상승', '하한', '상승', '하락']\n"
     ]
    }
   ],
   "source": [
    "blue_tea = []\n",
    "for i in range(1,11):\n",
    "    green_tea = soup.select_one(\"#popularItemList > li:nth-child({})\".format(i)).find(\"img\")[\"alt\"]\n",
    "    blue_tea.append(green_tea)\n",
    "print(blue_tea)"
   ]
  },
  {
   "cell_type": "code",
   "execution_count": 163,
   "metadata": {},
   "outputs": [
    {
     "name": "stdout",
     "output_type": "stream",
     "text": [
      "[['써니전자', '상한'], ['삼성전자', '하락'], ['안랩', '상승'], ['케이엠더블..', '상승'], ['피피아이', '상한'], ['KT&G', '하락'], ['삼성전자우', '상승'], ['대양금속', '하한'], ['SK하이닉스', '상승'], ['SK텔레콤', '하락']]\n"
     ]
    }
   ],
   "source": [
    "tea = []\n",
    "for i in range(10):\n",
    "    variation = []\n",
    "    for k in range(1):\n",
    "        variation.append(espresso[i])\n",
    "        variation.append(blue_tea[i])\n",
    "    tea.append(variation)\n",
    "print(tea)"
   ]
  },
  {
   "cell_type": "code",
   "execution_count": 164,
   "metadata": {},
   "outputs": [
    {
     "name": "stdout",
     "output_type": "stream",
     "text": [
      "['상한', '상한', '상한', '상한', '하락']\n"
     ]
    }
   ],
   "source": [
    "black_tea = []\n",
    "for i in range(1,6):\n",
    "    white_tea = soup.select_one(\"body > ul.lst_major > li:nth-child({})\".format(i)).find(\"img\")[\"alt\"]\n",
    "    black_tea.append(white_tea)\n",
    "print(black_tea)"
   ]
  },
  {
   "cell_type": "code",
   "execution_count": 166,
   "metadata": {},
   "outputs": [
    {
     "name": "stdout",
     "output_type": "stream",
     "text": [
      "[['다우산업', '상한'], ['나스닥', '상한'], ['홍콩H', '상한'], ['상해종합', '상한'], ['니케이', '하락']]\n"
     ]
    }
   ],
   "source": [
    "dark_tea = []\n",
    "for i in range(5):\n",
    "    variation = []\n",
    "    for k in range(1):\n",
    "        variation.append(dry_cappuccino[i])\n",
    "        variation.append(black_tea[i])\n",
    "    dark_tea.append(variation)\n",
    "print(dark_tea)"
   ]
  },
  {
   "cell_type": "markdown",
   "metadata": {},
   "source": [
    "# * 실습 3"
   ]
  },
  {
   "cell_type": "code",
   "execution_count": 171,
   "metadata": {},
   "outputs": [
    {
     "name": "stdout",
     "output_type": "stream",
     "text": [
      "[['써니전자', '5,000', '상한'], ['삼성전자', '55,200', '하락'], ['안랩', '81,000', '상승'], ['케이엠더블..', '57,300', '상승'], ['피피아이', '12,600', '상한'], ['KT&G', '92,500', '하락'], ['삼성전자우', '45,600', '상승'], ['대양금속', '10,550', '하한'], ['SK하이닉스', '94,700', '상승'], ['SK텔레콤', '234,000', '하락']]\n"
     ]
    }
   ],
   "source": [
    "red_wine = []\n",
    "for i in range(10):\n",
    "    variation = []\n",
    "    for k in range(1):\n",
    "        variation.append(espresso[i])\n",
    "        variation.append(lungo[i])\n",
    "        variation.append(blue_tea[i])\n",
    "    red_wine.append(variation)\n",
    "print(red_wine)"
   ]
  },
  {
   "cell_type": "code",
   "execution_count": 182,
   "metadata": {},
   "outputs": [
    {
     "name": "stdout",
     "output_type": "stream",
     "text": [
      "[['써니전자', '5,000'], ['안랩', '81,000'], ['케이엠더블..', '57,300'], ['피피아이', '12,600'], ['삼성전자우', '45,600'], ['SK하이닉스', '94,700']]\n"
     ]
    }
   ],
   "source": [
    "rose_wine=[]\n",
    "for i in range(len(red_wine)):\n",
    "    ice_wine = []\n",
    "    for k in range(1):\n",
    "        if red_wine[i][2] == '상한' or red_wine[i][2] == '상승':\n",
    "            ice_wine.append(red_wine[i][0])\n",
    "            ice_wine.append(red_wine[i][1])\n",
    "            rose_wine.append(ice_wine)\n",
    "print(rose_wine)"
   ]
  },
  {
   "cell_type": "code",
   "execution_count": 172,
   "metadata": {},
   "outputs": [
    {
     "name": "stdout",
     "output_type": "stream",
     "text": [
      "[['다우산업', '28,647.43', '상한'], ['나스닥', '9,015.03', '상한'], ['홍콩H', '11,320.56', '상한'], ['상해종합', '3,085.20', '상한'], ['니케이', '22523,656.62', '하락']]\n"
     ]
    }
   ],
   "source": [
    "white_wine = []\n",
    "for i in range(5):\n",
    "    variation = []\n",
    "    for k in range(1):\n",
    "        variation.append(dry_cappuccino[i])\n",
    "        variation.append(wet_cappuccino[i])\n",
    "        variation.append(black_tea[i])\n",
    "    white_wine.append(variation)\n",
    "print(white_wine)"
   ]
  },
  {
   "cell_type": "code",
   "execution_count": 183,
   "metadata": {},
   "outputs": [
    {
     "name": "stdout",
     "output_type": "stream",
     "text": [
      "[['다우산업', '28,647.43'], ['나스닥', '9,015.03'], ['홍콩H', '11,320.56'], ['상해종합', '3,085.20']]\n"
     ]
    }
   ],
   "source": [
    "sparkling_wine=[]\n",
    "for i in range(len(white_wine)):\n",
    "    ice_wine = []\n",
    "    for k in range(1):\n",
    "        if white_wine[i][2] == '상한':\n",
    "            ice_wine.append(white_wine[i][0])\n",
    "            ice_wine.append(white_wine[i][1])\n",
    "            sparkling_wine.append(ice_wine)\n",
    "print(sparkling_wine)"
   ]
  },
  {
   "cell_type": "markdown",
   "metadata": {},
   "source": [
    "# * 실습 4"
   ]
  },
  {
   "cell_type": "code",
   "execution_count": 310,
   "metadata": {},
   "outputs": [
    {
     "name": "stdout",
     "output_type": "stream",
     "text": [
      "['이름', '이름', '이름', '이름', '이름']\n"
     ]
    }
   ],
   "source": [
    "k_name = [\"이름\"]*5\n",
    "print(k_name)"
   ]
  },
  {
   "cell_type": "code",
   "execution_count": 311,
   "metadata": {},
   "outputs": [
    {
     "name": "stdout",
     "output_type": "stream",
     "text": [
      "['H하우스장위', '고덕리엔파크2단지 장기전세', '신정이펜하우스3단지 장기전세', '천왕이펜하우스2단지 장기전세', '송파파크데일2단지 장기전세']\n"
     ]
    }
   ],
   "source": [
    "v_name = []\n",
    "for i in range(1,6):\n",
    "    vn = soup.select_one(\"body > ul.sale_list._sale_list > li:nth-child({}) > div > div.sale_tit > a\".format(i)).text\n",
    "    v_name.append(vn)\n",
    "print(v_name)"
   ]
  },
  {
   "cell_type": "code",
   "execution_count": 312,
   "metadata": {},
   "outputs": [
    {
     "name": "stdout",
     "output_type": "stream",
     "text": [
      "['분양가', '분양가', '분양가', '분양가', '분양가']\n"
     ]
    }
   ],
   "source": [
    "k_price = [\"분양가\"]*5\n",
    "print(k_price)"
   ]
  },
  {
   "cell_type": "code",
   "execution_count": 313,
   "metadata": {},
   "outputs": [
    {
     "name": "stdout",
     "output_type": "stream",
     "text": [
      "['16,000', '38,400', '39,040', '38,240', '45,600']\n"
     ]
    }
   ],
   "source": [
    "v_price = []\n",
    "for i in range(1,6):\n",
    "    vp = soup.select_one(\"body > ul.sale_list._sale_list > li:nth-child({}) > div > div.sale_detail > dl > dd:nth-child(2) > strong\".format(i)).text\n",
    "    v_price.append(vp)\n",
    "print(v_price)"
   ]
  },
  {
   "cell_type": "code",
   "execution_count": 314,
   "metadata": {},
   "outputs": [
    {
     "name": "stdout",
     "output_type": "stream",
     "text": [
      "['유형', '유형', '유형', '유형', '유형']\n"
     ]
    }
   ],
   "source": [
    "k_type = [\"유형\"]*5\n",
    "print(k_type)"
   ]
  },
  {
   "cell_type": "code",
   "execution_count": 315,
   "metadata": {},
   "outputs": [
    {
     "name": "stdout",
     "output_type": "stream",
     "text": [
      "['아파트', '아파트', '아파트', '아파트', '아파트']\n"
     ]
    }
   ],
   "source": [
    "vt = []\n",
    "for i in range(1,6):\n",
    "    vt0 = soup.select_one(\"body > ul.sale_list._sale_list > li:nth-child({}) > div > div.sale_detail > dl > dd:nth-child(4)\".format(i)).text\n",
    "    vt1 = re.findall(\"아파트\", vt0)\n",
    "    vt.append(vt1)\n",
    "\n",
    "    \n",
    "v_type = []\n",
    "for k in range(5):\n",
    "    v_type.append(vt[k][0])\n",
    "print(v_type)\n"
   ]
  },
  {
   "cell_type": "code",
   "execution_count": 316,
   "metadata": {},
   "outputs": [
    {
     "name": "stdout",
     "output_type": "stream",
     "text": [
      "['분양유형', '분양유형', '분양유형', '분양유형', '분양유형']\n"
     ]
    }
   ],
   "source": [
    "k_type2 = [\"분양유형\"]*5\n",
    "print(k_type2)"
   ]
  },
  {
   "cell_type": "code",
   "execution_count": 317,
   "metadata": {},
   "outputs": [
    {
     "name": "stdout",
     "output_type": "stream",
     "text": [
      "['일반민간임대', '장기전세주택', '장기전세주택', '장기전세주택', '장기전세주택']\n"
     ]
    }
   ],
   "source": [
    "v_type2 =[]\n",
    "for i in range(1,6):\n",
    "    vt3 = soup.select_one(\"body > ul.sale_list._sale_list > li:nth-child({}) > div > div.sale_detail > dl > dd:nth-child(4)\".format(i)).text\n",
    "    vt4 = re.sub(\"^....\", \"\", vt3)\n",
    "    v_type2.append(vt4)\n",
    "print(v_type2)"
   ]
  },
  {
   "cell_type": "code",
   "execution_count": 329,
   "metadata": {},
   "outputs": [
    {
     "name": "stdout",
     "output_type": "stream",
     "text": [
      "['세대수', '세대수', '세대수', '세대수', '세대수']\n"
     ]
    }
   ],
   "source": [
    "k_house = [\"세대수\"]*5\n",
    "print(k_house)"
   ]
  },
  {
   "cell_type": "code",
   "execution_count": 332,
   "metadata": {},
   "outputs": [
    {
     "name": "stdout",
     "output_type": "stream",
     "text": [
      "['분양 134세대', '분양 1세대', '분양 1세대', '분양 1세대', '분양 1세대']\n"
     ]
    }
   ],
   "source": [
    "vh =[]\n",
    "for i in range(1,6):\n",
    "    vh0 = soup.select_one(\"body > ul.sale_list._sale_list > li:nth-child({}) > div > div.sale_detail > dl > dd:nth-child(6)\".format(i)).text\n",
    "    vh1 = re.findall(\"분양 [0-9]*세대\", vh0)\n",
    "    vh.append(vh1)\n",
    "\n",
    "v_house = []\n",
    "for k in range(5):\n",
    "    v_house.append(vh[k][0])\n",
    "print(v_house)"
   ]
  },
  {
   "cell_type": "code",
   "execution_count": 320,
   "metadata": {},
   "outputs": [
    {
     "name": "stdout",
     "output_type": "stream",
     "text": [
      "['평형', '평형', '평형', '평형', '평형']\n"
     ]
    }
   ],
   "source": [
    "k_area = [\"평형\"]*5\n",
    "print(k_area)"
   ]
  },
  {
   "cell_type": "code",
   "execution_count": 321,
   "metadata": {},
   "outputs": [
    {
     "name": "stdout",
     "output_type": "stream",
     "text": [
      "['45㎡~65㎡', '149㎡', '148㎡', '142㎡', '150㎡']\n"
     ]
    }
   ],
   "source": [
    "v_area = []\n",
    "for i in range(1,6):\n",
    "    va0 = soup.select_one(\"body > ul.sale_list._sale_list > li:nth-child({}) > div > div.sale_detail > dl > dd:nth-child(6)\".format(i)).text\n",
    "    va1 = re.sub(\"분양 [0-9]*세대.\", \"\", va0)\n",
    "    v_area.append(va1)\n",
    "print(v_area)"
   ]
  },
  {
   "cell_type": "code",
   "execution_count": 326,
   "metadata": {},
   "outputs": [
    {
     "name": "stdout",
     "output_type": "stream",
     "text": [
      "{'이름': '송파파크데일2단지 장기전세'}\n"
     ]
    }
   ],
   "source": [
    "dic = dict(zip(k_name[:],v_name[:]))\n",
    "print(dic) "
   ]
  },
  {
   "cell_type": "code",
   "execution_count": null,
   "metadata": {},
   "outputs": [],
   "source": [
    "k_name, v_name // k_price, v_price // k_type, v_type // k_type2, v_type2 // k_house, v_house // k_area, v_area"
   ]
  },
  {
   "cell_type": "code",
   "execution_count": 333,
   "metadata": {},
   "outputs": [
    {
     "name": "stdout",
     "output_type": "stream",
     "text": [
      "[{'이름': 'H하우스장위', '분양가': '16,000', '유형': '아파트', '분양유형': '일반민간임대', '세대수': '분양 134세대', '평형': '45㎡~65㎡'}, {'이름': '고덕리엔파크2단지 장기전세', '분양가': '38,400', '유형': '아파트', '분양유형': '장기전세주택', '세대수': '분양 1세대', '평형': '149㎡'}, {'이름': '신정이펜하우스3단지 장기전세', '분양가': '39,040', '유형': '아파트', '분양유형': '장기전세주택', '세대수': '분양 1세대', '평형': '148㎡'}, {'이름': '천왕이펜하우스2단지 장기전세', '분양가': '38,240', '유형': '아파트', '분양유형': '장기전세주택', '세대수': '분양 1세대', '평형': '142㎡'}, {'이름': '송파파크데일2단지 장기전세', '분양가': '45,600', '유형': '아파트', '분양유형': '장기전세주택', '세대수': '분양 1세대', '평형': '150㎡'}]\n"
     ]
    }
   ],
   "source": [
    "f = []\n",
    "for i in range(5):\n",
    "    d = {}\n",
    "    for k in range(1):\n",
    "        d.setdefault(k_name[i],v_name[i])\n",
    "        d.setdefault(k_price[i],v_price[i])\n",
    "        d.setdefault(k_type[i],v_type[i])\n",
    "        d.setdefault(k_type2[i],v_type2[i])\n",
    "        d.setdefault(k_house[i],v_house[i])\n",
    "        d.setdefault(k_area[i],v_area[i])\n",
    "    f.append(d)\n",
    "print(f)\n",
    "    "
   ]
  },
  {
   "cell_type": "code",
   "execution_count": null,
   "metadata": {},
   "outputs": [],
   "source": []
  }
 ],
 "metadata": {
  "kernelspec": {
   "display_name": "Python 3",
   "language": "python",
   "name": "python3"
  },
  "language_info": {
   "codemirror_mode": {
    "name": "ipython",
    "version": 3
   },
   "file_extension": ".py",
   "mimetype": "text/x-python",
   "name": "python",
   "nbconvert_exporter": "python",
   "pygments_lexer": "ipython3",
   "version": "3.7.9"
  }
 },
 "nbformat": 4,
 "nbformat_minor": 4
}
