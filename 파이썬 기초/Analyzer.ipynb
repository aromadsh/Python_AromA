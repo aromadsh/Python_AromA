{
 "cells": [
  {
   "cell_type": "markdown",
   "metadata": {},
   "source": [
    "[주가예측 시스템]\n",
    "1. class명 : MarketDB\n",
    "\n",
    "2. 핵심 함수명 : def get_daily_price(self, code, start_date=None, end_date=None):\n",
    "\n",
    "핵심 함수명 : def get_daily_price(self, code, start_date=None, end_date=None):\n",
    "    code는 상장기업코드(ex : 005678) 혹은 기업명(ex: 삼성전자) 입력 가능해야함\n",
    "    start_date ~ end_date 값을 가지고 Investar DB에서 조회한후 DataFrame로 return"
   ]
  },
  {
   "cell_type": "code",
   "execution_count": 1,
   "metadata": {},
   "outputs": [
    {
     "ename": "IndentationError",
     "evalue": "expected an indented block (<ipython-input-1-2967a9fc9a4e>, line 10)",
     "output_type": "error",
     "traceback": [
      "\u001b[1;36m  File \u001b[1;32m\"<ipython-input-1-2967a9fc9a4e>\"\u001b[1;36m, line \u001b[1;32m10\u001b[0m\n\u001b[1;33m    sql = f\"SELECT code, company FROM company_info WHERE code = {}\".format(self.code)\u001b[0m\n\u001b[1;37m      ^\u001b[0m\n\u001b[1;31mIndentationError\u001b[0m\u001b[1;31m:\u001b[0m expected an indented block\n"
     ]
    }
   ],
   "source": [
    "class MarketDB :\n",
    "    \n",
    "    def __init__(self) :\n",
    "        self.code = code\n",
    "        self.start_date = None\n",
    "        self.end_date = None\n",
    "    \n",
    "    def get_daily_price(self, code, start_date=None, end_date=None):\n",
    "        with self.conn.cursor() as curs:\n",
    "        sql = f\"SELECT code, company FROM company_info WHERE code = {}\".format(self.code)\n",
    "        curs.execute(sql)\n",
    "        self.conn.commit()\n",
    "        print(\"{}\".format(sql))"
   ]
  },
  {
   "cell_type": "code",
   "execution_count": null,
   "metadata": {},
   "outputs": [],
   "source": []
  }
 ],
 "metadata": {
  "kernelspec": {
   "display_name": "Python 3",
   "language": "python",
   "name": "python3"
  },
  "language_info": {
   "codemirror_mode": {
    "name": "ipython",
    "version": 3
   },
   "file_extension": ".py",
   "mimetype": "text/x-python",
   "name": "python",
   "nbconvert_exporter": "python",
   "pygments_lexer": "ipython3",
   "version": "3.7.9"
  }
 },
 "nbformat": 4,
 "nbformat_minor": 4
}
