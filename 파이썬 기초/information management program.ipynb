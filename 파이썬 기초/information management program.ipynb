{
 "cells": [
  {
   "cell_type": "code",
   "execution_count": 1,
   "metadata": {},
   "outputs": [],
   "source": [
    "import pickle\n",
    "infor = []"
   ]
  },
  {
   "cell_type": "code",
   "execution_count": 2,
   "metadata": {},
   "outputs": [
    {
     "name": "stdout",
     "output_type": "stream",
     "text": [
      "메뉴를 선택해주세요\n",
      "1. 입력\t2. 조회\t3. 삭제\t0. 종료\n",
      "0\n",
      "종료되었습니다.\n"
     ]
    }
   ],
   "source": [
    "while True:\n",
    "    menu = input(\"메뉴를 선택해주세요\\n1. 입력\\t2. 조회\\t3. 삭제\\t0. 종료\\n\")\n",
    "    if menu == \"1\" :\n",
    "        name = input(\"이름 : \")\n",
    "        math = int(input(\"수학 : \"))\n",
    "        science = int(input(\"과학 : \"))\n",
    "        english = int(input(\"영어 : \"))\n",
    "        \n",
    "        mation = dict()\n",
    "        for i in range(4):\n",
    "            mation.setdefault(\"이름\",name)\n",
    "            mation.setdefault(\"수학\",math)\n",
    "            mation.setdefault(\"과학\",science)\n",
    "            mation.setdefault(\"영어\",english)\n",
    "        infor.append(mation)\n",
    "        \n",
    "        with open(\"info.pkl\",\"wb\") as file:\n",
    "            pickle.dump(infor,file)\n",
    "        continue\n",
    "    \n",
    "    elif menu == \"2\":\n",
    "        with open(\"info.pkl\",\"rb\") as file:\n",
    "            data = pickle.load(file)\n",
    "            for i in range(len(infor)):\n",
    "                print(\"[{}] {}\\n\".format(i,data[i]))\n",
    "                \n",
    "    elif menu == \"3\":\n",
    "        with open(\"info.pkl\",\"rb\") as file:\n",
    "            data = pickle.load(file)\n",
    "            for k in range(len(infor)):\n",
    "                print(\"[{}] {}\\n\".format(k,data[k]))\n",
    "        a = int(input(\"삭제할 번호를 입력해주세요.\\n\"))\n",
    "        infor.pop(a)\n",
    "        print(\"삭제가 완료되었습니다.\")\n",
    "        \n",
    "    elif menu == \"0\":\n",
    "        print(\"종료되었습니다.\")\n",
    "        break"
   ]
  },
  {
   "cell_type": "code",
   "execution_count": 24,
   "metadata": {
    "scrolled": true
   },
   "outputs": [
    {
     "name": "stdout",
     "output_type": "stream",
     "text": [
      "[0] {'이름': '이승엽', '수학': 100, '과학': 100, '영어': 100}\n",
      "\n",
      "[1] {'이름': '십승엽', '수학': 10, '과학': 10, '영어': 10}\n",
      "\n",
      "[2] {'이름': '백승엽', '수학': 100, '과학': 100, '영어': 100}\n",
      "\n",
      "[3] {'이름': '천승엽', '수학': 1000, '과학': 1000, '영어': 1000}\n",
      "\n"
     ]
    }
   ],
   "source": [
    "with open(\"info.pkl\",\"rb\") as file:\n",
    "            data = pickle.load(file)\n",
    "            for k in range(len(infor)):\n",
    "                print(\"[{}] {}\\n\".format(k,data[k]))"
   ]
  },
  {
   "cell_type": "code",
   "execution_count": 3,
   "metadata": {},
   "outputs": [
    {
     "ename": "NameError",
     "evalue": "name 'mation' is not defined",
     "output_type": "error",
     "traceback": [
      "\u001b[1;31m---------------------------------------------------------------------------\u001b[0m",
      "\u001b[1;31mNameError\u001b[0m                                 Traceback (most recent call last)",
      "\u001b[1;32m<ipython-input-3-349276c16104>\u001b[0m in \u001b[0;36m<module>\u001b[1;34m\u001b[0m\n\u001b[1;32m----> 1\u001b[1;33m \u001b[0mprint\u001b[0m\u001b[1;33m(\u001b[0m\u001b[0mmation\u001b[0m\u001b[1;33m)\u001b[0m\u001b[1;33m\u001b[0m\u001b[1;33m\u001b[0m\u001b[0m\n\u001b[0m",
      "\u001b[1;31mNameError\u001b[0m: name 'mation' is not defined"
     ]
    }
   ],
   "source": [
    "print(mation)"
   ]
  },
  {
   "cell_type": "code",
   "execution_count": null,
   "metadata": {},
   "outputs": [],
   "source": []
  }
 ],
 "metadata": {
  "kernelspec": {
   "display_name": "Python 3",
   "language": "python",
   "name": "python3"
  },
  "language_info": {
   "codemirror_mode": {
    "name": "ipython",
    "version": 3
   },
   "file_extension": ".py",
   "mimetype": "text/x-python",
   "name": "python",
   "nbconvert_exporter": "python",
   "pygments_lexer": "ipython3",
   "version": "3.7.9"
  }
 },
 "nbformat": 4,
 "nbformat_minor": 4
}
