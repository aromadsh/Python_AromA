{
 "cells": [
  {
   "cell_type": "markdown",
   "metadata": {},
   "source": [
    "# Chapter 2\n",
    "\n",
    "## 퍼셉트론\n",
    "- 프랑크 로젠블라트가 1957년에 고안한 알고리즘"
   ]
  },
  {
   "cell_type": "markdown",
   "metadata": {},
   "source": [
    "### 2.1 퍼셉트론이란?\n",
    "- 다수의 신호를 입력으로 받아 하나의 신호를 출력\n",
    "- 신호가 흐른다 : 1, 신호가 안흐른다 : 0\n",
    "- 노드는 뉴런이라고도 한다."
   ]
  },
  {
   "cell_type": "markdown",
   "metadata": {},
   "source": [
    "**뉴런에서 보내온 신호의 총합이 정해진 한계를 넘어설 때만 1을 출력한다. (θ= 한계값, 임계값)**  \n",
    "\n",
    "<img src = \"./필요 이미지/그림2-1.PNG\" width=\"30%\" align = \"left\">\n",
    "<img src = \"./필요 이미지/식2-1.PNG\" width=\"40%\" align = \"left\">"
   ]
  },
  {
   "cell_type": "markdown",
   "metadata": {},
   "source": [
    "### 2.2 단순한 논리 회로  \n",
    "\n",
    "**2.2.1 AND 게이트**\n",
    "- 두 입력이 1일 때만 1을 출력, 그 외에는 0을 출력합니다.<br>\n",
    "<img src = \"./필요 이미지/그림2-2.PNG\" width=\"40%\" align = \"left\">"
   ]
  },
  {
   "cell_type": "markdown",
   "metadata": {},
   "source": [
    "**2.2.2 NAND 게이트와 OR 게이트**\n",
    "- NAND 게이트는 AND 게이트와 반대로 출력합니다.<br>\n",
    "<img src = \"./필요 이미지/그림2-3.PNG\" width=\"40%\" align = \"left\">"
   ]
  },
  {
   "cell_type": "markdown",
   "metadata": {},
   "source": [
    "- OR 게이트는 입력이 하나만 1이어도 1을 출력합니다.<br>\n",
    "<img src = \"./필요 이미지/그림2-4.PNG\" width=\"40%\" align = \"left\">"
   ]
  },
  {
   "cell_type": "markdown",
   "metadata": {},
   "source": [
    "- 퍼셉트론의 구조는 AND, NAND, OR 게이트 모두에서 똑같다.\n",
    "- 단 매개변수인 가중치와 임계값만 다르다."
   ]
  },
  {
   "cell_type": "markdown",
   "metadata": {},
   "source": [
    "### 2.3 퍼셉트론 구현하기\n",
    "**2.3.1 간단한 구현부터**\n",
    "- AND 함수"
   ]
  },
  {
   "cell_type": "markdown",
   "metadata": {},
   "source": [
    "3-1 간단한 구현 (AND)"
   ]
  },
  {
   "cell_type": "code",
   "execution_count": 3,
   "metadata": {},
   "outputs": [],
   "source": [
    "def AND (x1, x2) :\n",
    "    w1, w2, theta = 0.5, 0.5, 0.7\n",
    "    tmp = x1*w1+x2*w2\n",
    "    if tmp <= theta:\n",
    "        return 0\n",
    "    elif tmp > theta:\n",
    "        return 1"
   ]
  },
  {
   "cell_type": "code",
   "execution_count": 4,
   "metadata": {},
   "outputs": [
    {
     "name": "stdout",
     "output_type": "stream",
     "text": [
      "0\n",
      "0\n",
      "0\n",
      "1\n"
     ]
    }
   ],
   "source": [
    "print(AND(0, 0))\n",
    "print(AND(1, 0))\n",
    "print(AND(0, 1))\n",
    "print(AND(1, 1))"
   ]
  },
  {
   "cell_type": "markdown",
   "metadata": {},
   "source": [
    "**2.3.2 가중치와 편향 도입**(b는 편향(bias))<br>\n",
    "<img src = \"./필요 이미지/식2-2.PNG\" width=\"40%\" align = \"left\">"
   ]
  },
  {
   "cell_type": "markdown",
   "metadata": {},
   "source": []
  }
 ],
 "metadata": {
  "kernelspec": {
   "display_name": "Python 3",
   "language": "python",
   "name": "python3"
  },
  "language_info": {
   "codemirror_mode": {
    "name": "ipython",
    "version": 3
   },
   "file_extension": ".py",
   "mimetype": "text/x-python",
   "name": "python",
   "nbconvert_exporter": "python",
   "pygments_lexer": "ipython3",
   "version": "3.7.9"
  }
 },
 "nbformat": 4,
 "nbformat_minor": 4
}
