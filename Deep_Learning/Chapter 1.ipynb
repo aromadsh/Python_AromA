{
 "cells": [
  {
   "cell_type": "markdown",
   "metadata": {},
   "source": [
    "# Chapter 1\n",
    "\n",
    "## **헬로 파이썬**\n",
    "\n",
    "선수 개념 : Python, Numpy, Matplotlib\n"
   ]
  },
  {
   "cell_type": "markdown",
   "metadata": {},
   "source": [
    "### 1.1 파이썬이란\n",
    "- 배우기 쉬운 프로그래밍 언어\n",
    "- 코드가 읽기 쉽고 성능도 뛰어남\n",
    "- 과학분야, 기계학습, 데이터과학 분야에서 널리 쓰임\n"
   ]
  },
  {
   "cell_type": "markdown",
   "metadata": {},
   "source": [
    "### 1.2 파이썬 설치하기  \n",
    "\n",
    "**1.2.1 파이썬 버전**\n",
    "- 파이썬은 현재 2.x, 3.x 버전이 있고 두 버전은 하위 호환성이 없음 여기서는 3버전을 사용\n",
    "\n",
    "**1.2.2 사용하는 외부 라이브러리**\n",
    "- 파이썬3, 넘파이, matplotlib\n",
    "\n",
    "**1.2.3 아나콘다 배포판**\n",
    "- https://www.anaconda.com/products/individual"
   ]
  },
  {
   "cell_type": "code",
   "execution_count": null,
   "metadata": {},
   "outputs": [],
   "source": []
  }
 ],
 "metadata": {
  "kernelspec": {
   "display_name": "Python 3",
   "language": "python",
   "name": "python3"
  },
  "language_info": {
   "codemirror_mode": {
    "name": "ipython",
    "version": 3
   },
   "file_extension": ".py",
   "mimetype": "text/x-python",
   "name": "python",
   "nbconvert_exporter": "python",
   "pygments_lexer": "ipython3",
   "version": "3.7.9"
  }
 },
 "nbformat": 4,
 "nbformat_minor": 4
}
