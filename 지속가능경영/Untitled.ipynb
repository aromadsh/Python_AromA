{
 "cells": [
  {
   "cell_type": "code",
   "execution_count": 1,
   "metadata": {},
   "outputs": [],
   "source": [
    "from pdfminer.pdfinterp import PDFResourceManager, process_pdf\n",
    "from pdfminer.converter import TextConverter\n",
    "from pdfminer.layout import LAParams\n",
    "from io import StringIO\n",
    "from io import open\n",
    "from urllib.request import urlopen\n",
    "import re\n",
    "import os"
   ]
  },
  {
   "cell_type": "code",
   "execution_count": 2,
   "metadata": {},
   "outputs": [
    {
     "name": "stderr",
     "output_type": "stream",
     "text": [
      "[nltk_data] Downloading package punkt to\n",
      "[nltk_data]     C:\\Users\\rnru1\\AppData\\Roaming\\nltk_data...\n",
      "[nltk_data]   Package punkt is already up-to-date!\n"
     ]
    },
    {
     "data": {
      "text/plain": [
       "True"
      ]
     },
     "execution_count": 2,
     "metadata": {},
     "output_type": "execute_result"
    }
   ],
   "source": [
    "import urllib.request\n",
    "import zipfile\n",
    "from lxml import etree\n",
    "import re\n",
    "from nltk.tokenize import word_tokenize, sent_tokenize\n",
    "import nltk\n",
    "nltk.download('punkt')"
   ]
  },
  {
   "cell_type": "code",
   "execution_count": 4,
   "metadata": {},
   "outputs": [],
   "source": [
    "def read_pdf_file(pdfFile):\n",
    "    pdfrm = PDFResourceManager()\n",
    "    strio = StringIO()\n",
    "    lapa = LAParams()\n",
    "    device = TextConverter(pdfrm, strio, laparams = lapa)\n",
    "    \n",
    "    process_pdf(pdfrm, device, pdfFile)\n",
    "    device.close()\n",
    "    \n",
    "    content = strio.getvalue()\n",
    "    strio.close()\n",
    "    return content"
   ]
  },
  {
   "cell_type": "code",
   "execution_count": 5,
   "metadata": {},
   "outputs": [
    {
     "name": "stderr",
     "output_type": "stream",
     "text": [
      "WARNING:pdfminer.layout:Too many boxes (106) to group, skipping.\n",
      "WARNING:pdfminer.layout:Too many boxes (114) to group, skipping.\n",
      "WARNING:pdfminer.layout:Too many boxes (134) to group, skipping.\n",
      "WARNING:pdfminer.layout:Too many boxes (145) to group, skipping.\n",
      "WARNING:pdfminer.layout:Too many boxes (102) to group, skipping.\n",
      "WARNING:pdfminer.layout:Too many boxes (215) to group, skipping.\n",
      "WARNING:pdfminer.layout:Too many boxes (280) to group, skipping.\n",
      "WARNING:pdfminer.layout:Too many boxes (173) to group, skipping.\n",
      "WARNING:pdfminer.layout:Too many boxes (131) to group, skipping.\n",
      "WARNING:pdfminer.layout:Too many boxes (220) to group, skipping.\n",
      "WARNING:pdfminer.layout:Too many boxes (124) to group, skipping.\n"
     ]
    }
   ],
   "source": [
    "pdf_samsung = open(\"삼성디스플레이.pdf\", \"rb\")\n",
    "samsung_display = read_pdf_file(pdf_samsung)\n",
    "pdf_samsung.close() "
   ]
  },
  {
   "cell_type": "code",
   "execution_count": 17,
   "metadata": {},
   "outputs": [],
   "source": [
    "samsung_display = samsung_display.replace(\"\\n\", \" \")\n",
    "test = re.sub(\"[0-9\\•\\/\\(\\)\\[\\]\\{\\}\\·\\'\\'\\\"\\\"\\`\\%\\㎡\\*\\━\\‘\\’\\●\\★\\,]+\", \" \", samsung_display).replace(\"\\x0c\", \"\")"
   ]
  },
  {
   "cell_type": "code",
   "execution_count": 19,
   "metadata": {},
   "outputs": [],
   "source": [
    "sent_text = sent_tokenize(test)"
   ]
  },
  {
   "cell_type": "code",
   "execution_count": 23,
   "metadata": {},
   "outputs": [],
   "source": [
    "normalized_text = []\n",
    "for string in sent_text:\n",
    "    tokens = re.sub(r\"[^a-z0-9가-힣]+\", \" \", string.lower())\n",
    "    normalized_text.append(tokens)"
   ]
  },
  {
   "cell_type": "code",
   "execution_count": 25,
   "metadata": {},
   "outputs": [],
   "source": [
    "result = [word_tokenize(sentence) for sentence in normalized_text]"
   ]
  },
  {
   "cell_type": "code",
   "execution_count": 28,
   "metadata": {},
   "outputs": [
    {
     "name": "stdout",
     "output_type": "stream",
     "text": [
      "총 샘플의 개수 : 956\n"
     ]
    }
   ],
   "source": [
    "print('총 샘플의 개수 : {}'.format(len(result)))"
   ]
  },
  {
   "cell_type": "code",
   "execution_count": 29,
   "metadata": {},
   "outputs": [
    {
     "name": "stdout",
     "output_type": "stream",
     "text": [
      "['samsung', 'display', 'sustainability', 'report', 'see', 'through', '우리는', 'see', 'through', '지속가능한', '내일을', '봅니다', '세상을', '바라본다는', '것', '단순히', '보는', '것만이', '아닙니다', '그', '속에서', '우리를', '발견하고', '더', '나아가서', '함께', '살아가야', '할', '지구촌', '가족을', '봅니다', '세상을', '보여준다는', '것', '단순히', '보여주는', '것을', '넘어서서', '무한한', '가능성과', '대자연의', '섭리', '그리고', '거기서', '소통하고', '나누는', '마음을', '보여줍니다', '우리는', '네모난', '세상', '둥그런', '세상을', '떠나', '규정할', '수', '없는', '무한한', '가능성의', '세계', '그', '안에서', '유연하고', '혁신적인', '지속가능한', '내일을', '만납니다', 'about', 'this', 'report', '보고서', '개요', '삼성디스플레이는', '경영활동을', '통해', '창출되는', '경제', '사회', '환경적', '가치', '와', '성과를', '다양한', '이해관계자에게', '투명하게', '공개하고', '소통하고자', '첫', '번째', '지속가능경영', '보고서를', '발간합니다']\n",
      "['보고', '기간', '본', '보고서는', '년', '월', '일부터', '년', '월', '일까지의', '경제', '사', '회', '환경적', '성과와', '활동을', '담고', '있으며', '일부', '성과의', '경우에는', '년', '월까지의', '정보를', '포함하고', '있습니다']\n",
      "['연속적인', '추이', '파악이', '필요한', '성과의', '경우', '이전', '개년', '이상의', '데이터를', '제시하고', '있습니다']\n"
     ]
    }
   ],
   "source": [
    "for line in result[:3]:\n",
    "    print(line)"
   ]
  },
  {
   "cell_type": "code",
   "execution_count": 30,
   "metadata": {},
   "outputs": [
    {
     "name": "stderr",
     "output_type": "stream",
     "text": [
      "C:\\Users\\rnru1\\anaconda3\\envs\\abangues\\lib\\site-packages\\gensim\\utils.py:1212: UserWarning: detected Windows; aliasing chunkize to chunkize_serial\n",
      "  warnings.warn(\"detected Windows; aliasing chunkize to chunkize_serial\")\n",
      "WARNING:gensim.models.base_any2vec:under 10 jobs per worker: consider setting a smaller `batch_words' for smoother alpha decay\n"
     ]
    }
   ],
   "source": [
    "from gensim.models import Word2Vec\n",
    "model = Word2Vec(sentences=result, size=100, window=5, min_count=5, workers=4, sg=0)"
   ]
  },
  {
   "cell_type": "code",
   "execution_count": 32,
   "metadata": {},
   "outputs": [
    {
     "data": {
      "text/plain": [
       "<gensim.models.word2vec.Word2Vec at 0x1f2f0e21d48>"
      ]
     },
     "execution_count": 32,
     "metadata": {},
     "output_type": "execute_result"
    }
   ],
   "source": [
    "model"
   ]
  },
  {
   "cell_type": "code",
   "execution_count": 33,
   "metadata": {},
   "outputs": [
    {
     "name": "stdout",
     "output_type": "stream",
     "text": [
      "[('및', 0.9998514652252197), ('통해', 0.9998272061347961), ('삼성디스플레이는', 0.9998113512992859), ('지원', 0.9998031854629517), ('위해', 0.999797523021698), ('위한', 0.9997949004173279), ('년', 0.9997895956039429), ('에너지', 0.9997837543487549), ('있습니다', 0.9997823238372803), ('등', 0.9997814893722534)]\n"
     ]
    }
   ],
   "source": [
    "model_result = model.wv.most_similar(\"관리\")\n",
    "print(model_result)"
   ]
  },
  {
   "cell_type": "code",
   "execution_count": null,
   "metadata": {},
   "outputs": [],
   "source": []
  }
 ],
 "metadata": {
  "kernelspec": {
   "display_name": "Python 3",
   "language": "python",
   "name": "python3"
  },
  "language_info": {
   "codemirror_mode": {
    "name": "ipython",
    "version": 3
   },
   "file_extension": ".py",
   "mimetype": "text/x-python",
   "name": "python",
   "nbconvert_exporter": "python",
   "pygments_lexer": "ipython3",
   "version": "3.7.9"
  }
 },
 "nbformat": 4,
 "nbformat_minor": 4
}
