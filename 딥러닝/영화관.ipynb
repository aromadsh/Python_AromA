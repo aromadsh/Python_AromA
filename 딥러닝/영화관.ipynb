{
 "cells": [
  {
   "cell_type": "code",
   "execution_count": 1,
   "metadata": {},
   "outputs": [],
   "source": [
    "movies = [\"A\", 'B', \"C\"]"
   ]
  },
  {
   "cell_type": "code",
   "execution_count": 13,
   "metadata": {
    "scrolled": true
   },
   "outputs": [
    {
     "name": "stdout",
     "output_type": "stream",
     "text": [
      "====================\n",
      "A\n",
      "B\n",
      "C\n",
      "====================\n",
      "영화예매를 선택해주세요.A\n",
      "A를 예매하였습니다.\n"
     ]
    }
   ],
   "source": [
    "class movie_select:\n",
    "    \n",
    "    def __init__(self, choice):\n",
    "        self.choice = choice\n",
    "        \n",
    "    print(\"{}\".format(\"=\"*20))\n",
    "    for i in range(len(movies)):\n",
    "        print(movies[i])    \n",
    "    print(\"{}\".format(\"=\"*20))\n",
    "\n",
    "    choice = input(\"영화예매를 선택해주세요.\")\n",
    "    while True :\n",
    "        if choice  not in movies:\n",
    "            choice = input(\"예매할 수 없는 영화입니다. 영화예매를 선택해주세요.\")\n",
    "        elif choice in movies :\n",
    "            print(\"{}를 예매하였습니다.\".format(choice))\n",
    "            break\n"
   ]
  },
  {
   "cell_type": "code",
   "execution_count": null,
   "metadata": {},
   "outputs": [],
   "source": []
  }
 ],
 "metadata": {
  "kernelspec": {
   "display_name": "Python 3",
   "language": "python",
   "name": "python3"
  },
  "language_info": {
   "codemirror_mode": {
    "name": "ipython",
    "version": 3
   },
   "file_extension": ".py",
   "mimetype": "text/x-python",
   "name": "python",
   "nbconvert_exporter": "python",
   "pygments_lexer": "ipython3",
   "version": "3.7.9"
  }
 },
 "nbformat": 4,
 "nbformat_minor": 4
}
