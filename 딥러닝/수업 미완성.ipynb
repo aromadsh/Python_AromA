{
 "cells": [
  {
   "cell_type": "code",
   "execution_count": 1,
   "metadata": {},
   "outputs": [],
   "source": [
    "import pandas as pd\n",
    "import pymysql\n",
    "from datetime import datetime\n",
    "from datetime import timedelta\n",
    "import re"
   ]
  },
  {
   "cell_type": "code",
   "execution_count": 2,
   "metadata": {},
   "outputs": [],
   "source": [
    "class MarketDB:\n",
    "    def __inti__(self):\n",
    "        \"\"\"생성자 : MySQL 연결 및 종목코드 딕셔너리 생성\"\"\"\n",
    "        self.conn = pymysql.connect(host = 'localhost', user = 'root', password = \"qor100\", db = 'INVESTAR', charset = 'utf8' )\n",
    "        self.codes = {}\n",
    "        self.get_comp_info()\n",
    "    \n",
    "    def __del__(self):\n",
    "        \"\"\"소멸자 : MySQL 연결 해제\"\"\"\n",
    "        self.conn.close()\n",
    "        \n",
    "    def get_comp_info(self):\n",
    "        \"\"\"company_info 테이블에서 읽어와서 codes에 저장\"\"\"\n",
    "        sql = 'SELECT * FROM company_info'\n",
    "        krx = pd.read_sql(sql, self.conn)\n",
    "        for idx in range(len(krx)):\n",
    "            self.codes[krx['code'].values[idx]] = krx['company'].values[idx]\n",
    "            \n",
    "    def get_daily_price(self, code, start_date=None, end_date=None):\n",
    "        \"\"\"KRX 종목의 일별 시세를 데이터프레임 형태로 반환\n",
    "            - code : KRX 종목코드('005930') 또는 상장기업명 ('삼성전자')\n",
    "            start_date : 조회 시작일 (\"2020-01-01\"), 미입력시 1년 전 오늘\n",
    "            end_date : 조회 종료일 (\"2020-12-31\"), 미입력시 오늘 날짜\n",
    "            \"\"\"\n",
    "        if start_date is None:\n",
    "            one_year_ago = datetime.today() - timedelta(days=365) # 1년 전 데이터를 가져온다\n",
    "            start_date = one_year_ago.strftime('%Y-%m-%d')\n",
    "            print(\"start_date is initialized to '{}'\".format(start_date))\n",
    "            \n",
    "        else :\n",
    "            start_lst = re.split('\\D+', start_date)\n",
    "            if start_lst[0] == '':\n",
    "                start_lst = start_lst[1:]\n",
    "            start_year = int(start_lst[0])\n",
    "            start_month = int(start_lst[1])\n",
    "            start_day = int(start_lst[2])\n",
    "            \n",
    "            if start_year < 1900 or start_year > 2200:\n",
    "                print(f\"ValueError : start_year({start_year:d}) is wrong\")\n",
    "                return\n",
    "            if start_month < 1 or start_month >12:\n",
    "                print(f\"ValueError : start_month ({start_month:d})is wrong\")\n",
    "                return\n",
    "            if start_day < 1 or start_day > 31:\n",
    "                print(f\"ValueError : start_day({start_day:d}) is wrong\")\n",
    "                return\n",
    "            start_date=f\"{start_year:04d}-{start_month:02d}-{start_day:02d}\"\n",
    "        \n",
    "        if start_date is None:\n",
    "            one_year_ago = datetime.today() - timedelta(days=365) # 1년 전 데이터를 가져온다\n",
    "            start_date = one_year_ago.strftime('%Y-%m-%d')\n",
    "            print(\"start_date is initialized to '{}'\".format(start_date))\n",
    "            \n",
    "        else :\n",
    "            end_lst = re.split('\\D+', end_date)\n",
    "            if end_lst[0] == '':\n",
    "                end_lst = end_lst[1:]\n",
    "            end_year = int(end_lst[0])\n",
    "            end_month = int(end_lst[1])\n",
    "            end_day = int(end_lst[2])\n",
    "            \n",
    "            if end_year < 1900 or end_year > 2200:\n",
    "                print(f\"ValueError : start_year({start_year:d}) is wrong\")\n",
    "                return\n",
    "            if end_month < 1 or end_month >12:\n",
    "                print(f\"ValueError : start_month ({start_month:d})is wrong\")\n",
    "                return\n",
    "            if end_day < 1 or end_day > 31:\n",
    "                print(f\"ValueError : start_day({start_day:d}) is wrong\")\n",
    "                return\n",
    "            end_date=f\"{end_year:04d}-{end_month:02d}-{end_day:02d}\"\n",
    "            \n",
    "        codes_keys = list(self.codes.keys())\n",
    "        codes_values = list(self.codes.values())\n",
    "        \n",
    "        if code in codes_keys:\n",
    "            pass\n",
    "        elif code in codes_values:\n",
    "            idx = codes_values.index(code)\n",
    "            code = codes_keys[idx]\n",
    "        else :\n",
    "            print(f\"ValueError : Code({code}) dosen't exist\")\n",
    "        \n",
    "        sql = f\"SELECT * FROM daily_price WHERE code = '{code}' and date >= '{start_date}' and date <= '{end_date}'\"\n",
    "        df = pd.read_sql(sql, self.conn)\n",
    "        df.index = df['date']\n",
    "        return df"
   ]
  },
  {
   "cell_type": "code",
   "execution_count": 3,
   "metadata": {},
   "outputs": [],
   "source": [
    "mk = MarketDB()"
   ]
  },
  {
   "cell_type": "code",
   "execution_count": 4,
   "metadata": {},
   "outputs": [
    {
     "ename": "AttributeError",
     "evalue": "'MarketDB' object has no attribute 'codes'",
     "output_type": "error",
     "traceback": [
      "\u001b[1;31m---------------------------------------------------------------------------\u001b[0m",
      "\u001b[1;31mAttributeError\u001b[0m                            Traceback (most recent call last)",
      "\u001b[1;32m<ipython-input-4-328f5d256174>\u001b[0m in \u001b[0;36m<module>\u001b[1;34m\u001b[0m\n\u001b[1;32m----> 1\u001b[1;33m \u001b[0mraw_df\u001b[0m \u001b[1;33m=\u001b[0m \u001b[0mmk\u001b[0m\u001b[1;33m.\u001b[0m\u001b[0mget_daily_price\u001b[0m\u001b[1;33m(\u001b[0m\u001b[1;34m'삼성전자'\u001b[0m\u001b[1;33m,\u001b[0m \u001b[1;34m'2018-05-04'\u001b[0m\u001b[1;33m,\u001b[0m \u001b[1;34m'2020-01-22'\u001b[0m\u001b[1;33m)\u001b[0m\u001b[1;33m\u001b[0m\u001b[1;33m\u001b[0m\u001b[0m\n\u001b[0m",
      "\u001b[1;32m<ipython-input-2-62c847a3878b>\u001b[0m in \u001b[0;36mget_daily_price\u001b[1;34m(self, code, start_date, end_date)\u001b[0m\n\u001b[0;32m     71\u001b[0m             \u001b[0mend_date\u001b[0m\u001b[1;33m=\u001b[0m\u001b[1;34mf\"{end_year:04d}-{end_month:02d}-{end_day:02d}\"\u001b[0m\u001b[1;33m\u001b[0m\u001b[1;33m\u001b[0m\u001b[0m\n\u001b[0;32m     72\u001b[0m \u001b[1;33m\u001b[0m\u001b[0m\n\u001b[1;32m---> 73\u001b[1;33m         \u001b[0mcodes_keys\u001b[0m \u001b[1;33m=\u001b[0m \u001b[0mlist\u001b[0m\u001b[1;33m(\u001b[0m\u001b[0mself\u001b[0m\u001b[1;33m.\u001b[0m\u001b[0mcodes\u001b[0m\u001b[1;33m.\u001b[0m\u001b[0mkeys\u001b[0m\u001b[1;33m(\u001b[0m\u001b[1;33m)\u001b[0m\u001b[1;33m)\u001b[0m\u001b[1;33m\u001b[0m\u001b[1;33m\u001b[0m\u001b[0m\n\u001b[0m\u001b[0;32m     74\u001b[0m         \u001b[0mcodes_values\u001b[0m \u001b[1;33m=\u001b[0m \u001b[0mlist\u001b[0m\u001b[1;33m(\u001b[0m\u001b[0mself\u001b[0m\u001b[1;33m.\u001b[0m\u001b[0mcodes\u001b[0m\u001b[1;33m.\u001b[0m\u001b[0mvalues\u001b[0m\u001b[1;33m(\u001b[0m\u001b[1;33m)\u001b[0m\u001b[1;33m)\u001b[0m\u001b[1;33m\u001b[0m\u001b[1;33m\u001b[0m\u001b[0m\n\u001b[0;32m     75\u001b[0m \u001b[1;33m\u001b[0m\u001b[0m\n",
      "\u001b[1;31mAttributeError\u001b[0m: 'MarketDB' object has no attribute 'codes'"
     ]
    }
   ],
   "source": [
    "raw_df = mk.get_daily_price('삼성전자', '2018-05-04', '2020-01-22')"
   ]
  },
  {
   "cell_type": "code",
   "execution_count": null,
   "metadata": {},
   "outputs": [],
   "source": []
  }
 ],
 "metadata": {
  "kernelspec": {
   "display_name": "Python 3",
   "language": "python",
   "name": "python3"
  },
  "language_info": {
   "codemirror_mode": {
    "name": "ipython",
    "version": 3
   },
   "file_extension": ".py",
   "mimetype": "text/x-python",
   "name": "python",
   "nbconvert_exporter": "python",
   "pygments_lexer": "ipython3",
   "version": "3.7.9"
  }
 },
 "nbformat": 4,
 "nbformat_minor": 4
}
