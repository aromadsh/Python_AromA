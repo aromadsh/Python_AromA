{
 "cells": [
  {
   "cell_type": "code",
   "execution_count": 1,
   "metadata": {},
   "outputs": [],
   "source": [
    "import pandas as pd\n",
    "import pymysql\n",
    "from datetime import datetime\n",
    "from datetime import timedelta\n",
    "import re"
   ]
  },
  {
   "cell_type": "markdown",
   "metadata": {},
   "source": [
    "!jupyter nbconvert --to python Analyzer.ipynb"
   ]
  },
  {
   "cell_type": "code",
   "execution_count": 20,
   "metadata": {},
   "outputs": [],
   "source": [
    "class MarketDB :\n",
    "    def __init__(self):\n",
    "        \"\"\"생성자: MariaDB 연결 및 종목코드 딕셔너리 생성\"\"\"\n",
    "        self.conn = pymysql.connect(host='localhost', user='root',\n",
    "            password='qor100', db='INVESTAR', charset='utf8')\n",
    "        self.codes = {}\n",
    "        self.update_comp_info()\n",
    "                            \n",
    "    def __del__(self):\n",
    "        \"\"\"소멸자: MariaDB 연결 해제\"\"\"\n",
    "        self.conn.close() \n",
    "        \n",
    "    def update_comp_info(self):\n",
    "        \"\"\"종목코드를 company_info 테이블에 업데이트 한 후 딕셔너리에 저장\"\"\"\n",
    "        sql = \"SELECT * FROM company_info\"\n",
    "        df = pd.read_sql(sql, self.conn)\n",
    "        for idx in range(len(df)):\n",
    "            self.codes[df['code'].values[idx]] = df['company'].values[idx]\n",
    "                    \n",
    "    def get_daily_price(self, code, start_date=None, end_date=None):\n",
    "        \"\"\"시작 날짜 입력 내용\"\"\"\n",
    "        if start_date is None:\n",
    "            one_year_ago = datetime.today() - timedelta(days=365)\n",
    "            start_date = one_year_ago.strftime('%Y-%m-%d')\n",
    "            print(\"시작일을 입력하지 않아 작년부터 시작합니다. '{}'\".format(start_date))\n",
    "        else :\n",
    "            start_lst = re.split('\\D+', start_date) # 년, 월, 일 나눠서 리스트로 출력\n",
    "#             if (start_lst[0] == ''):\n",
    "#                 start_lst = start_lst[1:]\n",
    "            start_year = int(start_lst[0])\n",
    "            start_month = int(start_lst[1])\n",
    "            start_day = int(start_lst[2])\n",
    "                \n",
    "            if start_year < 1900 or start_year > 2200:\n",
    "                print(f'({start_year:d}) 2017년도 부터 입력 가능합니다.')\n",
    "                return\n",
    "            if start_month < 1 or start_month > 12:\n",
    "                print(f'({start_month:d}) 1~12월까지만 입력이 가능합니다.')\n",
    "                return\n",
    "            if start_day < 1 or start_day > 31 :\n",
    "                print(f'({start_day:d}) 1~31일까지만 입력이 가능합니다.')\n",
    "                return\n",
    "            start_date=f\"{start_year:04d}-{start_month:02d}-{start_day:02d}\"\n",
    "                \n",
    "        if (end_date is None):\n",
    "                end_date = datetime.today().strftime('%Y-%m-%d')\n",
    "                print(\"마지막 일을 입력하지 않아 오늘 날짜로 시작합니다. '{}'\".format(end_date))\n",
    "        else :\n",
    "                \n",
    "            end_lst = re.split('\\D+', end_date)\n",
    "#             if (end_lst[0] == ''):\n",
    "#                 end_lst = end_lst[1:]\n",
    "            end_year = int(end_lst[0])\n",
    "            end_month = int(end_lst[1])\n",
    "            end_day = int(end_lst[2])\n",
    "            \n",
    "            if end_year < 1900 or end_year > 2200:\n",
    "                print(f'({end_year:d}) 2021년도 이전만 가능합니다.')\n",
    "                return\n",
    "            if end_month < 1 or end_month > 12:\n",
    "                print(f'({end_month:d}) 1~12월까지만 입력이 가능합니다.')\n",
    "                return\n",
    "            if end_day < 1 or end_day > 31 :\n",
    "                print(f'({end_day:d}) 1~31일까지만 입력이 가능합니다.')\n",
    "                return\n",
    "            end_date=f\"{end_year:04d}-{end_month:02d}-{end_day:02d}\"        \n",
    "        \n",
    "        codes_keys = list(self.codes.keys())\n",
    "        codes_values = list(self.codes.values())\n",
    "        if code in codes_keys:\n",
    "            pass\n",
    "        elif code in codes_values:\n",
    "            idx = codes_values.index(code)\n",
    "            code = codes_keys[idx]\n",
    "        else :\n",
    "            print(\"({}) 이 코드 및 회사명은 존재하지 않습니다.\".format(code))\n",
    "\n",
    "        sql = f\"SELECT * FROM daily_price WHERE (code = '{code}' and date >= '{start_date}' and date <= '{end_date}')\"\n",
    "        df = pd.read_sql(sql, self.conn)\n",
    "        df.index = df['date']\n",
    "        return df"
   ]
  },
  {
   "cell_type": "code",
   "execution_count": 3,
   "metadata": {},
   "outputs": [
    {
     "name": "stderr",
     "output_type": "stream",
     "text": [
      "[NbConvertApp] Converting notebook MarketDB.ipynb to python\n",
      "[NbConvertApp] Writing 3711 bytes to MarketDB.py\n"
     ]
    }
   ],
   "source": [
    "!jupyter nbconvert --to python MarketDB.ipynb"
   ]
  },
  {
   "cell_type": "code",
   "execution_count": 22,
   "metadata": {},
   "outputs": [
    {
     "name": "stdout",
     "output_type": "stream",
     "text": [
      "시작일을 입력하지 않아 작년부터 시작합니다. '2020-06-22'\n",
      "마지막 일을 입력하지 않아 오늘 날짜로 시작합니다. '2021-06-22'\n"
     ]
    },
    {
     "data": {
      "text/html": [
       "<div>\n",
       "<style scoped>\n",
       "    .dataframe tbody tr th:only-of-type {\n",
       "        vertical-align: middle;\n",
       "    }\n",
       "\n",
       "    .dataframe tbody tr th {\n",
       "        vertical-align: top;\n",
       "    }\n",
       "\n",
       "    .dataframe thead th {\n",
       "        text-align: right;\n",
       "    }\n",
       "</style>\n",
       "<table border=\"1\" class=\"dataframe\">\n",
       "  <thead>\n",
       "    <tr style=\"text-align: right;\">\n",
       "      <th></th>\n",
       "      <th>code</th>\n",
       "      <th>date</th>\n",
       "      <th>open</th>\n",
       "      <th>high</th>\n",
       "      <th>low</th>\n",
       "      <th>close</th>\n",
       "      <th>diff</th>\n",
       "      <th>volume</th>\n",
       "    </tr>\n",
       "    <tr>\n",
       "      <th>date</th>\n",
       "      <th></th>\n",
       "      <th></th>\n",
       "      <th></th>\n",
       "      <th></th>\n",
       "      <th></th>\n",
       "      <th></th>\n",
       "      <th></th>\n",
       "      <th></th>\n",
       "    </tr>\n",
       "  </thead>\n",
       "  <tbody>\n",
       "    <tr>\n",
       "      <th>2020-06-22</th>\n",
       "      <td>005930</td>\n",
       "      <td>2020-06-22</td>\n",
       "      <td>52000</td>\n",
       "      <td>52600</td>\n",
       "      <td>51800</td>\n",
       "      <td>52000</td>\n",
       "      <td>900</td>\n",
       "      <td>13801350</td>\n",
       "    </tr>\n",
       "    <tr>\n",
       "      <th>2020-06-23</th>\n",
       "      <td>005930</td>\n",
       "      <td>2020-06-23</td>\n",
       "      <td>52500</td>\n",
       "      <td>52800</td>\n",
       "      <td>51100</td>\n",
       "      <td>51400</td>\n",
       "      <td>600</td>\n",
       "      <td>18086152</td>\n",
       "    </tr>\n",
       "    <tr>\n",
       "      <th>2020-06-24</th>\n",
       "      <td>005930</td>\n",
       "      <td>2020-06-24</td>\n",
       "      <td>51900</td>\n",
       "      <td>53900</td>\n",
       "      <td>51600</td>\n",
       "      <td>52900</td>\n",
       "      <td>1500</td>\n",
       "      <td>24519552</td>\n",
       "    </tr>\n",
       "    <tr>\n",
       "      <th>2020-06-25</th>\n",
       "      <td>005930</td>\n",
       "      <td>2020-06-25</td>\n",
       "      <td>52100</td>\n",
       "      <td>53000</td>\n",
       "      <td>51900</td>\n",
       "      <td>51900</td>\n",
       "      <td>1000</td>\n",
       "      <td>18541624</td>\n",
       "    </tr>\n",
       "    <tr>\n",
       "      <th>2020-06-26</th>\n",
       "      <td>005930</td>\n",
       "      <td>2020-06-26</td>\n",
       "      <td>52800</td>\n",
       "      <td>53900</td>\n",
       "      <td>52200</td>\n",
       "      <td>53300</td>\n",
       "      <td>1400</td>\n",
       "      <td>21575360</td>\n",
       "    </tr>\n",
       "    <tr>\n",
       "      <th>...</th>\n",
       "      <td>...</td>\n",
       "      <td>...</td>\n",
       "      <td>...</td>\n",
       "      <td>...</td>\n",
       "      <td>...</td>\n",
       "      <td>...</td>\n",
       "      <td>...</td>\n",
       "      <td>...</td>\n",
       "    </tr>\n",
       "    <tr>\n",
       "      <th>2021-06-14</th>\n",
       "      <td>005930</td>\n",
       "      <td>2021-06-14</td>\n",
       "      <td>80800</td>\n",
       "      <td>80900</td>\n",
       "      <td>80500</td>\n",
       "      <td>80500</td>\n",
       "      <td>500</td>\n",
       "      <td>10550078</td>\n",
       "    </tr>\n",
       "    <tr>\n",
       "      <th>2021-06-15</th>\n",
       "      <td>005930</td>\n",
       "      <td>2021-06-15</td>\n",
       "      <td>80900</td>\n",
       "      <td>81200</td>\n",
       "      <td>80600</td>\n",
       "      <td>80900</td>\n",
       "      <td>400</td>\n",
       "      <td>10075685</td>\n",
       "    </tr>\n",
       "    <tr>\n",
       "      <th>2021-06-16</th>\n",
       "      <td>005930</td>\n",
       "      <td>2021-06-16</td>\n",
       "      <td>81500</td>\n",
       "      <td>81900</td>\n",
       "      <td>81100</td>\n",
       "      <td>81800</td>\n",
       "      <td>900</td>\n",
       "      <td>14999855</td>\n",
       "    </tr>\n",
       "    <tr>\n",
       "      <th>2021-06-17</th>\n",
       "      <td>005930</td>\n",
       "      <td>2021-06-17</td>\n",
       "      <td>81100</td>\n",
       "      <td>81300</td>\n",
       "      <td>80700</td>\n",
       "      <td>80900</td>\n",
       "      <td>900</td>\n",
       "      <td>14007385</td>\n",
       "    </tr>\n",
       "    <tr>\n",
       "      <th>2021-06-18</th>\n",
       "      <td>005930</td>\n",
       "      <td>2021-06-18</td>\n",
       "      <td>81100</td>\n",
       "      <td>81100</td>\n",
       "      <td>80500</td>\n",
       "      <td>80500</td>\n",
       "      <td>400</td>\n",
       "      <td>14618173</td>\n",
       "    </tr>\n",
       "  </tbody>\n",
       "</table>\n",
       "<p>247 rows × 8 columns</p>\n",
       "</div>"
      ],
      "text/plain": [
       "              code        date   open   high    low  close  diff    volume\n",
       "date                                                                      \n",
       "2020-06-22  005930  2020-06-22  52000  52600  51800  52000   900  13801350\n",
       "2020-06-23  005930  2020-06-23  52500  52800  51100  51400   600  18086152\n",
       "2020-06-24  005930  2020-06-24  51900  53900  51600  52900  1500  24519552\n",
       "2020-06-25  005930  2020-06-25  52100  53000  51900  51900  1000  18541624\n",
       "2020-06-26  005930  2020-06-26  52800  53900  52200  53300  1400  21575360\n",
       "...            ...         ...    ...    ...    ...    ...   ...       ...\n",
       "2021-06-14  005930  2021-06-14  80800  80900  80500  80500   500  10550078\n",
       "2021-06-15  005930  2021-06-15  80900  81200  80600  80900   400  10075685\n",
       "2021-06-16  005930  2021-06-16  81500  81900  81100  81800   900  14999855\n",
       "2021-06-17  005930  2021-06-17  81100  81300  80700  80900   900  14007385\n",
       "2021-06-18  005930  2021-06-18  81100  81100  80500  80500   400  14618173\n",
       "\n",
       "[247 rows x 8 columns]"
      ]
     },
     "execution_count": 22,
     "metadata": {},
     "output_type": "execute_result"
    }
   ],
   "source": [
    "mk = MarketDB()\n",
    "mk.get_daily_price('삼성전자')"
   ]
  },
  {
   "cell_type": "code",
   "execution_count": 4,
   "metadata": {},
   "outputs": [
    {
     "data": {
      "text/plain": [
       "'2020'"
      ]
     },
     "execution_count": 4,
     "metadata": {},
     "output_type": "execute_result"
    }
   ],
   "source": [
    "a[0]"
   ]
  },
  {
   "cell_type": "code",
   "execution_count": 15,
   "metadata": {},
   "outputs": [
    {
     "name": "stdout",
     "output_type": "stream",
     "text": [
      "dfe\n"
     ]
    }
   ],
   "source": [
    "if (a[0] == ''):\n",
    "    print(\"rnfk\")\n",
    "    \n",
    "elif (a[0] == \"2020\"):\n",
    "    print(\"dfe\")"
   ]
  },
  {
   "cell_type": "code",
   "execution_count": 10,
   "metadata": {},
   "outputs": [
    {
     "data": {
      "text/plain": [
       "'2020'"
      ]
     },
     "execution_count": 10,
     "metadata": {},
     "output_type": "execute_result"
    }
   ],
   "source": [
    "a[0]"
   ]
  },
  {
   "cell_type": "code",
   "execution_count": null,
   "metadata": {},
   "outputs": [],
   "source": []
  }
 ],
 "metadata": {
  "kernelspec": {
   "display_name": "Python 3",
   "language": "python",
   "name": "python3"
  },
  "language_info": {
   "codemirror_mode": {
    "name": "ipython",
    "version": 3
   },
   "file_extension": ".py",
   "mimetype": "text/x-python",
   "name": "python",
   "nbconvert_exporter": "python",
   "pygments_lexer": "ipython3",
   "version": "3.7.9"
  }
 },
 "nbformat": 4,
 "nbformat_minor": 4
}
