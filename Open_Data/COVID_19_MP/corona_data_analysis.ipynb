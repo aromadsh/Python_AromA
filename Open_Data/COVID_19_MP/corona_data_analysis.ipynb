{
 "cells": [
  {
   "cell_type": "markdown",
   "metadata": {},
   "source": [
    "# 코로나 데이터 분석"
   ]
  },
  {
   "cell_type": "markdown",
   "metadata": {},
   "source": [
    "## 프로젝트 목표\n",
    "\n",
    "* 서울시 코로나19 확진자 현황 데이터를 분석하여 유의미한 정보 도출\n",
    "* 탐색적 데이터 분석을 수행하기 위한 데이터 정제, 특징 엔지니어링, 시각화 방법 학습"
   ]
  },
  {
   "cell_type": "markdown",
   "metadata": {},
   "source": [
    "## 프로젝트 목차\n",
    "1. **데이터 읽기:** 코로나 데이터를 불러오고 DataFrame 구조를 확인<br>\n",
    "    1.1 데이터 불러오기<br>\n",
    "<br>\n",
    "2. **데이터 청제:** 비어 있는 데이터 또는 쓸모 없는 데이터를 삭제<br>\n",
    "    2.1 비어있는 column 지우기<br>\n",
    "<br>\n",
    "3. **데이터 시각화:** 각 변수 별로 추가적인 정제 또는 feature engineering 과정을 거치고 시각화를 통하여 데이터의 특성 파악<br>\n",
    "    3.1 확진일 데이터 전처리하기 <br>\n",
    "    3.2 월별 확진자 수 출력 <br>\n",
    "    3.3 8월 일별 확진자 수 출력 <br>\n",
    "    3.4 지역별 확진자 수 출력 <br>\n",
    "    3.5 8월달 지역별 확진자 수 출력 <br>\n",
    "    3.6 월별 관악구 확진자 수 출력 <br>\n",
    "    3.7 서울 지역에서 확진자를 지도에 출력 <br>\n",
    "   "
   ]
  },
  {
   "cell_type": "markdown",
   "metadata": {},
   "source": [
    "## 데이터 출처\n",
    " * https://www.data.go.kr/tcs/dss/selectFileDataDetailView.do?publicDataPk=15063273"
   ]
  },
  {
   "cell_type": "markdown",
   "metadata": {},
   "source": [
    "---"
   ]
  },
  {
   "cell_type": "markdown",
   "metadata": {},
   "source": [
    "## 프로젝트 개요\n",
    "\n",
    "2020년 초에 발생한 코로나19바이러스는 세계적으로 대유행하였고 이에 대한 많은 분석이 이루어지고 있습니다. 유행 초기엔 이를 분석할 데이터가 충분하지 않았지만 6개월 이상이 지난 지금은 다양한 데이터 기관에서 코로나 관련 데이터를 공공으로 제공하고 있습니다.\n",
    "\n",
    "\n",
    "이번 프로젝트에서는 국내 공공데이터 포털에서 제공하는 `서울시 코로나 19확진자 현황` 데이터를 바탕으로 탐색적 데이터 분석을 수행해보겠습니다. 국내 데이터 중 확진자 비율이 제일 높고 사람이 제일 많은 서울시의 데이터를 선정하였으며, 이를 바탕으로 코로나19의 확진 추이 및 환자 특성에 대해서 데이터를 바탕으로 알아봅시다."
   ]
  },
  {
   "cell_type": "markdown",
   "metadata": {},
   "source": [
    "---"
   ]
  },
  {
   "cell_type": "markdown",
   "metadata": {},
   "source": [
    "### 1. 데이터 읽기\n",
    "\n",
    "\n",
    "필요한 패키지 설치 및 `import`한 후 `pandas` 를 사용하여 데이터를 읽고 어떠한 데이터가 저장되어 있는지 확인합니다.\n",
    "\n",
    "\n",
    "#### 1.1 데이터 불러오기"
   ]
  },
  {
   "cell_type": "code",
   "execution_count": 1,
   "metadata": {},
   "outputs": [],
   "source": [
    "import numpy as np\n",
    "import pandas as pd\n",
    "import matplotlib.pyplot as plt\n",
    "import seaborn as sns"
   ]
  },
  {
   "cell_type": "code",
   "execution_count": 2,
   "metadata": {},
   "outputs": [],
   "source": [
    "corona_all = pd.read_csv(\"서울시 코로나19 확진자 현황.csv\")"
   ]
  },
  {
   "cell_type": "code",
   "execution_count": 3,
   "metadata": {},
   "outputs": [
    {
     "data": {
      "text/html": [
       "<div>\n",
       "<style scoped>\n",
       "    .dataframe tbody tr th:only-of-type {\n",
       "        vertical-align: middle;\n",
       "    }\n",
       "\n",
       "    .dataframe tbody tr th {\n",
       "        vertical-align: top;\n",
       "    }\n",
       "\n",
       "    .dataframe thead th {\n",
       "        text-align: right;\n",
       "    }\n",
       "</style>\n",
       "<table border=\"1\" class=\"dataframe\">\n",
       "  <thead>\n",
       "    <tr style=\"text-align: right;\">\n",
       "      <th></th>\n",
       "      <th>연번</th>\n",
       "      <th>확진일</th>\n",
       "      <th>환자번호</th>\n",
       "      <th>국적</th>\n",
       "      <th>환자정보</th>\n",
       "      <th>지역</th>\n",
       "      <th>여행력</th>\n",
       "      <th>접촉력</th>\n",
       "      <th>조치사항</th>\n",
       "      <th>상태</th>\n",
       "      <th>이동경로</th>\n",
       "      <th>등록일</th>\n",
       "      <th>수정일</th>\n",
       "      <th>노출여부</th>\n",
       "    </tr>\n",
       "  </thead>\n",
       "  <tbody>\n",
       "    <tr>\n",
       "      <th>0</th>\n",
       "      <td>67422</td>\n",
       "      <td>2021-08-06</td>\n",
       "      <td>NaN</td>\n",
       "      <td>NaN</td>\n",
       "      <td>NaN</td>\n",
       "      <td>강서구</td>\n",
       "      <td>NaN</td>\n",
       "      <td>감염경로 조사중</td>\n",
       "      <td>NaN</td>\n",
       "      <td>-</td>\n",
       "      <td>NaN</td>\n",
       "      <td>2021-08-07 10:48:45</td>\n",
       "      <td>2021-08-07 10:48:45</td>\n",
       "      <td>Y</td>\n",
       "    </tr>\n",
       "    <tr>\n",
       "      <th>1</th>\n",
       "      <td>67421</td>\n",
       "      <td>2021-08-06</td>\n",
       "      <td>NaN</td>\n",
       "      <td>NaN</td>\n",
       "      <td>NaN</td>\n",
       "      <td>영등포구</td>\n",
       "      <td>NaN</td>\n",
       "      <td>기타 확진자 접촉</td>\n",
       "      <td>NaN</td>\n",
       "      <td>-</td>\n",
       "      <td>NaN</td>\n",
       "      <td>2021-08-07 10:48:45</td>\n",
       "      <td>2021-08-07 10:48:45</td>\n",
       "      <td>Y</td>\n",
       "    </tr>\n",
       "    <tr>\n",
       "      <th>2</th>\n",
       "      <td>67420</td>\n",
       "      <td>2021-08-06</td>\n",
       "      <td>NaN</td>\n",
       "      <td>NaN</td>\n",
       "      <td>NaN</td>\n",
       "      <td>중구</td>\n",
       "      <td>NaN</td>\n",
       "      <td>타시도 확진자 접촉</td>\n",
       "      <td>NaN</td>\n",
       "      <td>-</td>\n",
       "      <td>NaN</td>\n",
       "      <td>2021-08-07 10:48:45</td>\n",
       "      <td>2021-08-07 10:48:45</td>\n",
       "      <td>Y</td>\n",
       "    </tr>\n",
       "    <tr>\n",
       "      <th>3</th>\n",
       "      <td>67419</td>\n",
       "      <td>2021-08-06</td>\n",
       "      <td>NaN</td>\n",
       "      <td>NaN</td>\n",
       "      <td>NaN</td>\n",
       "      <td>송파구</td>\n",
       "      <td>NaN</td>\n",
       "      <td>감염경로 조사중</td>\n",
       "      <td>NaN</td>\n",
       "      <td>-</td>\n",
       "      <td>NaN</td>\n",
       "      <td>2021-08-07 10:48:45</td>\n",
       "      <td>2021-08-07 10:48:45</td>\n",
       "      <td>Y</td>\n",
       "    </tr>\n",
       "    <tr>\n",
       "      <th>4</th>\n",
       "      <td>67418</td>\n",
       "      <td>2021-08-06</td>\n",
       "      <td>NaN</td>\n",
       "      <td>NaN</td>\n",
       "      <td>NaN</td>\n",
       "      <td>은평구</td>\n",
       "      <td>NaN</td>\n",
       "      <td>기타 확진자 접촉</td>\n",
       "      <td>NaN</td>\n",
       "      <td>-</td>\n",
       "      <td>NaN</td>\n",
       "      <td>2021-08-07 10:48:45</td>\n",
       "      <td>2021-08-07 10:48:45</td>\n",
       "      <td>Y</td>\n",
       "    </tr>\n",
       "  </tbody>\n",
       "</table>\n",
       "</div>"
      ],
      "text/plain": [
       "      연번         확진일  환자번호  국적  환자정보    지역  여행력         접촉력  조치사항 상태  이동경로  \\\n",
       "0  67422  2021-08-06   NaN NaN   NaN   강서구  NaN    감염경로 조사중   NaN  -   NaN   \n",
       "1  67421  2021-08-06   NaN NaN   NaN  영등포구  NaN   기타 확진자 접촉   NaN  -   NaN   \n",
       "2  67420  2021-08-06   NaN NaN   NaN    중구  NaN  타시도 확진자 접촉   NaN  -   NaN   \n",
       "3  67419  2021-08-06   NaN NaN   NaN   송파구  NaN    감염경로 조사중   NaN  -   NaN   \n",
       "4  67418  2021-08-06   NaN NaN   NaN   은평구  NaN   기타 확진자 접촉   NaN  -   NaN   \n",
       "\n",
       "                   등록일                  수정일 노출여부  \n",
       "0  2021-08-07 10:48:45  2021-08-07 10:48:45    Y  \n",
       "1  2021-08-07 10:48:45  2021-08-07 10:48:45    Y  \n",
       "2  2021-08-07 10:48:45  2021-08-07 10:48:45    Y  \n",
       "3  2021-08-07 10:48:45  2021-08-07 10:48:45    Y  \n",
       "4  2021-08-07 10:48:45  2021-08-07 10:48:45    Y  "
      ]
     },
     "execution_count": 3,
     "metadata": {},
     "output_type": "execute_result"
    }
   ],
   "source": [
    "corona_all.head()"
   ]
  },
  {
   "cell_type": "code",
   "execution_count": 4,
   "metadata": {},
   "outputs": [
    {
     "name": "stdout",
     "output_type": "stream",
     "text": [
      "<class 'pandas.core.frame.DataFrame'>\n",
      "RangeIndex: 67422 entries, 0 to 67421\n",
      "Data columns (total 14 columns):\n",
      " #   Column  Non-Null Count  Dtype  \n",
      "---  ------  --------------  -----  \n",
      " 0   연번      67422 non-null  int64  \n",
      " 1   확진일     67422 non-null  object \n",
      " 2   환자번호    0 non-null      float64\n",
      " 3   국적      0 non-null      float64\n",
      " 4   환자정보    0 non-null      float64\n",
      " 5   지역      67422 non-null  object \n",
      " 6   여행력     1436 non-null   object \n",
      " 7   접촉력     67422 non-null  object \n",
      " 8   조치사항    0 non-null      float64\n",
      " 9   상태      67422 non-null  object \n",
      " 10  이동경로    0 non-null      float64\n",
      " 11  등록일     67422 non-null  object \n",
      " 12  수정일     67422 non-null  object \n",
      " 13  노출여부    67422 non-null  object \n",
      "dtypes: float64(5), int64(1), object(8)\n",
      "memory usage: 7.2+ MB\n"
     ]
    }
   ],
   "source": [
    "corona_all.info()"
   ]
  },
  {
   "cell_type": "markdown",
   "metadata": {},
   "source": [
    "---"
   ]
  },
  {
   "cell_type": "markdown",
   "metadata": {},
   "source": [
    "### 2. 데이터 정제\n",
    "\n",
    "데이터를 읽고 확인했다면 결측값(missing data), 이상치(outlier)를 처리하는 데이터 정제 과정을 수행하여 봅시다.\n",
    "\n",
    "#### 2.1 비어있는 column 지우기\n",
    "\n",
    "`corona_all.info()` 코드를 통하여 `국적`, `환자정보`, `조치사항`에 해당하는 데이터가 존재하지 않는 것을 알 수 있습니다.<br>\n",
    "`dataframe.drop()`를 사용하여 불필요한 `국적`, `환자정보`, `조치사항`의 column 데이터를 삭제하고 이 dataframe을 `corona_del_col`에 저장해 봅시다."
   ]
  },
  {
   "cell_type": "code",
   "execution_count": 5,
   "metadata": {},
   "outputs": [],
   "source": [
    "corona_del_col = corona_all.drop(columns = ['국적', '환자정보', '조치사항'])"
   ]
  },
  {
   "cell_type": "code",
   "execution_count": 6,
   "metadata": {},
   "outputs": [
    {
     "name": "stdout",
     "output_type": "stream",
     "text": [
      "<class 'pandas.core.frame.DataFrame'>\n",
      "RangeIndex: 67422 entries, 0 to 67421\n",
      "Data columns (total 11 columns):\n",
      " #   Column  Non-Null Count  Dtype  \n",
      "---  ------  --------------  -----  \n",
      " 0   연번      67422 non-null  int64  \n",
      " 1   확진일     67422 non-null  object \n",
      " 2   환자번호    0 non-null      float64\n",
      " 3   지역      67422 non-null  object \n",
      " 4   여행력     1436 non-null   object \n",
      " 5   접촉력     67422 non-null  object \n",
      " 6   상태      67422 non-null  object \n",
      " 7   이동경로    0 non-null      float64\n",
      " 8   등록일     67422 non-null  object \n",
      " 9   수정일     67422 non-null  object \n",
      " 10  노출여부    67422 non-null  object \n",
      "dtypes: float64(2), int64(1), object(8)\n",
      "memory usage: 5.7+ MB\n"
     ]
    }
   ],
   "source": [
    "corona_del_col.info()"
   ]
  },
  {
   "cell_type": "markdown",
   "metadata": {},
   "source": [
    "---"
   ]
  },
  {
   "cell_type": "markdown",
   "metadata": {},
   "source": [
    "### 3. 데이터 시각화\n",
    "\n",
    "데이터 정제를 완료한 `corona_del_col` 데이터를 바탕으로 각 column의 변수별로 어떠한 데이터 분포를 하고 있는지 시각화를 통하여 알아봅시다.\n",
    "\n",
    "#### 3.1 확진일 데이터 전처리하기\n",
    "\n",
    "`확진일` 데이터를 간단히 출력해보면 `월,일` 형태의 날짜 형식임을 알 수 있습니다. <br>\n",
    "월별, 일별 분석을 위해서는 문자열 형식의 데이터를 나누어 숫자 형 데이터로 변환해 보겠습니다."
   ]
  },
  {
   "cell_type": "code",
   "execution_count": 7,
   "metadata": {},
   "outputs": [
    {
     "data": {
      "text/plain": [
       "0        2021-08-06\n",
       "1        2021-08-06\n",
       "2        2021-08-06\n",
       "3        2021-08-06\n",
       "4        2021-08-06\n",
       "            ...    \n",
       "67417    2020-01-31\n",
       "67418    2020-01-30\n",
       "67419    2020-01-30\n",
       "67420    2020-01-30\n",
       "67421    2020-01-24\n",
       "Name: 확진일, Length: 67422, dtype: object"
      ]
     },
     "execution_count": 7,
     "metadata": {},
     "output_type": "execute_result"
    }
   ],
   "source": [
    "corona_del_col['확진일']"
   ]
  },
  {
   "cell_type": "markdown",
   "metadata": {},
   "source": [
    "`확진일` 데이터를 `month`, `day` 데이터로 나누기<br>\n",
    "`확진일`에 저장된 문자열 데이터를 나누어 `month`, `day` column에 int64 형태로 저장해 봅시다."
   ]
  },
  {
   "cell_type": "code",
   "execution_count": 15,
   "metadata": {},
   "outputs": [],
   "source": [
    "year = []\n",
    "month = []\n",
    "day = []\n",
    "\n",
    "for data in corona_del_col['확진일'] :\n",
    "    year.append(data.split('-')[0])\n",
    "    month.append(data.split('-')[1])\n",
    "    day.append(data.split('-')[2])"
   ]
  },
  {
   "cell_type": "code",
   "execution_count": 16,
   "metadata": {},
   "outputs": [
    {
     "data": {
      "text/html": [
       "<div>\n",
       "<style scoped>\n",
       "    .dataframe tbody tr th:only-of-type {\n",
       "        vertical-align: middle;\n",
       "    }\n",
       "\n",
       "    .dataframe tbody tr th {\n",
       "        vertical-align: top;\n",
       "    }\n",
       "\n",
       "    .dataframe thead th {\n",
       "        text-align: right;\n",
       "    }\n",
       "</style>\n",
       "<table border=\"1\" class=\"dataframe\">\n",
       "  <thead>\n",
       "    <tr style=\"text-align: right;\">\n",
       "      <th></th>\n",
       "      <th>연번</th>\n",
       "      <th>확진일</th>\n",
       "      <th>환자번호</th>\n",
       "      <th>지역</th>\n",
       "      <th>여행력</th>\n",
       "      <th>접촉력</th>\n",
       "      <th>상태</th>\n",
       "      <th>이동경로</th>\n",
       "      <th>등록일</th>\n",
       "      <th>수정일</th>\n",
       "      <th>노출여부</th>\n",
       "      <th>month</th>\n",
       "      <th>day</th>\n",
       "      <th>year</th>\n",
       "    </tr>\n",
       "  </thead>\n",
       "  <tbody>\n",
       "    <tr>\n",
       "      <th>0</th>\n",
       "      <td>67422</td>\n",
       "      <td>2021-08-06</td>\n",
       "      <td>NaN</td>\n",
       "      <td>강서구</td>\n",
       "      <td>NaN</td>\n",
       "      <td>감염경로 조사중</td>\n",
       "      <td>-</td>\n",
       "      <td>NaN</td>\n",
       "      <td>2021-08-07 10:48:45</td>\n",
       "      <td>2021-08-07 10:48:45</td>\n",
       "      <td>Y</td>\n",
       "      <td>08</td>\n",
       "      <td>06</td>\n",
       "      <td>2021</td>\n",
       "    </tr>\n",
       "    <tr>\n",
       "      <th>1</th>\n",
       "      <td>67421</td>\n",
       "      <td>2021-08-06</td>\n",
       "      <td>NaN</td>\n",
       "      <td>영등포구</td>\n",
       "      <td>NaN</td>\n",
       "      <td>기타 확진자 접촉</td>\n",
       "      <td>-</td>\n",
       "      <td>NaN</td>\n",
       "      <td>2021-08-07 10:48:45</td>\n",
       "      <td>2021-08-07 10:48:45</td>\n",
       "      <td>Y</td>\n",
       "      <td>08</td>\n",
       "      <td>06</td>\n",
       "      <td>2021</td>\n",
       "    </tr>\n",
       "    <tr>\n",
       "      <th>2</th>\n",
       "      <td>67420</td>\n",
       "      <td>2021-08-06</td>\n",
       "      <td>NaN</td>\n",
       "      <td>중구</td>\n",
       "      <td>NaN</td>\n",
       "      <td>타시도 확진자 접촉</td>\n",
       "      <td>-</td>\n",
       "      <td>NaN</td>\n",
       "      <td>2021-08-07 10:48:45</td>\n",
       "      <td>2021-08-07 10:48:45</td>\n",
       "      <td>Y</td>\n",
       "      <td>08</td>\n",
       "      <td>06</td>\n",
       "      <td>2021</td>\n",
       "    </tr>\n",
       "    <tr>\n",
       "      <th>3</th>\n",
       "      <td>67419</td>\n",
       "      <td>2021-08-06</td>\n",
       "      <td>NaN</td>\n",
       "      <td>송파구</td>\n",
       "      <td>NaN</td>\n",
       "      <td>감염경로 조사중</td>\n",
       "      <td>-</td>\n",
       "      <td>NaN</td>\n",
       "      <td>2021-08-07 10:48:45</td>\n",
       "      <td>2021-08-07 10:48:45</td>\n",
       "      <td>Y</td>\n",
       "      <td>08</td>\n",
       "      <td>06</td>\n",
       "      <td>2021</td>\n",
       "    </tr>\n",
       "    <tr>\n",
       "      <th>4</th>\n",
       "      <td>67418</td>\n",
       "      <td>2021-08-06</td>\n",
       "      <td>NaN</td>\n",
       "      <td>은평구</td>\n",
       "      <td>NaN</td>\n",
       "      <td>기타 확진자 접촉</td>\n",
       "      <td>-</td>\n",
       "      <td>NaN</td>\n",
       "      <td>2021-08-07 10:48:45</td>\n",
       "      <td>2021-08-07 10:48:45</td>\n",
       "      <td>Y</td>\n",
       "      <td>08</td>\n",
       "      <td>06</td>\n",
       "      <td>2021</td>\n",
       "    </tr>\n",
       "    <tr>\n",
       "      <th>...</th>\n",
       "      <td>...</td>\n",
       "      <td>...</td>\n",
       "      <td>...</td>\n",
       "      <td>...</td>\n",
       "      <td>...</td>\n",
       "      <td>...</td>\n",
       "      <td>...</td>\n",
       "      <td>...</td>\n",
       "      <td>...</td>\n",
       "      <td>...</td>\n",
       "      <td>...</td>\n",
       "      <td>...</td>\n",
       "      <td>...</td>\n",
       "      <td>...</td>\n",
       "    </tr>\n",
       "    <tr>\n",
       "      <th>67417</th>\n",
       "      <td>5</td>\n",
       "      <td>2020-01-31</td>\n",
       "      <td>NaN</td>\n",
       "      <td>성북구</td>\n",
       "      <td>NaN</td>\n",
       "      <td>기타 확진자 접촉</td>\n",
       "      <td>퇴원</td>\n",
       "      <td>NaN</td>\n",
       "      <td>2021-05-27 11:08:12</td>\n",
       "      <td>2021-05-27 11:08:12</td>\n",
       "      <td>Y</td>\n",
       "      <td>01</td>\n",
       "      <td>31</td>\n",
       "      <td>2020</td>\n",
       "    </tr>\n",
       "    <tr>\n",
       "      <th>67418</th>\n",
       "      <td>4</td>\n",
       "      <td>2020-01-30</td>\n",
       "      <td>NaN</td>\n",
       "      <td>마포구</td>\n",
       "      <td>중국</td>\n",
       "      <td>해외유입</td>\n",
       "      <td>퇴원</td>\n",
       "      <td>NaN</td>\n",
       "      <td>2021-05-27 11:08:12</td>\n",
       "      <td>2021-05-27 11:08:12</td>\n",
       "      <td>Y</td>\n",
       "      <td>01</td>\n",
       "      <td>30</td>\n",
       "      <td>2020</td>\n",
       "    </tr>\n",
       "    <tr>\n",
       "      <th>67419</th>\n",
       "      <td>3</td>\n",
       "      <td>2020-01-30</td>\n",
       "      <td>NaN</td>\n",
       "      <td>종로구</td>\n",
       "      <td>NaN</td>\n",
       "      <td>종로구 집단발병</td>\n",
       "      <td>퇴원</td>\n",
       "      <td>NaN</td>\n",
       "      <td>2021-05-27 11:08:12</td>\n",
       "      <td>2021-05-27 11:08:12</td>\n",
       "      <td>Y</td>\n",
       "      <td>01</td>\n",
       "      <td>30</td>\n",
       "      <td>2020</td>\n",
       "    </tr>\n",
       "    <tr>\n",
       "      <th>67420</th>\n",
       "      <td>2</td>\n",
       "      <td>2020-01-30</td>\n",
       "      <td>NaN</td>\n",
       "      <td>중랑구</td>\n",
       "      <td>중국</td>\n",
       "      <td>해외유입</td>\n",
       "      <td>퇴원</td>\n",
       "      <td>NaN</td>\n",
       "      <td>2021-05-27 11:08:12</td>\n",
       "      <td>2021-05-27 11:08:12</td>\n",
       "      <td>Y</td>\n",
       "      <td>01</td>\n",
       "      <td>30</td>\n",
       "      <td>2020</td>\n",
       "    </tr>\n",
       "    <tr>\n",
       "      <th>67421</th>\n",
       "      <td>1</td>\n",
       "      <td>2020-01-24</td>\n",
       "      <td>NaN</td>\n",
       "      <td>강서구</td>\n",
       "      <td>중국</td>\n",
       "      <td>해외유입</td>\n",
       "      <td>퇴원</td>\n",
       "      <td>NaN</td>\n",
       "      <td>2021-05-27 11:08:12</td>\n",
       "      <td>2021-05-27 11:08:12</td>\n",
       "      <td>Y</td>\n",
       "      <td>01</td>\n",
       "      <td>24</td>\n",
       "      <td>2020</td>\n",
       "    </tr>\n",
       "  </tbody>\n",
       "</table>\n",
       "<p>67422 rows × 14 columns</p>\n",
       "</div>"
      ],
      "text/plain": [
       "          연번         확진일  환자번호    지역  여행력         접촉력  상태  이동경로  \\\n",
       "0      67422  2021-08-06   NaN   강서구  NaN    감염경로 조사중   -   NaN   \n",
       "1      67421  2021-08-06   NaN  영등포구  NaN   기타 확진자 접촉   -   NaN   \n",
       "2      67420  2021-08-06   NaN    중구  NaN  타시도 확진자 접촉   -   NaN   \n",
       "3      67419  2021-08-06   NaN   송파구  NaN    감염경로 조사중   -   NaN   \n",
       "4      67418  2021-08-06   NaN   은평구  NaN   기타 확진자 접촉   -   NaN   \n",
       "...      ...         ...   ...   ...  ...         ...  ..   ...   \n",
       "67417      5  2020-01-31   NaN   성북구  NaN   기타 확진자 접촉  퇴원   NaN   \n",
       "67418      4  2020-01-30   NaN   마포구   중국        해외유입  퇴원   NaN   \n",
       "67419      3  2020-01-30   NaN   종로구  NaN    종로구 집단발병  퇴원   NaN   \n",
       "67420      2  2020-01-30   NaN   중랑구   중국        해외유입  퇴원   NaN   \n",
       "67421      1  2020-01-24   NaN   강서구   중국        해외유입  퇴원   NaN   \n",
       "\n",
       "                       등록일                  수정일 노출여부 month day  year  \n",
       "0      2021-08-07 10:48:45  2021-08-07 10:48:45    Y    08  06  2021  \n",
       "1      2021-08-07 10:48:45  2021-08-07 10:48:45    Y    08  06  2021  \n",
       "2      2021-08-07 10:48:45  2021-08-07 10:48:45    Y    08  06  2021  \n",
       "3      2021-08-07 10:48:45  2021-08-07 10:48:45    Y    08  06  2021  \n",
       "4      2021-08-07 10:48:45  2021-08-07 10:48:45    Y    08  06  2021  \n",
       "...                    ...                  ...  ...   ...  ..   ...  \n",
       "67417  2021-05-27 11:08:12  2021-05-27 11:08:12    Y    01  31  2020  \n",
       "67418  2021-05-27 11:08:12  2021-05-27 11:08:12    Y    01  30  2020  \n",
       "67419  2021-05-27 11:08:12  2021-05-27 11:08:12    Y    01  30  2020  \n",
       "67420  2021-05-27 11:08:12  2021-05-27 11:08:12    Y    01  30  2020  \n",
       "67421  2021-05-27 11:08:12  2021-05-27 11:08:12    Y    01  24  2020  \n",
       "\n",
       "[67422 rows x 14 columns]"
      ]
     },
     "execution_count": 16,
     "metadata": {},
     "output_type": "execute_result"
    }
   ],
   "source": [
    "corona_del_col['year'] = year\n",
    "corona_del_col['month'] = month\n",
    "corona_del_col['day'] = day\n",
    "\n",
    "corona_del_col['year'].astype('int64')\n",
    "corona_del_col['month'].astype('int64')\n",
    "corona_del_col['day'].astype('int64')\n",
    "corona_del_col"
   ]
  },
  {
   "cell_type": "markdown",
   "metadata": {},
   "source": [
    "#### 3.2 월별 확진자 수 출력\n",
    "\n",
    "- 나누어진 `month`의 데이터를 바탕으로 달별 확진자 수를 막대그래프로 출력해 보겠습니다."
   ]
  },
  {
   "cell_type": "code",
   "execution_count": 13,
   "metadata": {},
   "outputs": [
    {
     "data": {
      "text/plain": [
       "['1', '2', '3', '4', '5', '6', '7', '8', '9', '10', '11', '12']"
      ]
     },
     "execution_count": 13,
     "metadata": {},
     "output_type": "execute_result"
    }
   ],
   "source": [
    "order = []\n",
    "for i in range(1,13):\n",
    "    order.append(str(i))\n",
    "\n",
    "order"
   ]
  },
  {
   "cell_type": "code",
   "execution_count": 21,
   "metadata": {},
   "outputs": [
    {
     "data": {
      "text/html": [
       "<div>\n",
       "<style scoped>\n",
       "    .dataframe tbody tr th:only-of-type {\n",
       "        vertical-align: middle;\n",
       "    }\n",
       "\n",
       "    .dataframe tbody tr th {\n",
       "        vertical-align: top;\n",
       "    }\n",
       "\n",
       "    .dataframe thead th {\n",
       "        text-align: right;\n",
       "    }\n",
       "</style>\n",
       "<table border=\"1\" class=\"dataframe\">\n",
       "  <thead>\n",
       "    <tr style=\"text-align: right;\">\n",
       "      <th></th>\n",
       "      <th>연번</th>\n",
       "      <th>확진일</th>\n",
       "      <th>환자번호</th>\n",
       "      <th>지역</th>\n",
       "      <th>여행력</th>\n",
       "      <th>접촉력</th>\n",
       "      <th>상태</th>\n",
       "      <th>이동경로</th>\n",
       "      <th>등록일</th>\n",
       "      <th>수정일</th>\n",
       "      <th>노출여부</th>\n",
       "      <th>month</th>\n",
       "      <th>day</th>\n",
       "      <th>year</th>\n",
       "    </tr>\n",
       "  </thead>\n",
       "  <tbody>\n",
       "  </tbody>\n",
       "</table>\n",
       "</div>"
      ],
      "text/plain": [
       "Empty DataFrame\n",
       "Columns: [연번, 확진일, 환자번호, 지역, 여행력, 접촉력, 상태, 이동경로, 등록일, 수정일, 노출여부, month, day, year]\n",
       "Index: []"
      ]
     },
     "execution_count": 21,
     "metadata": {},
     "output_type": "execute_result"
    }
   ],
   "source": [
    "corona_del_col_2020 = corona_del_col[corona_del_col['year'] == 2020]\n",
    "corona_del_col_2020"
   ]
  },
  {
   "cell_type": "code",
   "execution_count": 20,
   "metadata": {},
   "outputs": [
    {
     "data": {
      "image/png": "[encoded data removed]",
      "text/plain": [
       "<Figure size 720x360 with 1 Axes>"
      ]
     },
     "metadata": {},
     "output_type": "display_data"
    }
   ],
   "source": [
    "plt.figure(figsize=(10,5))\n",
    "\n",
    "sns.set(style=\"darkgrid\")\n",
    "ax = sns.countplot(x='month', data=corona_del_col_2020, palette='Set2', order = order)"
   ]
  },
  {
   "cell_type": "code",
   "execution_count": null,
   "metadata": {},
   "outputs": [],
   "source": []
  }
 ],
 "metadata": {
  "kernelspec": {
   "display_name": "Python 3",
   "language": "python",
   "name": "python3"
  },
  "language_info": {
   "codemirror_mode": {
    "name": "ipython",
    "version": 3
   },
   "file_extension": ".py",
   "mimetype": "text/x-python",
   "name": "python",
   "nbconvert_exporter": "python",
   "pygments_lexer": "ipython3",
   "version": "3.7.9"
  }
 },
 "nbformat": 4,
 "nbformat_minor": 4
}
